{
 "cells": [
  {
   "cell_type": "code",
   "execution_count": 59,
   "metadata": {},
   "outputs": [],
   "source": [
    "import pandas as pd\n",
    "import subprocess\n",
    "import marshal\n",
    "import os\n",
    "from tqdm._tqdm_notebook import tqdm_notebook as tqdm\n",
    "tqdm.pandas()\n",
    "\n",
    "pd.options.display.max_colwidth=200"
   ]
  },
  {
   "cell_type": "code",
   "execution_count": 56,
   "metadata": {},
   "outputs": [],
   "source": [
    "def p4_output_to_df(p4_G_output):\n",
    "    marshal_bin=[b'{s'+i for i in p4_G_output.split(b'{s')[1:]] # first one is empty\n",
    "    out=[]\n",
    "    for o in marshal_bin:\n",
    "        try:\n",
    "            out+=[marshal.loads(o)]\n",
    "        except:\n",
    "            print('cannot read %s'%o)\n",
    "    df=pd.DataFrame(out)\n",
    "    # casting to utf:\n",
    "    if df.shape[0]<5:\n",
    "        print('df is empty:')\n",
    "        print(df.head(10))\n",
    "        return df\n",
    "    df=df.stack().str.decode('utf-8').unstack()\n",
    "    df.columns=df.columns.astype(str)\n",
    "    # removing 0 suffix from columns ater filelog -m1 command\n",
    "    df.columns=df.columns.to_series().apply(lambda c:c[:-1] if c.endswith('0') else c)  # if we ran filelog -m 1 we will get most columns with 0 suffix (this number says the output line)\n",
    "    # fixing types:\n",
    "    if 'time' in df.columns:\n",
    "        df.time=pd.to_datetime(df.time, unit='s')\n",
    "    for t in ['rev','change','fileSize']:\n",
    "        if t in df.columns:\n",
    "            df[t]=df[t].fillna(-1).astype(int)\n",
    "    # extracting block name\n",
    "    if 'depotFile' in df.columns:\n",
    "        df[['library','block','block_type','file_name']]=df.depotFile.str.rsplit('/',4, expand=True).drop(0, axis=1)\n",
    "    try:\n",
    "        df=df.drop(['action','change','client','code','digest','fileSize','type','library'], axis=1)\n",
    "    except: pass\n",
    "    df=df.drop(df.columns[df.columns.str.contains(',')].values, axis=1)\n",
    "    df=df.rename(columns=dict(desc='comment',depotFile='p4_path', rev='version'))\n",
    "    if df.empty:\n",
    "        print('df is empty!')\n",
    "    return df\n"
   ]
  },
  {
   "cell_type": "code",
   "execution_count": null,
   "metadata": {},
   "outputs": [],
   "source": [
    "client='iil:lisrael1:e039b3fb9db4738ff81a240e2564dbdbaec65b22:amsbase_A:gen2_tc'\n",
    "port='ssl:p4brk2idce.sync.intel.com:7070'\n",
    "p4_user=f'-c {client} -p {port}'\n",
    "extract_sub_cells=''' | grep -Po '\\(\"\\w+\"\\s*\"\\w+\"\\s*\"\\w+\"\\)' | tr -d '()\"' | sort | uniq -c | awk '{print $1\"*\"$3}' '''\n",
    "\n",
    "block_name='ipn5adcsarshr_core'\n",
    "\n",
    "\n",
    "cmd=f'p4 {p4_user} have //barak2/... | grep \"/{block_name}/schematic/data.dm\"'"
   ]
  },
  {
   "cell_type": "code",
   "execution_count": 37,
   "metadata": {},
   "outputs": [
    {
     "data": {
      "text/html": [
       "<div>\n",
       "<style scoped>\n",
       "    .dataframe tbody tr th:only-of-type {\n",
       "        vertical-align: middle;\n",
       "    }\n",
       "\n",
       "    .dataframe tbody tr th {\n",
       "        vertical-align: top;\n",
       "    }\n",
       "\n",
       "    .dataframe thead th {\n",
       "        text-align: right;\n",
       "    }\n",
       "</style>\n",
       "<table border=\"1\" class=\"dataframe\">\n",
       "  <thead>\n",
       "    <tr style=\"text-align: right;\">\n",
       "      <th></th>\n",
       "      <th>clientFile</th>\n",
       "      <th>code</th>\n",
       "      <th>p4_path</th>\n",
       "      <th>haveRev</th>\n",
       "      <th>path</th>\n",
       "      <th>syncTime</th>\n",
       "      <th>library</th>\n",
       "      <th>block</th>\n",
       "      <th>block_type</th>\n",
       "      <th>file_name</th>\n",
       "    </tr>\n",
       "  </thead>\n",
       "  <tbody>\n",
       "    <tr>\n",
       "      <th>0</th>\n",
       "      <td>//iil:lisrael1:e039b3fb9db4738ff81a240e2564dbd...</td>\n",
       "      <td>stat</td>\n",
       "      <td>//barak2/barak_gen2/A/blkProps/.p4ignore</td>\n",
       "      <td>1</td>\n",
       "      <td>/nfs/iil/disks/hip_ana_users_04/lisrael1/barak...</td>\n",
       "      <td>1568017244</td>\n",
       "      <td>barak_gen2</td>\n",
       "      <td>A</td>\n",
       "      <td>blkProps</td>\n",
       "      <td>.p4ignore</td>\n",
       "    </tr>\n",
       "    <tr>\n",
       "      <th>1</th>\n",
       "      <td>//iil:lisrael1:e039b3fb9db4738ff81a240e2564dbd...</td>\n",
       "      <td>stat</td>\n",
       "      <td>//barak2/barak_gen2/A/blkProps/cdn/blockProps.lib</td>\n",
       "      <td>1</td>\n",
       "      <td>/nfs/iil/disks/hip_ana_users_04/lisrael1/barak...</td>\n",
       "      <td>1568017244</td>\n",
       "      <td>A</td>\n",
       "      <td>blkProps</td>\n",
       "      <td>cdn</td>\n",
       "      <td>blockProps.lib</td>\n",
       "    </tr>\n",
       "    <tr>\n",
       "      <th>2</th>\n",
       "      <td>//iil:lisrael1:e039b3fb9db4738ff81a240e2564dbd...</td>\n",
       "      <td>stat</td>\n",
       "      <td>//barak2/barak_gen2/A/blkProps/cdn/env/.cdsenv</td>\n",
       "      <td>1</td>\n",
       "      <td>/nfs/iil/disks/hip_ana_users_04/lisrael1/barak...</td>\n",
       "      <td>1568017244</td>\n",
       "      <td>blkProps</td>\n",
       "      <td>cdn</td>\n",
       "      <td>env</td>\n",
       "      <td>.cdsenv</td>\n",
       "    </tr>\n",
       "    <tr>\n",
       "      <th>3</th>\n",
       "      <td>//iil:lisrael1:e039b3fb9db4738ff81a240e2564dbd...</td>\n",
       "      <td>stat</td>\n",
       "      <td>//barak2/barak_gen2/A/blkProps/cdn/env/.cdsinit</td>\n",
       "      <td>8</td>\n",
       "      <td>/nfs/iil/disks/hip_ana_users_04/lisrael1/barak...</td>\n",
       "      <td>1580628914</td>\n",
       "      <td>blkProps</td>\n",
       "      <td>cdn</td>\n",
       "      <td>env</td>\n",
       "      <td>.cdsinit</td>\n",
       "    </tr>\n",
       "    <tr>\n",
       "      <th>4</th>\n",
       "      <td>//iil:lisrael1:e039b3fb9db4738ff81a240e2564dbd...</td>\n",
       "      <td>stat</td>\n",
       "      <td>//barak2/barak_gen2/A/blkProps/cdn/env/CS-1846...</td>\n",
       "      <td>1</td>\n",
       "      <td>/nfs/iil/disks/hip_ana_users_04/lisrael1/barak...</td>\n",
       "      <td>1572426187</td>\n",
       "      <td>blkProps</td>\n",
       "      <td>cdn</td>\n",
       "      <td>env</td>\n",
       "      <td>CS-1846.ile</td>\n",
       "    </tr>\n",
       "  </tbody>\n",
       "</table>\n",
       "</div>"
      ],
      "text/plain": [
       "                                          clientFile  code  \\\n",
       "0  //iil:lisrael1:e039b3fb9db4738ff81a240e2564dbd...  stat   \n",
       "1  //iil:lisrael1:e039b3fb9db4738ff81a240e2564dbd...  stat   \n",
       "2  //iil:lisrael1:e039b3fb9db4738ff81a240e2564dbd...  stat   \n",
       "3  //iil:lisrael1:e039b3fb9db4738ff81a240e2564dbd...  stat   \n",
       "4  //iil:lisrael1:e039b3fb9db4738ff81a240e2564dbd...  stat   \n",
       "\n",
       "                                             p4_path haveRev  \\\n",
       "0           //barak2/barak_gen2/A/blkProps/.p4ignore       1   \n",
       "1  //barak2/barak_gen2/A/blkProps/cdn/blockProps.lib       1   \n",
       "2     //barak2/barak_gen2/A/blkProps/cdn/env/.cdsenv       1   \n",
       "3    //barak2/barak_gen2/A/blkProps/cdn/env/.cdsinit       8   \n",
       "4  //barak2/barak_gen2/A/blkProps/cdn/env/CS-1846...       1   \n",
       "\n",
       "                                                path    syncTime     library  \\\n",
       "0  /nfs/iil/disks/hip_ana_users_04/lisrael1/barak...  1568017244  barak_gen2   \n",
       "1  /nfs/iil/disks/hip_ana_users_04/lisrael1/barak...  1568017244           A   \n",
       "2  /nfs/iil/disks/hip_ana_users_04/lisrael1/barak...  1568017244    blkProps   \n",
       "3  /nfs/iil/disks/hip_ana_users_04/lisrael1/barak...  1580628914    blkProps   \n",
       "4  /nfs/iil/disks/hip_ana_users_04/lisrael1/barak...  1572426187    blkProps   \n",
       "\n",
       "      block block_type       file_name  \n",
       "0         A   blkProps       .p4ignore  \n",
       "1  blkProps        cdn  blockProps.lib  \n",
       "2       cdn        env         .cdsenv  \n",
       "3       cdn        env        .cdsinit  \n",
       "4       cdn        env     CS-1846.ile  "
      ]
     },
     "execution_count": 37,
     "metadata": {},
     "output_type": "execute_result"
    }
   ],
   "source": [
    "# get all p4 local files\n",
    "cmd=f'p4 -G {p4_user} have //barak2/...'\n",
    "p4_output=subprocess.Popen(cmd.split(' '),stdout=subprocess.PIPE, stderr=subprocess.PIPE).stdout.read()\n",
    "p4_output=p4_output_to_df(p4_output)\n",
    "p4_output.head()"
   ]
  },
  {
   "cell_type": "code",
   "execution_count": 62,
   "metadata": {},
   "outputs": [
    {
     "data": {
      "application/vnd.jupyter.widget-view+json": {
       "model_id": "25d753db13a74e8bb78ce54ec72db668",
       "version_major": 2,
       "version_minor": 0
      },
      "text/plain": [
       "HBox(children=(IntProgress(value=0, max=190605), HTML(value='')))"
      ]
     },
     "metadata": {},
     "output_type": "display_data"
    },
    {
     "data": {
      "application/vnd.jupyter.widget-view+json": {
       "model_id": "6f88c45d3c4c4e8d93735c8c43ab5d45",
       "version_major": 2,
       "version_minor": 0
      },
      "text/plain": [
       "HBox(children=(IntProgress(value=0, max=10016), HTML(value='')))"
      ]
     },
     "metadata": {},
     "output_type": "display_data"
    },
    {
     "ename": "KeyboardInterrupt",
     "evalue": "",
     "output_type": "error",
     "traceback": [
      "\u001b[0;31m---------------------------------------------------------------------------\u001b[0m",
      "\u001b[0;31mKeyboardInterrupt\u001b[0m                         Traceback (most recent call last)",
      "\u001b[0;32m<ipython-input-62-58a17c444b8c>\u001b[0m in \u001b[0;36m<module>\u001b[0;34m\u001b[0m\n\u001b[1;32m      1\u001b[0m \u001b[0ma\u001b[0m\u001b[0;34m=\u001b[0m\u001b[0mp4_output\u001b[0m\u001b[0;34m.\u001b[0m\u001b[0mquery\u001b[0m\u001b[0;34m(\u001b[0m\u001b[0;34mf'path.str.contains(\"/{block_name}/schematic/data.dm\")'\u001b[0m\u001b[0;34m)\u001b[0m\u001b[0;34m.\u001b[0m\u001b[0mapply\u001b[0m\u001b[0;34m(\u001b[0m\u001b[0;32mlambda\u001b[0m \u001b[0mr\u001b[0m\u001b[0;34m:\u001b[0m\u001b[0;34mf'strings {r.path}'\u001b[0m\u001b[0;34m+\u001b[0m\u001b[0mextract_sub_cells\u001b[0m\u001b[0;34m,\u001b[0m \u001b[0maxis\u001b[0m\u001b[0;34m=\u001b[0m\u001b[0;36m1\u001b[0m\u001b[0;34m)\u001b[0m\u001b[0;34m\u001b[0m\u001b[0m\n\u001b[1;32m      2\u001b[0m \u001b[0mp4_output\u001b[0m\u001b[0;34m[\u001b[0m\u001b[0;34m'subcell_command'\u001b[0m\u001b[0;34m]\u001b[0m\u001b[0;34m=\u001b[0m\u001b[0mp4_output\u001b[0m\u001b[0;34m.\u001b[0m\u001b[0mprogress_apply\u001b[0m\u001b[0;34m(\u001b[0m\u001b[0;32mlambda\u001b[0m \u001b[0mr\u001b[0m\u001b[0;34m:\u001b[0m\u001b[0;34mf'strings {r.path}'\u001b[0m\u001b[0;34m+\u001b[0m\u001b[0mextract_sub_cells\u001b[0m\u001b[0;34m,\u001b[0m \u001b[0maxis\u001b[0m\u001b[0;34m=\u001b[0m\u001b[0;36m1\u001b[0m\u001b[0;34m)\u001b[0m\u001b[0;34m\u001b[0m\u001b[0m\n\u001b[0;32m----> 3\u001b[0;31m \u001b[0mp4_output\u001b[0m\u001b[0;34m[\u001b[0m\u001b[0;34m'subcells'\u001b[0m\u001b[0;34m]\u001b[0m\u001b[0;34m=\u001b[0m\u001b[0mp4_output\u001b[0m\u001b[0;34m.\u001b[0m\u001b[0mquery\u001b[0m\u001b[0;34m(\u001b[0m\u001b[0;34mf'path.str.contains(\"/schematic/data.dm\")'\u001b[0m\u001b[0;34m)\u001b[0m\u001b[0;34m.\u001b[0m\u001b[0msubcell_command\u001b[0m\u001b[0;34m.\u001b[0m\u001b[0mprogress_apply\u001b[0m\u001b[0;34m(\u001b[0m\u001b[0;32mlambda\u001b[0m \u001b[0mr\u001b[0m\u001b[0;34m:\u001b[0m\u001b[0mos\u001b[0m\u001b[0;34m.\u001b[0m\u001b[0mpopen\u001b[0m\u001b[0;34m(\u001b[0m\u001b[0mr\u001b[0m\u001b[0;34m)\u001b[0m\u001b[0;34m.\u001b[0m\u001b[0mread\u001b[0m\u001b[0;34m(\u001b[0m\u001b[0;34m)\u001b[0m\u001b[0;34m.\u001b[0m\u001b[0msplit\u001b[0m\u001b[0;34m(\u001b[0m\u001b[0;34m'\\n'\u001b[0m\u001b[0;34m)\u001b[0m\u001b[0;34m)\u001b[0m\u001b[0;34m\u001b[0m\u001b[0m\n\u001b[0m\u001b[1;32m      4\u001b[0m \u001b[0mp4_output\u001b[0m\u001b[0;34m\u001b[0m\u001b[0m\n",
      "\u001b[0;32m/nfs/iil/disks/hdk_ws/ckt/lisrael1/lior_dir/virtual_env/env/lib/python3.6/site-packages/tqdm/_tqdm.py\u001b[0m in \u001b[0;36minner\u001b[0;34m(df, func, *args, **kwargs)\u001b[0m\n\u001b[1;32m    658\u001b[0m                 \u001b[0;31m# Apply the provided function (in **kwargs)\u001b[0m\u001b[0;34m\u001b[0m\u001b[0;34m\u001b[0m\u001b[0m\n\u001b[1;32m    659\u001b[0m                 \u001b[0;31m# on the df using our wrapper (which provides bar updating)\u001b[0m\u001b[0;34m\u001b[0m\u001b[0;34m\u001b[0m\u001b[0m\n\u001b[0;32m--> 660\u001b[0;31m                 \u001b[0mresult\u001b[0m \u001b[0;34m=\u001b[0m \u001b[0mgetattr\u001b[0m\u001b[0;34m(\u001b[0m\u001b[0mdf\u001b[0m\u001b[0;34m,\u001b[0m \u001b[0mdf_function\u001b[0m\u001b[0;34m)\u001b[0m\u001b[0;34m(\u001b[0m\u001b[0mwrapper\u001b[0m\u001b[0;34m,\u001b[0m \u001b[0;34m**\u001b[0m\u001b[0mkwargs\u001b[0m\u001b[0;34m)\u001b[0m\u001b[0;34m\u001b[0m\u001b[0m\n\u001b[0m\u001b[1;32m    661\u001b[0m \u001b[0;34m\u001b[0m\u001b[0m\n\u001b[1;32m    662\u001b[0m                 \u001b[0;31m# Close bar and return pandas calculation result\u001b[0m\u001b[0;34m\u001b[0m\u001b[0;34m\u001b[0m\u001b[0m\n",
      "\u001b[0;32m/nfs/iil/disks/hdk_ws/ckt/lisrael1/lior_dir/virtual_env/env/lib/python3.6/site-packages/pandas/core/series.py\u001b[0m in \u001b[0;36mapply\u001b[0;34m(self, func, convert_dtype, args, **kwds)\u001b[0m\n\u001b[1;32m   3589\u001b[0m             \u001b[0;32melse\u001b[0m\u001b[0;34m:\u001b[0m\u001b[0;34m\u001b[0m\u001b[0m\n\u001b[1;32m   3590\u001b[0m                 \u001b[0mvalues\u001b[0m \u001b[0;34m=\u001b[0m \u001b[0mself\u001b[0m\u001b[0;34m.\u001b[0m\u001b[0mastype\u001b[0m\u001b[0;34m(\u001b[0m\u001b[0mobject\u001b[0m\u001b[0;34m)\u001b[0m\u001b[0;34m.\u001b[0m\u001b[0mvalues\u001b[0m\u001b[0;34m\u001b[0m\u001b[0m\n\u001b[0;32m-> 3591\u001b[0;31m                 \u001b[0mmapped\u001b[0m \u001b[0;34m=\u001b[0m \u001b[0mlib\u001b[0m\u001b[0;34m.\u001b[0m\u001b[0mmap_infer\u001b[0m\u001b[0;34m(\u001b[0m\u001b[0mvalues\u001b[0m\u001b[0;34m,\u001b[0m \u001b[0mf\u001b[0m\u001b[0;34m,\u001b[0m \u001b[0mconvert\u001b[0m\u001b[0;34m=\u001b[0m\u001b[0mconvert_dtype\u001b[0m\u001b[0;34m)\u001b[0m\u001b[0;34m\u001b[0m\u001b[0m\n\u001b[0m\u001b[1;32m   3592\u001b[0m \u001b[0;34m\u001b[0m\u001b[0m\n\u001b[1;32m   3593\u001b[0m         \u001b[0;32mif\u001b[0m \u001b[0mlen\u001b[0m\u001b[0;34m(\u001b[0m\u001b[0mmapped\u001b[0m\u001b[0;34m)\u001b[0m \u001b[0;32mand\u001b[0m \u001b[0misinstance\u001b[0m\u001b[0;34m(\u001b[0m\u001b[0mmapped\u001b[0m\u001b[0;34m[\u001b[0m\u001b[0;36m0\u001b[0m\u001b[0;34m]\u001b[0m\u001b[0;34m,\u001b[0m \u001b[0mSeries\u001b[0m\u001b[0;34m)\u001b[0m\u001b[0;34m:\u001b[0m\u001b[0;34m\u001b[0m\u001b[0m\n",
      "\u001b[0;32mpandas/_libs/lib.pyx\u001b[0m in \u001b[0;36mpandas._libs.lib.map_infer\u001b[0;34m()\u001b[0m\n",
      "\u001b[0;32m/nfs/iil/disks/hdk_ws/ckt/lisrael1/lior_dir/virtual_env/env/lib/python3.6/site-packages/tqdm/_tqdm.py\u001b[0m in \u001b[0;36mwrapper\u001b[0;34m(*args, **kwargs)\u001b[0m\n\u001b[1;32m    654\u001b[0m                     \u001b[0;31m# take a fast or slow code path; so stop when t.total==t.n\u001b[0m\u001b[0;34m\u001b[0m\u001b[0;34m\u001b[0m\u001b[0m\n\u001b[1;32m    655\u001b[0m                     \u001b[0mt\u001b[0m\u001b[0;34m.\u001b[0m\u001b[0mupdate\u001b[0m\u001b[0;34m(\u001b[0m\u001b[0mn\u001b[0m\u001b[0;34m=\u001b[0m\u001b[0;36m1\u001b[0m \u001b[0;32mif\u001b[0m \u001b[0;32mnot\u001b[0m \u001b[0mt\u001b[0m\u001b[0;34m.\u001b[0m\u001b[0mtotal\u001b[0m \u001b[0;32mor\u001b[0m \u001b[0mt\u001b[0m\u001b[0;34m.\u001b[0m\u001b[0mn\u001b[0m \u001b[0;34m<\u001b[0m \u001b[0mt\u001b[0m\u001b[0;34m.\u001b[0m\u001b[0mtotal\u001b[0m \u001b[0;32melse\u001b[0m \u001b[0;36m0\u001b[0m\u001b[0;34m)\u001b[0m\u001b[0;34m\u001b[0m\u001b[0m\n\u001b[0;32m--> 656\u001b[0;31m                     \u001b[0;32mreturn\u001b[0m \u001b[0mfunc\u001b[0m\u001b[0;34m(\u001b[0m\u001b[0;34m*\u001b[0m\u001b[0margs\u001b[0m\u001b[0;34m,\u001b[0m \u001b[0;34m**\u001b[0m\u001b[0mkwargs\u001b[0m\u001b[0;34m)\u001b[0m\u001b[0;34m\u001b[0m\u001b[0m\n\u001b[0m\u001b[1;32m    657\u001b[0m \u001b[0;34m\u001b[0m\u001b[0m\n\u001b[1;32m    658\u001b[0m                 \u001b[0;31m# Apply the provided function (in **kwargs)\u001b[0m\u001b[0;34m\u001b[0m\u001b[0;34m\u001b[0m\u001b[0m\n",
      "\u001b[0;32m<ipython-input-62-58a17c444b8c>\u001b[0m in \u001b[0;36m<lambda>\u001b[0;34m(r)\u001b[0m\n\u001b[1;32m      1\u001b[0m \u001b[0ma\u001b[0m\u001b[0;34m=\u001b[0m\u001b[0mp4_output\u001b[0m\u001b[0;34m.\u001b[0m\u001b[0mquery\u001b[0m\u001b[0;34m(\u001b[0m\u001b[0;34mf'path.str.contains(\"/{block_name}/schematic/data.dm\")'\u001b[0m\u001b[0;34m)\u001b[0m\u001b[0;34m.\u001b[0m\u001b[0mapply\u001b[0m\u001b[0;34m(\u001b[0m\u001b[0;32mlambda\u001b[0m \u001b[0mr\u001b[0m\u001b[0;34m:\u001b[0m\u001b[0;34mf'strings {r.path}'\u001b[0m\u001b[0;34m+\u001b[0m\u001b[0mextract_sub_cells\u001b[0m\u001b[0;34m,\u001b[0m \u001b[0maxis\u001b[0m\u001b[0;34m=\u001b[0m\u001b[0;36m1\u001b[0m\u001b[0;34m)\u001b[0m\u001b[0;34m\u001b[0m\u001b[0m\n\u001b[1;32m      2\u001b[0m \u001b[0mp4_output\u001b[0m\u001b[0;34m[\u001b[0m\u001b[0;34m'subcell_command'\u001b[0m\u001b[0;34m]\u001b[0m\u001b[0;34m=\u001b[0m\u001b[0mp4_output\u001b[0m\u001b[0;34m.\u001b[0m\u001b[0mprogress_apply\u001b[0m\u001b[0;34m(\u001b[0m\u001b[0;32mlambda\u001b[0m \u001b[0mr\u001b[0m\u001b[0;34m:\u001b[0m\u001b[0;34mf'strings {r.path}'\u001b[0m\u001b[0;34m+\u001b[0m\u001b[0mextract_sub_cells\u001b[0m\u001b[0;34m,\u001b[0m \u001b[0maxis\u001b[0m\u001b[0;34m=\u001b[0m\u001b[0;36m1\u001b[0m\u001b[0;34m)\u001b[0m\u001b[0;34m\u001b[0m\u001b[0m\n\u001b[0;32m----> 3\u001b[0;31m \u001b[0mp4_output\u001b[0m\u001b[0;34m[\u001b[0m\u001b[0;34m'subcells'\u001b[0m\u001b[0;34m]\u001b[0m\u001b[0;34m=\u001b[0m\u001b[0mp4_output\u001b[0m\u001b[0;34m.\u001b[0m\u001b[0mquery\u001b[0m\u001b[0;34m(\u001b[0m\u001b[0;34mf'path.str.contains(\"/schematic/data.dm\")'\u001b[0m\u001b[0;34m)\u001b[0m\u001b[0;34m.\u001b[0m\u001b[0msubcell_command\u001b[0m\u001b[0;34m.\u001b[0m\u001b[0mprogress_apply\u001b[0m\u001b[0;34m(\u001b[0m\u001b[0;32mlambda\u001b[0m \u001b[0mr\u001b[0m\u001b[0;34m:\u001b[0m\u001b[0mos\u001b[0m\u001b[0;34m.\u001b[0m\u001b[0mpopen\u001b[0m\u001b[0;34m(\u001b[0m\u001b[0mr\u001b[0m\u001b[0;34m)\u001b[0m\u001b[0;34m.\u001b[0m\u001b[0mread\u001b[0m\u001b[0;34m(\u001b[0m\u001b[0;34m)\u001b[0m\u001b[0;34m.\u001b[0m\u001b[0msplit\u001b[0m\u001b[0;34m(\u001b[0m\u001b[0;34m'\\n'\u001b[0m\u001b[0;34m)\u001b[0m\u001b[0;34m)\u001b[0m\u001b[0;34m\u001b[0m\u001b[0m\n\u001b[0m\u001b[1;32m      4\u001b[0m \u001b[0mp4_output\u001b[0m\u001b[0;34m\u001b[0m\u001b[0m\n",
      "\u001b[0;32m/nfs/iil/disks/hdk_ws/ckt/lisrael1/lior_dir/virtual_env/env/lib/python3.6/os.py\u001b[0m in \u001b[0;36mpopen\u001b[0;34m(cmd, mode, buffering)\u001b[0m\n\u001b[1;32m    978\u001b[0m                                 \u001b[0mshell\u001b[0m\u001b[0;34m=\u001b[0m\u001b[0;32mTrue\u001b[0m\u001b[0;34m,\u001b[0m\u001b[0;34m\u001b[0m\u001b[0m\n\u001b[1;32m    979\u001b[0m                                 \u001b[0mstdout\u001b[0m\u001b[0;34m=\u001b[0m\u001b[0msubprocess\u001b[0m\u001b[0;34m.\u001b[0m\u001b[0mPIPE\u001b[0m\u001b[0;34m,\u001b[0m\u001b[0;34m\u001b[0m\u001b[0m\n\u001b[0;32m--> 980\u001b[0;31m                                 bufsize=buffering)\n\u001b[0m\u001b[1;32m    981\u001b[0m         \u001b[0;32mreturn\u001b[0m \u001b[0m_wrap_close\u001b[0m\u001b[0;34m(\u001b[0m\u001b[0mio\u001b[0m\u001b[0;34m.\u001b[0m\u001b[0mTextIOWrapper\u001b[0m\u001b[0;34m(\u001b[0m\u001b[0mproc\u001b[0m\u001b[0;34m.\u001b[0m\u001b[0mstdout\u001b[0m\u001b[0;34m)\u001b[0m\u001b[0;34m,\u001b[0m \u001b[0mproc\u001b[0m\u001b[0;34m)\u001b[0m\u001b[0;34m\u001b[0m\u001b[0m\n\u001b[1;32m    982\u001b[0m     \u001b[0;32melse\u001b[0m\u001b[0;34m:\u001b[0m\u001b[0;34m\u001b[0m\u001b[0m\n",
      "\u001b[0;32m/usr/intel/pkgs/python3/3.6.3a/lib/python3.6/subprocess.py\u001b[0m in \u001b[0;36m__init__\u001b[0;34m(self, args, bufsize, executable, stdin, stdout, stderr, preexec_fn, close_fds, shell, cwd, env, universal_newlines, startupinfo, creationflags, restore_signals, start_new_session, pass_fds, encoding, errors)\u001b[0m\n\u001b[1;32m    707\u001b[0m                                 \u001b[0mc2pread\u001b[0m\u001b[0;34m,\u001b[0m \u001b[0mc2pwrite\u001b[0m\u001b[0;34m,\u001b[0m\u001b[0;34m\u001b[0m\u001b[0m\n\u001b[1;32m    708\u001b[0m                                 \u001b[0merrread\u001b[0m\u001b[0;34m,\u001b[0m \u001b[0merrwrite\u001b[0m\u001b[0;34m,\u001b[0m\u001b[0;34m\u001b[0m\u001b[0m\n\u001b[0;32m--> 709\u001b[0;31m                                 restore_signals, start_new_session)\n\u001b[0m\u001b[1;32m    710\u001b[0m         \u001b[0;32mexcept\u001b[0m\u001b[0;34m:\u001b[0m\u001b[0;34m\u001b[0m\u001b[0m\n\u001b[1;32m    711\u001b[0m             \u001b[0;31m# Cleanup if the child failed starting.\u001b[0m\u001b[0;34m\u001b[0m\u001b[0;34m\u001b[0m\u001b[0m\n",
      "\u001b[0;32m/usr/intel/pkgs/python3/3.6.3a/lib/python3.6/subprocess.py\u001b[0m in \u001b[0;36m_execute_child\u001b[0;34m(self, args, executable, preexec_fn, close_fds, pass_fds, cwd, env, startupinfo, creationflags, shell, p2cread, p2cwrite, c2pread, c2pwrite, errread, errwrite, restore_signals, start_new_session)\u001b[0m\n\u001b[1;32m   1296\u001b[0m                 \u001b[0merrpipe_data\u001b[0m \u001b[0;34m=\u001b[0m \u001b[0mbytearray\u001b[0m\u001b[0;34m(\u001b[0m\u001b[0;34m)\u001b[0m\u001b[0;34m\u001b[0m\u001b[0m\n\u001b[1;32m   1297\u001b[0m                 \u001b[0;32mwhile\u001b[0m \u001b[0;32mTrue\u001b[0m\u001b[0;34m:\u001b[0m\u001b[0;34m\u001b[0m\u001b[0m\n\u001b[0;32m-> 1298\u001b[0;31m                     \u001b[0mpart\u001b[0m \u001b[0;34m=\u001b[0m \u001b[0mos\u001b[0m\u001b[0;34m.\u001b[0m\u001b[0mread\u001b[0m\u001b[0;34m(\u001b[0m\u001b[0merrpipe_read\u001b[0m\u001b[0;34m,\u001b[0m \u001b[0;36m50000\u001b[0m\u001b[0;34m)\u001b[0m\u001b[0;34m\u001b[0m\u001b[0m\n\u001b[0m\u001b[1;32m   1299\u001b[0m                     \u001b[0merrpipe_data\u001b[0m \u001b[0;34m+=\u001b[0m \u001b[0mpart\u001b[0m\u001b[0;34m\u001b[0m\u001b[0m\n\u001b[1;32m   1300\u001b[0m                     \u001b[0;32mif\u001b[0m \u001b[0;32mnot\u001b[0m \u001b[0mpart\u001b[0m \u001b[0;32mor\u001b[0m \u001b[0mlen\u001b[0m\u001b[0;34m(\u001b[0m\u001b[0merrpipe_data\u001b[0m\u001b[0;34m)\u001b[0m \u001b[0;34m>\u001b[0m \u001b[0;36m50000\u001b[0m\u001b[0;34m:\u001b[0m\u001b[0;34m\u001b[0m\u001b[0m\n",
      "\u001b[0;31mKeyboardInterrupt\u001b[0m: "
     ]
    }
   ],
   "source": [
    "a=p4_output.query(f'path.str.contains(\"/{block_name}/schematic/data.dm\")').apply(lambda r:f'strings {r.path}'+extract_sub_cells, axis=1)\n",
    "p4_output['subcell_command']=p4_output.progress_apply(lambda r:f'strings {r.path}'+extract_sub_cells, axis=1)\n",
    "p4_output['subcells']=p4_output.query(f'path.str.contains(\"/schematic/data.dm\")').subcell_command.progress_apply(lambda r:os.popen(r).read().split('\\n'))\n",
    "p4_output"
   ]
  }
 ],
 "metadata": {
  "kernelspec": {
   "display_name": "Python 3",
   "language": "python",
   "name": "python3"
  },
  "language_info": {
   "codemirror_mode": {
    "name": "ipython",
    "version": 3
   },
   "file_extension": ".py",
   "mimetype": "text/x-python",
   "name": "python",
   "nbconvert_exporter": "python",
   "pygments_lexer": "ipython3",
   "version": "3.6.3"
  }
 },
 "nbformat": 4,
 "nbformat_minor": 2
}
