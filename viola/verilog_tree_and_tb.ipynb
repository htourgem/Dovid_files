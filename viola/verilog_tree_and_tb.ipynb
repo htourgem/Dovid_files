{
 "cells": [
  {
   "cell_type": "code",
   "execution_count": 2,
   "metadata": {
    "scrolled": true
   },
   "outputs": [
    {
     "data": {
      "application/vnd.jupyter.widget-view+json": {
       "model_id": "bb6e5d6508f04d63813fb632a91a3551",
       "version_major": 2,
       "version_minor": 0
      },
      "text/plain": [
       "interactive(children=(Text(value='/nfs/iil/disks/hdk_ws/ckt/lisrael1/lior_dir/bmods_development/brk_gen2/4.brk…"
      ]
     },
     "metadata": {},
     "output_type": "display_data"
    }
   ],
   "source": [
    "import ipywidgets as widgets\n",
    "\n",
    "top_module=''\n",
    "log='/log/full/path'\n",
    "log='/nfs/iil/disks/hdk_ws/ckt/lisrael1/lior_dir/bmods_development/brk_gen2/4.brk_gen2_0p8/0.original/ipn5brk2adctop_adc_top.v1'\n",
    "\n",
    "@widgets.interact\n",
    "def a(v=widgets.Text(value=log,placeholder='Type something',description='top verilog file:', \n",
    "                     layout=widgets.Layout(width='95%'),\n",
    "                     style=dict(description_width='initial'))):\n",
    "    global top_module\n",
    "    exist=!ls $v\n",
    "    if exist[0].startswith('ls: cannot access '):\n",
    "        print(exist[0])\n",
    "    else:\n",
    "        top_module=v\n",
    "        %run verilog_tree_and_tb/verilog_tree_and_tb_dont_use.ipynb"
   ]
  }
 ],
 "metadata": {
  "kernelspec": {
   "display_name": "Python 3",
   "language": "python",
   "name": "python3"
  },
  "language_info": {
   "codemirror_mode": {
    "name": "ipython",
    "version": 3
   },
   "file_extension": ".py",
   "mimetype": "text/x-python",
   "name": "python",
   "nbconvert_exporter": "python",
   "pygments_lexer": "ipython3",
   "version": "3.6.3"
  }
 },
 "nbformat": 4,
 "nbformat_minor": 2
}
