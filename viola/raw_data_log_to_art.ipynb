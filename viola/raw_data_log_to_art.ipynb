{
 "cells": [
  {
   "cell_type": "code",
   "execution_count": 5,
   "metadata": {
    "scrolled": false
   },
   "outputs": [
    {
     "data": {
      "application/vnd.jupyter.widget-view+json": {
       "model_id": "3d83192a63bf4e54a1a120acaaa45c82",
       "version_major": 2,
       "version_minor": 0
      },
      "text/plain": [
       "GridspecLayout(children=(Text(value='/nfs/iil/disks/hip_ana_sim_01/dgottesm/analysis_and_tools/analysisPP/brk_…"
      ]
     },
     "metadata": {},
     "output_type": "display_data"
    }
   ],
   "source": [
    "# files in use:\n",
    "# /nfs/iil/disks/hip_ana_sim_01/dgottesm/analysis_and_tools/jupyter_notebooks/brk_gen1/Automation/PostProcess/upload_to_art/raw_data_log_to_art.ipynb\n",
    "# \"\\\\isamba.iil.intel.com\\nfs\\iil\\disks\\hdk_ws\\ckt\\lisrael1\\lior_dir\\jupyter\\brk_gen1\\Automation\\PostProcess\\upload_to_art\\logs_to_art.py\"\n",
    "# \"\\\\isamba.iil.intel.com\\nfs\\iil\\disks\\hdk_ws\\ckt\\lisrael1\\lior_dir\\jupyter\\brk_gen1\\Automation\\PostProcess\\upload_to_art\\simple_art_uploader.py\"\n",
    "# when you change one of the python files, you need to reload (F5) the web. you dont need to restart the voila server\n",
    "if 0:\n",
    "    from IPython.display import Image\n",
    "    Image(\"/nfs/iil/disks/hip_ana_sim_01/dgottesm/analysis_and_tools/jupyter_notebooks/under_construction.jpg\")\n",
    "else:\n",
    "    %run '/nfs/iil/disks/hip_ana_sim_01/dgottesm/analysis_and_tools/analysisPP/brk_gen1/Automation/PostProcess/upload_to_art/raw_data_log_to_art.ipynb'"
   ]
  },
  {
   "cell_type": "code",
   "execution_count": null,
   "metadata": {},
   "outputs": [],
   "source": []
  },
  {
   "cell_type": "code",
   "execution_count": null,
   "metadata": {},
   "outputs": [],
   "source": []
  }
 ],
 "metadata": {
  "kernelspec": {
   "display_name": "Python 3",
   "language": "python",
   "name": "python3"
  },
  "language_info": {
   "codemirror_mode": {
    "name": "ipython",
    "version": 3
   },
   "file_extension": ".py",
   "mimetype": "text/x-python",
   "name": "python",
   "nbconvert_exporter": "python",
   "pygments_lexer": "ipython3",
   "version": "3.7.4"
  },
  "widgets": {
   "application/vnd.jupyter.widget-state+json": {
    "state": {
     "0199febff66248c4acf5d15d19df036e": {
      "model_module": "@jupyter-widgets/controls",
      "model_module_version": "1.4.0",
      "model_name": "DescriptionStyleModel",
      "state": {
       "description_width": "initial"
      }
     },
     "01c7c5017fce426ab180cc70cd347a3d": {
      "model_module": "@jupyter-widgets/controls",
      "model_module_version": "1.4.0",
      "model_name": "DescriptionStyleModel",
      "state": {
       "description_width": "initial"
      }
     },
     "02c5c4c0d9a548e9b4486ca665dd3a5b": {
      "model_module": "@jupyter-widgets/controls",
      "model_module_version": "1.4.0",
      "model_name": "TextModel",
      "state": {
       "description": "first_dict",
       "layout": "IPY_MODEL_29aaa65c0c1e4e1e94dd3477afa72b7c",
       "style": "IPY_MODEL_d5bcc658a88b4ddba1f046ad7000ffcf",
       "value": "{\"hi\":4}"
      }
     },
     "05491555ff25492a986b04d57aa1b792": {
      "model_module": "@jupyter-widgets/controls",
      "model_module_version": "1.4.0",
      "model_name": "TextModel",
      "state": {
       "description": "first_dict",
       "layout": "IPY_MODEL_062ffdb2e27c40d3ac14e29e33536cf6",
       "style": "IPY_MODEL_7197184cd96b4cb6a544dd1b504c2351",
       "value": "{\"hi\":4}"
      }
     },
     "062ffdb2e27c40d3ac14e29e33536cf6": {
      "model_module": "@jupyter-widgets/base",
      "model_module_version": "1.1.0",
      "model_name": "LayoutModel",
      "state": {}
     },
     "06464583fc4c4c7db0b5101c78c33b2a": {
      "model_module": "@jupyter-widgets/controls",
      "model_module_version": "1.4.0",
      "model_name": "CheckboxModel",
      "state": {
       "description": "msv_log_type",
       "disabled": false,
       "layout": "IPY_MODEL_21a28a76a69a4fc69005466da2ad66fb",
       "style": "IPY_MODEL_9463ff22ea4e4ed3b235fb6cf7c0ab26",
       "value": true
      }
     },
     "0841c3e2f3ef41e8a92dafa44c643646": {
      "model_module": "@jupyter-widgets/controls",
      "model_module_version": "1.4.0",
      "model_name": "DescriptionStyleModel",
      "state": {
       "description_width": ""
      }
     },
     "0872cafaa8634e3ba5df5eaaa0dbcf22": {
      "model_module": "@jupyter-widgets/controls",
      "model_module_version": "1.4.0",
      "model_name": "TextModel",
      "state": {
       "description": "session_name",
       "layout": "IPY_MODEL_be1fa48302f9457398336e05415e8321",
       "style": "IPY_MODEL_b6fad73e63b941f39a9aaf51713fc6a9",
       "value": "session_name"
      }
     },
     "08e291c2e2d24d549c020e13446d5bc9": {
      "model_module": "@jupyter-widgets/controls",
      "model_module_version": "1.4.0",
      "model_name": "CheckboxModel",
      "state": {
       "description": "take_from_begining_of_log",
       "disabled": false,
       "layout": "IPY_MODEL_f319cd58d77c45e6810dffce2c134474",
       "style": "IPY_MODEL_9c905def915042cbbe5b9379d64e8709",
       "value": false
      }
     },
     "0a34d82ba55441ab82ffce0d93ccf94a": {
      "model_module": "@jupyter-widgets/controls",
      "model_module_version": "1.4.0",
      "model_name": "ToggleButtonModel",
      "state": {
       "button_style": "success",
       "description": "run",
       "layout": "IPY_MODEL_2f0c6de814304f398727882454296060",
       "style": "IPY_MODEL_5899984149a543dbb5a977631683d2eb"
      }
     },
     "0b67fd9d30664ff4b3d2085698e18993": {
      "model_module": "@jupyter-widgets/base",
      "model_module_version": "1.1.0",
      "model_name": "LayoutModel",
      "state": {}
     },
     "0bb635a82c3b4e59a6c1bf5cf2452b2b": {
      "model_module": "@jupyter-widgets/base",
      "model_module_version": "1.1.0",
      "model_name": "LayoutModel",
      "state": {}
     },
     "0c0089b61bbf45869ed2388d246b3531": {
      "model_module": "@jupyter-widgets/base",
      "model_module_version": "1.1.0",
      "model_name": "LayoutModel",
      "state": {}
     },
     "0cdcf860cd49455ab1e27a2b41eb5704": {
      "model_module": "@jupyter-widgets/controls",
      "model_module_version": "1.4.0",
      "model_name": "ToggleButtonsStyleModel",
      "state": {
       "button_width": "",
       "description_width": ""
      }
     },
     "0dd0affba4884853968b761d88adba90": {
      "model_module": "@jupyter-widgets/base",
      "model_module_version": "1.1.0",
      "model_name": "LayoutModel",
      "state": {}
     },
     "0de05c28bdcd4c2bad6ca86d57f4a4a4": {
      "model_module": "@jupyter-widgets/base",
      "model_module_version": "1.1.0",
      "model_name": "LayoutModel",
      "state": {
       "width": "60"
      }
     },
     "0f7312e7727f40b481135065f46bb8c0": {
      "model_module": "@jupyter-widgets/output",
      "model_module_version": "1.0.0",
      "model_name": "OutputModel",
      "state": {
       "layout": "IPY_MODEL_d99fb484b35a4da99abf805d65087377"
      }
     },
     "10272f7855424fe3bb93abd1859d0bd8": {
      "model_module": "@jupyter-widgets/base",
      "model_module_version": "1.1.0",
      "model_name": "LayoutModel",
      "state": {
       "width": "80%"
      }
     },
     "1143fd1b99b14b418f10291c2385611e": {
      "model_module": "@jupyter-widgets/base",
      "model_module_version": "1.1.0",
      "model_name": "LayoutModel",
      "state": {
       "width": "80%"
      }
     },
     "12285735d69f4cdeae56b6324b24c99c": {
      "model_module": "@jupyter-widgets/controls",
      "model_module_version": "1.4.0",
      "model_name": "TextModel",
      "state": {
       "description": "user",
       "layout": "IPY_MODEL_e6f70cf3fe9747578344e10def7d8d9c",
       "style": "IPY_MODEL_da44ffcd68364af698e9847159d54f55",
       "value": "my_username"
      }
     },
     "12a6ff20e31d4f49bc6e0b42f4236eae": {
      "model_module": "@jupyter-widgets/controls",
      "model_module_version": "1.4.0",
      "model_name": "DescriptionStyleModel",
      "state": {
       "description_width": ""
      }
     },
     "131a30e4a8f749309b54f87cf94ee3eb": {
      "model_module": "@jupyter-widgets/base",
      "model_module_version": "1.1.0",
      "model_name": "LayoutModel",
      "state": {}
     },
     "13261b4bbbf446389dfbf3892bea61a1": {
      "model_module": "@jupyter-widgets/controls",
      "model_module_version": "1.4.0",
      "model_name": "ToggleButtonsModel",
      "state": {
       "_options_labels": [
        "BRK_GEN1",
        "BRK_GEN2"
       ],
       "button_style": "",
       "description": "project_name",
       "icons": [],
       "index": 0,
       "layout": "IPY_MODEL_4e88f6e8e21e4b6a92b45943aeca7ec9",
       "style": "IPY_MODEL_0cdcf860cd49455ab1e27a2b41eb5704",
       "tooltips": []
      }
     },
     "14c1d618399c473fb37c0317ba1a3e17": {
      "model_module": "@jupyter-widgets/base",
      "model_module_version": "1.1.0",
      "model_name": "LayoutModel",
      "state": {
       "width": "80%"
      }
     },
     "1511ca588b0c487bb2cb710344d5ea60": {
      "model_module": "@jupyter-widgets/base",
      "model_module_version": "1.1.0",
      "model_name": "LayoutModel",
      "state": {
       "width": "80%"
      }
     },
     "17f28865939a4f9ebd44453c8efd02f7": {
      "model_module": "@jupyter-widgets/controls",
      "model_module_version": "1.4.0",
      "model_name": "DescriptionStyleModel",
      "state": {
       "description_width": ""
      }
     },
     "182b1190b6e14d15b5e8248b8813e8cf": {
      "model_module": "@jupyter-widgets/base",
      "model_module_version": "1.1.0",
      "model_name": "LayoutModel",
      "state": {}
     },
     "188546ec317443b5b3f0c6a0662298ad": {
      "model_module": "@jupyter-widgets/controls",
      "model_module_version": "1.4.0",
      "model_name": "CheckboxModel",
      "state": {
       "description": "take_from_begining_of_log",
       "disabled": false,
       "layout": "IPY_MODEL_a087605b98984ec987961a6e6cea9898",
       "style": "IPY_MODEL_b9c4a94c0d0c459782e798eb33dc3160",
       "value": false
      }
     },
     "1a781c3ed6d343a0b3ec559861469328": {
      "model_module": "@jupyter-widgets/controls",
      "model_module_version": "1.4.0",
      "model_name": "ToggleButtonModel",
      "state": {
       "button_style": "success",
       "description": "run",
       "layout": "IPY_MODEL_1dbc58e186174b8b8b5dae11f2edd894",
       "style": "IPY_MODEL_ef32fbde033e45cdb5dd95824d13d48e"
      }
     },
     "1b684b8ad3194b3895d8ee01cfb376be": {
      "model_module": "@jupyter-widgets/controls",
      "model_module_version": "1.4.0",
      "model_name": "DescriptionStyleModel",
      "state": {
       "description_width": ""
      }
     },
     "1bc50b78e6c240ee9465f2e25a0561b4": {
      "model_module": "@jupyter-widgets/controls",
      "model_module_version": "1.4.0",
      "model_name": "DescriptionStyleModel",
      "state": {
       "description_width": ""
      }
     },
     "1ca5d893744748f684043d29597fad7e": {
      "model_module": "@jupyter-widgets/controls",
      "model_module_version": "1.4.0",
      "model_name": "DescriptionStyleModel",
      "state": {
       "description_width": "initial"
      }
     },
     "1dbc58e186174b8b8b5dae11f2edd894": {
      "model_module": "@jupyter-widgets/base",
      "model_module_version": "1.1.0",
      "model_name": "LayoutModel",
      "state": {}
     },
     "1e5a2adb094e454a922ff6abbf73b9f3": {
      "model_module": "@jupyter-widgets/controls",
      "model_module_version": "1.4.0",
      "model_name": "DescriptionStyleModel",
      "state": {
       "description_width": ""
      }
     },
     "1eba8e65ce5b4f84a7fd656105f377c8": {
      "model_module": "@jupyter-widgets/controls",
      "model_module_version": "1.4.0",
      "model_name": "VBoxModel",
      "state": {
       "_dom_classes": [
        "widget-interact"
       ],
       "children": [
        "IPY_MODEL_f176e6e0e40e45be810b758e0efd127a",
        "IPY_MODEL_56df5d6519494c9fabe1930ab5ee3634",
        "IPY_MODEL_05491555ff25492a986b04d57aa1b792",
        "IPY_MODEL_336e7184829146cea22c3cb22b003566",
        "IPY_MODEL_4b45f35ca1784c9baae7ced78fc11684",
        "IPY_MODEL_9e4ddd5288c44fb7bc70ab9848cfa1b3",
        "IPY_MODEL_be15c67f403747038e91f5a7d77e4419",
        "IPY_MODEL_6f20668cec2f48378bb2c2e589c5e101",
        "IPY_MODEL_522e7696d53b45aaa93e6514bf6fe96f",
        "IPY_MODEL_d0d592e155e24a93995708b49f0bfd06",
        "IPY_MODEL_e79642b4aeb24e868d9b4349704eaaff",
        "IPY_MODEL_2af4e28b824b41a281bc39a1a857eaa3",
        "IPY_MODEL_60848b1943a7451fb7f30313a6ff15d5"
       ],
       "layout": "IPY_MODEL_b3bf9f5b3be84ffaa1247744da95366a"
      }
     },
     "1f3d3a1c79f14df79e2f2a7e733bc4c5": {
      "model_module": "@jupyter-widgets/base",
      "model_module_version": "1.1.0",
      "model_name": "LayoutModel",
      "state": {}
     },
     "20b8ea0550594a46bb648d8b91b374d7": {
      "model_module": "@jupyter-widgets/controls",
      "model_module_version": "1.4.0",
      "model_name": "ToggleButtonsModel",
      "state": {
       "_options_labels": [
        "BRK_GEN1",
        "BRK_GEN2"
       ],
       "button_style": "",
       "description": "project_name",
       "icons": [],
       "index": 0,
       "layout": "IPY_MODEL_480e385c115441db98208d7452435fa3",
       "style": "IPY_MODEL_5bd944dcd85f4f889a6f92669b79d844",
       "tooltips": []
      }
     },
     "20cb8d734c954e53a6896aee88eff297": {
      "model_module": "@jupyter-widgets/controls",
      "model_module_version": "1.4.0",
      "model_name": "DescriptionStyleModel",
      "state": {
       "description_width": ""
      }
     },
     "21a28a76a69a4fc69005466da2ad66fb": {
      "model_module": "@jupyter-widgets/base",
      "model_module_version": "1.1.0",
      "model_name": "LayoutModel",
      "state": {}
     },
     "221dbea20009406c8ca4c3ae14ac0cb7": {
      "model_module": "@jupyter-widgets/base",
      "model_module_version": "1.1.0",
      "model_name": "LayoutModel",
      "state": {}
     },
     "246c77289e154f27b95f3443dcfed666": {
      "model_module": "@jupyter-widgets/controls",
      "model_module_version": "1.4.0",
      "model_name": "DescriptionStyleModel",
      "state": {
       "description_width": ""
      }
     },
     "25075054923d46bda2eeb4ab3aebf05a": {
      "model_module": "@jupyter-widgets/base",
      "model_module_version": "1.1.0",
      "model_name": "LayoutModel",
      "state": {}
     },
     "2586bf77cd89457a9e66ea1006952efd": {
      "model_module": "@jupyter-widgets/controls",
      "model_module_version": "1.4.0",
      "model_name": "ToggleButtonsStyleModel",
      "state": {
       "button_width": "",
       "description_width": ""
      }
     },
     "26875520bd084afd8207adcc03e6e9e1": {
      "model_module": "@jupyter-widgets/base",
      "model_module_version": "1.1.0",
      "model_name": "LayoutModel",
      "state": {}
     },
     "26c08819ee75402fbd9f5004ef3a7b4d": {
      "model_module": "@jupyter-widgets/base",
      "model_module_version": "1.1.0",
      "model_name": "LayoutModel",
      "state": {}
     },
     "270ccb6eeb5d40b5867731087d2f2ec8": {
      "model_module": "@jupyter-widgets/controls",
      "model_module_version": "1.4.0",
      "model_name": "IntTextModel",
      "state": {
       "description": "number of samples to drop:",
       "layout": "IPY_MODEL_412160ab8f0c462fb215ea4334cc9a68",
       "step": 1,
       "style": "IPY_MODEL_6c70d4cab75d45eaa00f5ebd1cbb02b1"
      }
     },
     "272855928d7c434eb5d551858a67f949": {
      "model_module": "@jupyter-widgets/controls",
      "model_module_version": "1.4.0",
      "model_name": "TextModel",
      "state": {
       "description": "session_name",
       "layout": "IPY_MODEL_58f2bc1720b645bc9286f5e4c8daa57d",
       "style": "IPY_MODEL_17f28865939a4f9ebd44453c8efd02f7",
       "value": "session_name"
      }
     },
     "293086b50af54aa5be9b47a653d0f8aa": {
      "model_module": "@jupyter-widgets/controls",
      "model_module_version": "1.4.0",
      "model_name": "TextModel",
      "state": {
       "description": "user",
       "layout": "IPY_MODEL_0b67fd9d30664ff4b3d2085698e18993",
       "style": "IPY_MODEL_3ffd2015cd6a4372bd167f02b8b99af8",
       "value": "my_username"
      }
     },
     "2988f313bf634179ab89106c006b3904": {
      "model_module": "@jupyter-widgets/controls",
      "model_module_version": "1.4.0",
      "model_name": "CheckboxModel",
      "state": {
       "description": "msv_log_type",
       "disabled": false,
       "layout": "IPY_MODEL_182b1190b6e14d15b5e8248b8813e8cf",
       "style": "IPY_MODEL_9fcd743efc2b42ea9f0a12f3bb112c49",
       "value": true
      }
     },
     "29aaa65c0c1e4e1e94dd3477afa72b7c": {
      "model_module": "@jupyter-widgets/base",
      "model_module_version": "1.1.0",
      "model_name": "LayoutModel",
      "state": {}
     },
     "29f349f6082f4e8e879863ac8d105088": {
      "model_module": "@jupyter-widgets/controls",
      "model_module_version": "1.4.0",
      "model_name": "TextModel",
      "state": {
       "description": "log_path",
       "layout": "IPY_MODEL_10272f7855424fe3bb93abd1859d0bd8",
       "style": "IPY_MODEL_b0f17fe347db4401acdee525b29275dd",
       "value": "./log"
      }
     },
     "2af4e28b824b41a281bc39a1a857eaa3": {
      "model_module": "@jupyter-widgets/controls",
      "model_module_version": "1.4.0",
      "model_name": "ToggleButtonModel",
      "state": {
       "button_style": "success",
       "description": "run",
       "layout": "IPY_MODEL_e99230fba72546fd841aa63aa6ae699a",
       "style": "IPY_MODEL_6370b8db9b1b428b8a0710ade0c4f195",
       "value": true
      }
     },
     "2c076a0e5ab6421aa5b8272792f0ad97": {
      "model_module": "@jupyter-widgets/base",
      "model_module_version": "1.1.0",
      "model_name": "LayoutModel",
      "state": {}
     },
     "2d3b2419ac82449ba64d577cba17a306": {
      "model_module": "@jupyter-widgets/controls",
      "model_module_version": "1.4.0",
      "model_name": "VBoxModel",
      "state": {
       "_dom_classes": [
        "widget-interact"
       ],
       "children": [
        "IPY_MODEL_af46e03315c4402da01cc459b545e90c",
        "IPY_MODEL_12285735d69f4cdeae56b6324b24c99c",
        "IPY_MODEL_702bff9807494e0bb7e463332a8244b0",
        "IPY_MODEL_b3cdc04c2d09484ca7dfe680b9213b70",
        "IPY_MODEL_4489de20e0a04204951bd868d3ebad5c",
        "IPY_MODEL_deb23cc929d64019a98aebceff1312b1",
        "IPY_MODEL_a08d9732df7646ae8f03153b66e90a5e",
        "IPY_MODEL_952be405fbfd470494cbb7269b327505",
        "IPY_MODEL_65b55de5da744a4aac7d803801d64ef5",
        "IPY_MODEL_cbd54595545d418aa5019713d25b15aa",
        "IPY_MODEL_a70c604c173e4da99d79a0d2b9acf53c",
        "IPY_MODEL_ce8acfd4b13f4480a9bb33940a0f87b5",
        "IPY_MODEL_d5aa0721c85d4c1783c84faea566ce18"
       ],
       "layout": "IPY_MODEL_6a38b0899888433b9863a909220b5482"
      }
     },
     "2dde47b7383c4d8e98ef5d6df9d16c7a": {
      "model_module": "@jupyter-widgets/base",
      "model_module_version": "1.1.0",
      "model_name": "LayoutModel",
      "state": {}
     },
     "2e55385095f54b358641e3b4f78839ae": {
      "model_module": "@jupyter-widgets/base",
      "model_module_version": "1.1.0",
      "model_name": "LayoutModel",
      "state": {}
     },
     "2f0c6de814304f398727882454296060": {
      "model_module": "@jupyter-widgets/base",
      "model_module_version": "1.1.0",
      "model_name": "LayoutModel",
      "state": {}
     },
     "3212367fe12644e4ad8216cf8ff3eaf5": {
      "model_module": "@jupyter-widgets/controls",
      "model_module_version": "1.4.0",
      "model_name": "CheckboxModel",
      "state": {
       "description": "take_from_begining_of_log",
       "disabled": false,
       "layout": "IPY_MODEL_d4f80bc179804ce6ab4133a671879bc0",
       "style": "IPY_MODEL_1e5a2adb094e454a922ff6abbf73b9f3",
       "value": false
      }
     },
     "32caeeabec8044d286fa1ea4461e3734": {
      "model_module": "@jupyter-widgets/controls",
      "model_module_version": "1.4.0",
      "model_name": "DescriptionStyleModel",
      "state": {
       "description_width": ""
      }
     },
     "334fad5b348949b8b131a832ca0a1897": {
      "model_module": "@jupyter-widgets/base",
      "model_module_version": "1.1.0",
      "model_name": "LayoutModel",
      "state": {}
     },
     "336e7184829146cea22c3cb22b003566": {
      "model_module": "@jupyter-widgets/controls",
      "model_module_version": "1.4.0",
      "model_name": "TextModel",
      "state": {
       "description": "session_name",
       "layout": "IPY_MODEL_9dbe819ecd7346fc8e369a8b3044773c",
       "style": "IPY_MODEL_39b60c94980c464e9cccbb0ed741a18c",
       "value": "session_name"
      }
     },
     "3420e5e1a66e4df885516e091d784878": {
      "model_module": "@jupyter-widgets/controls",
      "model_module_version": "1.4.0",
      "model_name": "TextModel",
      "state": {
       "description": "hidden_dict",
       "layout": "IPY_MODEL_2e55385095f54b358641e3b4f78839ae",
       "style": "IPY_MODEL_9e1f93b9cd6348178e0c22bf9e2fd2f9",
       "value": "{\"hi\":4}"
      }
     },
     "34445209d90b40f2a2ac4cac93f0460f": {
      "model_module": "@jupyter-widgets/output",
      "model_module_version": "1.0.0",
      "model_name": "OutputModel",
      "state": {
       "layout": "IPY_MODEL_51202f562d774b939bcd392764654573"
      }
     },
     "364bc9928bd541ef9bd4df9d1f6ba803": {
      "model_module": "@jupyter-widgets/controls",
      "model_module_version": "1.4.0",
      "model_name": "DescriptionStyleModel",
      "state": {
       "description_width": "initial"
      }
     },
     "38153757bf5e45c2a87cb9744c3a4cb5": {
      "model_module": "@jupyter-widgets/base",
      "model_module_version": "1.1.0",
      "model_name": "LayoutModel",
      "state": {}
     },
     "381c834e99e14a51a124b44fee83d09b": {
      "model_module": "@jupyter-widgets/controls",
      "model_module_version": "1.4.0",
      "model_name": "DescriptionStyleModel",
      "state": {
       "description_width": ""
      }
     },
     "39b60c94980c464e9cccbb0ed741a18c": {
      "model_module": "@jupyter-widgets/controls",
      "model_module_version": "1.4.0",
      "model_name": "DescriptionStyleModel",
      "state": {
       "description_width": ""
      }
     },
     "3a638ce92e944b9db7ac816f81420329": {
      "model_module": "@jupyter-widgets/controls",
      "model_module_version": "1.4.0",
      "model_name": "DescriptionStyleModel",
      "state": {
       "description_width": ""
      }
     },
     "3bca24ecc0d4408d9b605733fd33cedb": {
      "model_module": "@jupyter-widgets/controls",
      "model_module_version": "1.4.0",
      "model_name": "ToggleButtonsStyleModel",
      "state": {
       "button_width": "",
       "description_width": ""
      }
     },
     "3c2f43a84dcf4c4093abb1c0f8faf8ee": {
      "model_module": "@jupyter-widgets/controls",
      "model_module_version": "1.4.0",
      "model_name": "TextModel",
      "state": {
       "description": "log_path",
       "layout": "IPY_MODEL_1143fd1b99b14b418f10291c2385611e",
       "style": "IPY_MODEL_12a6ff20e31d4f49bc6e0b42f4236eae",
       "value": "./log"
      }
     },
     "3d5196c375d74334bf0e1ce691424d8b": {
      "model_module": "@jupyter-widgets/base",
      "model_module_version": "1.1.0",
      "model_name": "LayoutModel",
      "state": {
       "width": "60"
      }
     },
     "3ea2731753504636b3f34cd998e31c9c": {
      "model_module": "@jupyter-widgets/base",
      "model_module_version": "1.1.0",
      "model_name": "LayoutModel",
      "state": {}
     },
     "3f82622d5ece44bbb3532e730eca37dc": {
      "model_module": "@jupyter-widgets/base",
      "model_module_version": "1.1.0",
      "model_name": "LayoutModel",
      "state": {}
     },
     "3fbd0e104de0478aa37a211207509796": {
      "model_module": "@jupyter-widgets/controls",
      "model_module_version": "1.4.0",
      "model_name": "IntTextModel",
      "state": {
       "description": "number of samples to drop:",
       "layout": "IPY_MODEL_c20e2f31a01043cabfbf88be1e2cbe36",
       "step": 1,
       "style": "IPY_MODEL_364bc9928bd541ef9bd4df9d1f6ba803"
      }
     },
     "3ffd2015cd6a4372bd167f02b8b99af8": {
      "model_module": "@jupyter-widgets/controls",
      "model_module_version": "1.4.0",
      "model_name": "DescriptionStyleModel",
      "state": {
       "description_width": ""
      }
     },
     "412160ab8f0c462fb215ea4334cc9a68": {
      "model_module": "@jupyter-widgets/base",
      "model_module_version": "1.1.0",
      "model_name": "LayoutModel",
      "state": {
       "width": "60"
      }
     },
     "426d7e32a08d4b4a8353614ee62db918": {
      "model_module": "@jupyter-widgets/base",
      "model_module_version": "1.1.0",
      "model_name": "LayoutModel",
      "state": {
       "width": "60"
      }
     },
     "43af6f866e2d438dab73d91b798196fd": {
      "model_module": "@jupyter-widgets/base",
      "model_module_version": "1.1.0",
      "model_name": "LayoutModel",
      "state": {
       "width": "60"
      }
     },
     "43e560f3b6f1458e8d0b6fb32b06fd3f": {
      "model_module": "@jupyter-widgets/controls",
      "model_module_version": "1.4.0",
      "model_name": "DescriptionStyleModel",
      "state": {
       "description_width": ""
      }
     },
     "44176bfb0918422981f03d320548b7c6": {
      "model_module": "@jupyter-widgets/controls",
      "model_module_version": "1.4.0",
      "model_name": "ToggleButtonModel",
      "state": {
       "button_style": "success",
       "description": "run",
       "layout": "IPY_MODEL_934f8026b07740a5b669a9e26444ad24",
       "style": "IPY_MODEL_c717d75603d74d4b9e195d0e8f7b379b"
      }
     },
     "4489de20e0a04204951bd868d3ebad5c": {
      "model_module": "@jupyter-widgets/controls",
      "model_module_version": "1.4.0",
      "model_name": "ToggleButtonsModel",
      "state": {
       "_options_labels": [
        "BRK_GEN1",
        "BRK_GEN2"
       ],
       "button_style": "",
       "description": "project_name",
       "icons": [],
       "index": 0,
       "layout": "IPY_MODEL_b06afaf01b9b4cde8e1f2d133557b74c",
       "style": "IPY_MODEL_b74c575c65f548988178475a6df08ac2",
       "tooltips": []
      }
     },
     "4662f7c53304432eaef5ea0492bef3da": {
      "model_module": "@jupyter-widgets/controls",
      "model_module_version": "1.4.0",
      "model_name": "DescriptionStyleModel",
      "state": {
       "description_width": ""
      }
     },
     "46aadce82bda422eaa58d7405873f8d4": {
      "model_module": "@jupyter-widgets/controls",
      "model_module_version": "1.4.0",
      "model_name": "VBoxModel",
      "state": {
       "_dom_classes": [
        "widget-interact"
       ],
       "children": [
        "IPY_MODEL_7451c7c9e0fa45d09e5e9e394cb6f0e5",
        "IPY_MODEL_e7f6e01a5fa64833bcf736285eefb667",
        "IPY_MODEL_d555736941cd455ea167c5216470d134",
        "IPY_MODEL_b8f50307b30c4c539a2e051483a35c4c",
        "IPY_MODEL_13261b4bbbf446389dfbf3892bea61a1",
        "IPY_MODEL_56cfe8ad29bc4b74a35faaa56dc1e790",
        "IPY_MODEL_d3993a1a2e8741c9866210c60bfb6df7",
        "IPY_MODEL_aca6125de06c4c06956650aa80a9e8bd",
        "IPY_MODEL_fb697e00e7e94050a57597d8ca24ab3a",
        "IPY_MODEL_9ad1f0117e814b7faf3cac45f1e29414",
        "IPY_MODEL_eda53c5d662847d184078ea82afcccea",
        "IPY_MODEL_4bfe0a08399a45f8946b7e09151a85b1",
        "IPY_MODEL_cea1c2c664dd4301b715ab137a8c05b3"
       ],
       "layout": "IPY_MODEL_aa5c9d7e21c3410eb288ca93e2f5e467"
      }
     },
     "46c3a7fb78524959af7ccc492dea4218": {
      "model_module": "@jupyter-widgets/controls",
      "model_module_version": "1.4.0",
      "model_name": "DescriptionStyleModel",
      "state": {
       "description_width": "initial"
      }
     },
     "474a8e0f124540e99d1b0bb0761cdd89": {
      "model_module": "@jupyter-widgets/controls",
      "model_module_version": "1.4.0",
      "model_name": "IntTextModel",
      "state": {
       "description": "number of samples to take:",
       "layout": "IPY_MODEL_d3338a60bdc74e5181a2cad19cba7b78",
       "step": 1,
       "style": "IPY_MODEL_adf1536f18ab4622888890af6546b2ba",
       "value": 32768
      }
     },
     "47b399049c5442e7916db6bac61d2872": {
      "model_module": "@jupyter-widgets/output",
      "model_module_version": "1.0.0",
      "model_name": "OutputModel",
      "state": {
       "layout": "IPY_MODEL_334fad5b348949b8b131a832ca0a1897"
      }
     },
     "47e770dda66c4189952b951cd926408d": {
      "model_module": "@jupyter-widgets/base",
      "model_module_version": "1.1.0",
      "model_name": "LayoutModel",
      "state": {}
     },
     "480e385c115441db98208d7452435fa3": {
      "model_module": "@jupyter-widgets/base",
      "model_module_version": "1.1.0",
      "model_name": "LayoutModel",
      "state": {}
     },
     "4816d5752ab44eaebda63b9dd3539594": {
      "model_module": "@jupyter-widgets/controls",
      "model_module_version": "1.4.0",
      "model_name": "DescriptionStyleModel",
      "state": {
       "description_width": ""
      }
     },
     "486015ef440143ff838fdc7688cc135f": {
      "model_module": "@jupyter-widgets/output",
      "model_module_version": "1.0.0",
      "model_name": "OutputModel",
      "state": {
       "layout": "IPY_MODEL_2dde47b7383c4d8e98ef5d6df9d16c7a",
       "outputs": [
        {
         "name": "stderr",
         "output_type": "stream",
         "text": "0it [00:00, ?it/s]\n/nfs/iil/disks/hdk_ws/ckt/lisrael1/lior_dir/virtual_env/env/lib/python3.6/site-packages/psycopg2/__init__.py:144: UserWarning: The psycopg2 wheel package will be renamed from release 2.8; in order to keep installing from binary please use \"pip install psycopg2-binary\" instead. For details see: <http://initd.org/psycopg/docs/install.html#binary-install-from-pypi>.\n  \"\"\")\n0it [00:00, ?it/s]\n"
        },
        {
         "name": "stdout",
         "output_type": "stream",
         "text": "\u001b[94m\u001b[1m\u001b[4mdone uploading to ART!!\u001b[0m\nhttp://iapp257.iil.intel.com:4887/art\nhttp://goto.intel.com/art\n"
        },
        {
         "ename": "UnboundLocalError",
         "evalue": "local variable 'ARTHelper' referenced before assignment",
         "output_type": "error",
         "traceback": [
          "\u001b[0;31m---------------------------------------------------------------------------\u001b[0m",
          "\u001b[0;31mUnboundLocalError\u001b[0m                         Traceback (most recent call last)",
          "\u001b[0;32m/nfs/iil/disks/hdk_ws/ckt/lisrael1/lior_dir/virtual_env/env/lib/python3.6/site-packages/ipywidgets/widgets/interaction.py\u001b[0m in \u001b[0;36mupdate\u001b[0;34m(self, *args)\u001b[0m\n\u001b[1;32m    249\u001b[0m                     \u001b[0mvalue\u001b[0m \u001b[0;34m=\u001b[0m \u001b[0mwidget\u001b[0m\u001b[0;34m.\u001b[0m\u001b[0mget_interact_value\u001b[0m\u001b[0;34m(\u001b[0m\u001b[0;34m)\u001b[0m\u001b[0;34m\u001b[0m\u001b[0m\n\u001b[1;32m    250\u001b[0m                     \u001b[0mself\u001b[0m\u001b[0;34m.\u001b[0m\u001b[0mkwargs\u001b[0m\u001b[0;34m[\u001b[0m\u001b[0mwidget\u001b[0m\u001b[0;34m.\u001b[0m\u001b[0m_kwarg\u001b[0m\u001b[0;34m]\u001b[0m \u001b[0;34m=\u001b[0m \u001b[0mvalue\u001b[0m\u001b[0;34m\u001b[0m\u001b[0m\n\u001b[0;32m--> 251\u001b[0;31m                 \u001b[0mself\u001b[0m\u001b[0;34m.\u001b[0m\u001b[0mresult\u001b[0m \u001b[0;34m=\u001b[0m \u001b[0mself\u001b[0m\u001b[0;34m.\u001b[0m\u001b[0mf\u001b[0m\u001b[0;34m(\u001b[0m\u001b[0;34m**\u001b[0m\u001b[0mself\u001b[0m\u001b[0;34m.\u001b[0m\u001b[0mkwargs\u001b[0m\u001b[0;34m)\u001b[0m\u001b[0;34m\u001b[0m\u001b[0m\n\u001b[0m\u001b[1;32m    252\u001b[0m                 \u001b[0mshow_inline_matplotlib_plots\u001b[0m\u001b[0;34m(\u001b[0m\u001b[0;34m)\u001b[0m\u001b[0;34m\u001b[0m\u001b[0m\n\u001b[1;32m    253\u001b[0m                 \u001b[0;32mif\u001b[0m \u001b[0mself\u001b[0m\u001b[0;34m.\u001b[0m\u001b[0mauto_display\u001b[0m \u001b[0;32mand\u001b[0m \u001b[0mself\u001b[0m\u001b[0;34m.\u001b[0m\u001b[0mresult\u001b[0m \u001b[0;32mis\u001b[0m \u001b[0;32mnot\u001b[0m \u001b[0;32mNone\u001b[0m\u001b[0;34m:\u001b[0m\u001b[0;34m\u001b[0m\u001b[0m\n",
          "\u001b[0;32m<ipython-input-1-395b4d6d3ba6>\u001b[0m in \u001b[0;36mi\u001b[0;34m(log_path, user, first_dict, session_name, project_name, hidden_dict, msv_log_type, take_from_begining_of_log, how_many_samples_to_drop, how_many_samples_to_upload, which_place_at_msv_report, run)\u001b[0m\n\u001b[1;32m     36\u001b[0m                                    \u001b[0mhow_many_samples_to_drop\u001b[0m \u001b[0;34m=\u001b[0m \u001b[0mhow_many_samples_to_drop\u001b[0m\u001b[0;34m,\u001b[0m\u001b[0;34m\u001b[0m\u001b[0m\n\u001b[1;32m     37\u001b[0m                                    \u001b[0mtake_from_begining_of_log\u001b[0m \u001b[0;34m=\u001b[0m \u001b[0mtake_from_begining_of_log\u001b[0m\u001b[0;34m,\u001b[0m\u001b[0;34m\u001b[0m\u001b[0m\n\u001b[0;32m---> 38\u001b[0;31m                                    which_place_at_msv_report = which_place_at_msv_report)\n\u001b[0m\u001b[1;32m     39\u001b[0m hide='''\n\u001b[1;32m     40\u001b[0m \u001b[0;34m<\u001b[0m\u001b[0mscript\u001b[0m\u001b[0;34m>\u001b[0m\u001b[0;34m\u001b[0m\u001b[0m\n",
          "\u001b[0;32m/nfs/iil/disks/hip_ana_sim_01/dgottesm/analysis_and_tools/jupyter_notebooks/brk_scope/BRK_post_process/upload_to_art/logs_to_art.py\u001b[0m in \u001b[0;36mraw_data_from_logs_to_art\u001b[0;34m(logs_path_with_asterisk, user, dct, session_name, hidden_dict, project_name, msv_report_1_csv_0, how_many_samples_to_upload, how_many_samples_to_drop, take_from_begining_of_log, which_place_at_msv_report)\u001b[0m\n\u001b[1;32m     33\u001b[0m                 \u001b[0mtmp_dct\u001b[0m\u001b[0;34m[\u001b[0m\u001b[0;34m'dct'\u001b[0m\u001b[0;34m]\u001b[0m\u001b[0;34m.\u001b[0m\u001b[0mupdate\u001b[0m\u001b[0;34m(\u001b[0m\u001b[0mdct\u001b[0m\u001b[0;34m)\u001b[0m\u001b[0;34m\u001b[0m\u001b[0m\n\u001b[1;32m     34\u001b[0m                 \u001b[0mlist_of_art_dicts_to_upload\u001b[0m\u001b[0;34m+=\u001b[0m\u001b[0;34m[\u001b[0m\u001b[0msimple_art_dict\u001b[0m\u001b[0;34m(\u001b[0m\u001b[0;34m**\u001b[0m\u001b[0mtmp_dct\u001b[0m\u001b[0;34m)\u001b[0m\u001b[0;34m]\u001b[0m\u001b[0;34m\u001b[0m\u001b[0m\n\u001b[0;32m---> 35\u001b[0;31m         \u001b[0mupload_to_ogre\u001b[0m\u001b[0;34m(\u001b[0m\u001b[0mlist_of_art_dicts_to_upload\u001b[0m\u001b[0;34m)\u001b[0m\u001b[0;34m\u001b[0m\u001b[0m\n\u001b[0m\u001b[1;32m     36\u001b[0m \u001b[0;34m\u001b[0m\u001b[0m\n\u001b[1;32m     37\u001b[0m \u001b[0;34m\u001b[0m\u001b[0m\n",
          "\u001b[0;32m/nfs/iil/disks/hip_ana_sim_01/dgottesm/analysis_and_tools/jupyter_notebooks/brk_scope/BRK_post_process/upload_to_art/simple_art_uploader.py\u001b[0m in \u001b[0;36mupload_to_ogre\u001b[0;34m(all_data_dict_list, close_art_session)\u001b[0m\n\u001b[1;32m     76\u001b[0m         \u001b[0;34m'''next 2 lines for clearing ogre object so next upload will be new test'''\u001b[0m\u001b[0;34m\u001b[0m\u001b[0m\n\u001b[1;32m     77\u001b[0m         \u001b[0mimportlib\u001b[0m\u001b[0;34m.\u001b[0m\u001b[0mreload\u001b[0m\u001b[0;34m(\u001b[0m\u001b[0mOgreControl\u001b[0m\u001b[0;34m)\u001b[0m\u001b[0;34m\u001b[0m\u001b[0m\n\u001b[0;32m---> 78\u001b[0;31m         \u001b[0;32mdel\u001b[0m \u001b[0;34m(\u001b[0m\u001b[0mARTHelper\u001b[0m\u001b[0;34m)\u001b[0m\u001b[0;34m\u001b[0m\u001b[0m\n\u001b[0m\u001b[1;32m     79\u001b[0m \u001b[0;34m\u001b[0m\u001b[0m\n\u001b[1;32m     80\u001b[0m \u001b[0;34m\u001b[0m\u001b[0m\n",
          "\u001b[0;31mUnboundLocalError\u001b[0m: local variable 'ARTHelper' referenced before assignment"
         ]
        }
       ]
      }
     },
     "498b632cd2ff4119b721fcdfd3fb7043": {
      "model_module": "@jupyter-widgets/base",
      "model_module_version": "1.1.0",
      "model_name": "LayoutModel",
      "state": {}
     },
     "4ab88cb0c6dd4e7b85720074a91dca56": {
      "model_module": "@jupyter-widgets/controls",
      "model_module_version": "1.4.0",
      "model_name": "DescriptionStyleModel",
      "state": {
       "description_width": ""
      }
     },
     "4addf737829c4af79d2a609c6bb980f5": {
      "model_module": "@jupyter-widgets/controls",
      "model_module_version": "1.4.0",
      "model_name": "TextModel",
      "state": {
       "description": "log_path",
       "layout": "IPY_MODEL_d79cfed30d684bc29e921f737ce2749d",
       "style": "IPY_MODEL_6cabb1a198e7443298921637e8383f0e",
       "value": "./log"
      }
     },
     "4b45f35ca1784c9baae7ced78fc11684": {
      "model_module": "@jupyter-widgets/controls",
      "model_module_version": "1.4.0",
      "model_name": "ToggleButtonsModel",
      "state": {
       "_options_labels": [
        "BRK_GEN1",
        "BRK_GEN2"
       ],
       "button_style": "",
       "description": "project_name",
       "icons": [],
       "index": 0,
       "layout": "IPY_MODEL_5a39ff563a2245c697783c19aeb7916f",
       "style": "IPY_MODEL_3bca24ecc0d4408d9b605733fd33cedb",
       "tooltips": []
      }
     },
     "4bf6b042f2eb4ff1b0b05840bca42a63": {
      "model_module": "@jupyter-widgets/base",
      "model_module_version": "1.1.0",
      "model_name": "LayoutModel",
      "state": {}
     },
     "4bfe0a08399a45f8946b7e09151a85b1": {
      "model_module": "@jupyter-widgets/controls",
      "model_module_version": "1.4.0",
      "model_name": "ToggleButtonModel",
      "state": {
       "button_style": "success",
       "description": "run",
       "layout": "IPY_MODEL_38153757bf5e45c2a87cb9744c3a4cb5",
       "style": "IPY_MODEL_631987b05fe94ab2922ffb585cdcbfed"
      }
     },
     "4c887c7404f6454bb1154ebe83e2263b": {
      "model_module": "@jupyter-widgets/controls",
      "model_module_version": "1.4.0",
      "model_name": "ToggleButtonsModel",
      "state": {
       "_options_labels": [
        "BRK_GEN1",
        "BRK_GEN2"
       ],
       "button_style": "",
       "description": "project_name",
       "icons": [],
       "index": 0,
       "layout": "IPY_MODEL_afbb669073304074bc90e565edf90f28",
       "style": "IPY_MODEL_d9cfafcd52ef4c619d64dd6fdd32d0b7",
       "tooltips": []
      }
     },
     "4d3a3d1b30bb4e8f96e0d6af0c1a4222": {
      "model_module": "@jupyter-widgets/controls",
      "model_module_version": "1.4.0",
      "model_name": "DescriptionStyleModel",
      "state": {
       "description_width": ""
      }
     },
     "4d730f69fabe49908918ea09c2b2d1db": {
      "model_module": "@jupyter-widgets/base",
      "model_module_version": "1.1.0",
      "model_name": "LayoutModel",
      "state": {}
     },
     "4e1417fc3cfb4cbbabc9c15b9138d4cf": {
      "model_module": "@jupyter-widgets/controls",
      "model_module_version": "1.4.0",
      "model_name": "TextModel",
      "state": {
       "description": "which_place_at_msv_report",
       "layout": "IPY_MODEL_b399c143f1824eb9b15264a4106afb33",
       "style": "IPY_MODEL_9c098796c68c4959bf37b4ce8d86b3ba",
       "value": "align_output"
      }
     },
     "4e413d9dfcc44f0caa517d2a58f41e87": {
      "model_module": "@jupyter-widgets/controls",
      "model_module_version": "1.4.0",
      "model_name": "DescriptionStyleModel",
      "state": {
       "description_width": "initial"
      }
     },
     "4e48cc84b8d84cba845f62e726ccee5d": {
      "model_module": "@jupyter-widgets/base",
      "model_module_version": "1.1.0",
      "model_name": "LayoutModel",
      "state": {
       "width": "60"
      }
     },
     "4e88f6e8e21e4b6a92b45943aeca7ec9": {
      "model_module": "@jupyter-widgets/base",
      "model_module_version": "1.1.0",
      "model_name": "LayoutModel",
      "state": {}
     },
     "502613972a004ab6a90483db2adb278a": {
      "model_module": "@jupyter-widgets/controls",
      "model_module_version": "1.4.0",
      "model_name": "IntTextModel",
      "state": {
       "description": "number of samples to take:",
       "layout": "IPY_MODEL_426d7e32a08d4b4a8353614ee62db918",
       "step": 1,
       "style": "IPY_MODEL_0199febff66248c4acf5d15d19df036e",
       "value": 32768
      }
     },
     "50a456e3b7724a86b7c7e13d08db18c7": {
      "model_module": "@jupyter-widgets/controls",
      "model_module_version": "1.4.0",
      "model_name": "DescriptionStyleModel",
      "state": {
       "description_width": ""
      }
     },
     "51202f562d774b939bcd392764654573": {
      "model_module": "@jupyter-widgets/base",
      "model_module_version": "1.1.0",
      "model_name": "LayoutModel",
      "state": {}
     },
     "522e7696d53b45aaa93e6514bf6fe96f": {
      "model_module": "@jupyter-widgets/controls",
      "model_module_version": "1.4.0",
      "model_name": "IntTextModel",
      "state": {
       "description": "number of samples to drop:",
       "layout": "IPY_MODEL_abd26fced5b54a74a61e682489ccf1f6",
       "step": 1,
       "style": "IPY_MODEL_1ca5d893744748f684043d29597fad7e"
      }
     },
     "543a8f18909543a1b5785dd572b51fb1": {
      "model_module": "@jupyter-widgets/base",
      "model_module_version": "1.1.0",
      "model_name": "LayoutModel",
      "state": {
       "width": "80%"
      }
     },
     "55f45db7884c4a94a562f5e92f0ac937": {
      "model_module": "@jupyter-widgets/controls",
      "model_module_version": "1.4.0",
      "model_name": "CheckboxModel",
      "state": {
       "description": "msv_log_type",
       "disabled": false,
       "layout": "IPY_MODEL_0dd0affba4884853968b761d88adba90",
       "style": "IPY_MODEL_6db79f347a1c43a284f000bee3faea3a",
       "value": true
      }
     },
     "565a73424d4043128172253462c0d759": {
      "model_module": "@jupyter-widgets/controls",
      "model_module_version": "1.4.0",
      "model_name": "DescriptionStyleModel",
      "state": {
       "description_width": ""
      }
     },
     "56cfe8ad29bc4b74a35faaa56dc1e790": {
      "model_module": "@jupyter-widgets/controls",
      "model_module_version": "1.4.0",
      "model_name": "TextModel",
      "state": {
       "description": "hidden_dict",
       "layout": "IPY_MODEL_26875520bd084afd8207adcc03e6e9e1",
       "style": "IPY_MODEL_62558722368c44aab8d201416ab90937",
       "value": "{\"hi\":4}"
      }
     },
     "56df5d6519494c9fabe1930ab5ee3634": {
      "model_module": "@jupyter-widgets/controls",
      "model_module_version": "1.4.0",
      "model_name": "TextModel",
      "state": {
       "description": "user",
       "layout": "IPY_MODEL_ebe409e2bacc46d6b8ef74e520380d81",
       "style": "IPY_MODEL_c5f3487becf34948b4741658518badd8",
       "value": "my_username"
      }
     },
     "5899984149a543dbb5a977631683d2eb": {
      "model_module": "@jupyter-widgets/controls",
      "model_module_version": "1.4.0",
      "model_name": "DescriptionStyleModel",
      "state": {
       "description_width": ""
      }
     },
     "58f2bc1720b645bc9286f5e4c8daa57d": {
      "model_module": "@jupyter-widgets/base",
      "model_module_version": "1.1.0",
      "model_name": "LayoutModel",
      "state": {}
     },
     "5a19b336440e4bd4b86123923b07d929": {
      "model_module": "@jupyter-widgets/base",
      "model_module_version": "1.1.0",
      "model_name": "LayoutModel",
      "state": {}
     },
     "5a1b139b3a8245e6bb0a776e1d1a7033": {
      "model_module": "@jupyter-widgets/controls",
      "model_module_version": "1.4.0",
      "model_name": "CheckboxModel",
      "state": {
       "description": "take_from_begining_of_log",
       "disabled": false,
       "layout": "IPY_MODEL_79ee3539fdef46cfb9914e7cc3f44e56",
       "style": "IPY_MODEL_6ead73616fc94b11874fc61a5341e683",
       "value": false
      }
     },
     "5a39ff563a2245c697783c19aeb7916f": {
      "model_module": "@jupyter-widgets/base",
      "model_module_version": "1.1.0",
      "model_name": "LayoutModel",
      "state": {}
     },
     "5bd944dcd85f4f889a6f92669b79d844": {
      "model_module": "@jupyter-widgets/controls",
      "model_module_version": "1.4.0",
      "model_name": "ToggleButtonsStyleModel",
      "state": {
       "button_width": "",
       "description_width": ""
      }
     },
     "5c31ba0d8f574630bc3cc5b38f2c761e": {
      "model_module": "@jupyter-widgets/base",
      "model_module_version": "1.1.0",
      "model_name": "LayoutModel",
      "state": {
       "width": "60"
      }
     },
     "5c7a9b5706264d9696daf3f2fbd72aca": {
      "model_module": "@jupyter-widgets/controls",
      "model_module_version": "1.4.0",
      "model_name": "DescriptionStyleModel",
      "state": {
       "description_width": "initial"
      }
     },
     "5d4265670a4849739ec00c0df2048e89": {
      "model_module": "@jupyter-widgets/controls",
      "model_module_version": "1.4.0",
      "model_name": "TextModel",
      "state": {
       "description": "hidden_dict",
       "layout": "IPY_MODEL_95baf8337a1c4fd9bd4b078440bedcdd",
       "style": "IPY_MODEL_c8f89f2dd227478d9cb1c0eb88e29b49",
       "value": "{\"hi\":4}"
      }
     },
     "60379b09ee574f45843b0db57823d888": {
      "model_module": "@jupyter-widgets/controls",
      "model_module_version": "1.4.0",
      "model_name": "TextModel",
      "state": {
       "description": "user",
       "layout": "IPY_MODEL_b4763704cca64ca7893b0e9921965fc3",
       "style": "IPY_MODEL_ddaaa609b73c462ca00de7dd84265433",
       "value": "my_username"
      }
     },
     "60848b1943a7451fb7f30313a6ff15d5": {
      "model_module": "@jupyter-widgets/output",
      "model_module_version": "1.0.0",
      "model_name": "OutputModel",
      "state": {
       "layout": "IPY_MODEL_c258cecb29d14358917e4a65003681bc"
      }
     },
     "6121fbe435f4401ebd24e842bd928caa": {
      "model_module": "@jupyter-widgets/controls",
      "model_module_version": "1.4.0",
      "model_name": "ToggleButtonsModel",
      "state": {
       "_options_labels": [
        "BRK_GEN1",
        "BRK_GEN2"
       ],
       "button_style": "",
       "description": "project_name",
       "icons": [],
       "index": 0,
       "layout": "IPY_MODEL_d7b5b1484dfa4cdc9701d77f943aefff",
       "style": "IPY_MODEL_2586bf77cd89457a9e66ea1006952efd",
       "tooltips": []
      }
     },
     "62558722368c44aab8d201416ab90937": {
      "model_module": "@jupyter-widgets/controls",
      "model_module_version": "1.4.0",
      "model_name": "DescriptionStyleModel",
      "state": {
       "description_width": ""
      }
     },
     "6280a36b9648481c92a1e500a6bb62ba": {
      "model_module": "@jupyter-widgets/controls",
      "model_module_version": "1.4.0",
      "model_name": "DescriptionStyleModel",
      "state": {
       "description_width": "initial"
      }
     },
     "631987b05fe94ab2922ffb585cdcbfed": {
      "model_module": "@jupyter-widgets/controls",
      "model_module_version": "1.4.0",
      "model_name": "DescriptionStyleModel",
      "state": {
       "description_width": ""
      }
     },
     "6370b8db9b1b428b8a0710ade0c4f195": {
      "model_module": "@jupyter-widgets/controls",
      "model_module_version": "1.4.0",
      "model_name": "DescriptionStyleModel",
      "state": {
       "description_width": ""
      }
     },
     "637a789c64d04262831d2e0acd2d5e6f": {
      "model_module": "@jupyter-widgets/base",
      "model_module_version": "1.1.0",
      "model_name": "LayoutModel",
      "state": {}
     },
     "63d635304d2446788ee17b9293d076af": {
      "model_module": "@jupyter-widgets/controls",
      "model_module_version": "1.4.0",
      "model_name": "TextModel",
      "state": {
       "description": "log_path",
       "layout": "IPY_MODEL_e235110de4aa45e6bde48ac448ed9e93",
       "style": "IPY_MODEL_97422ff9b4fa4a7b931a93b757604108",
       "value": "./log"
      }
     },
     "65b55de5da744a4aac7d803801d64ef5": {
      "model_module": "@jupyter-widgets/controls",
      "model_module_version": "1.4.0",
      "model_name": "IntTextModel",
      "state": {
       "description": "number of samples to drop:",
       "layout": "IPY_MODEL_0de05c28bdcd4c2bad6ca86d57f4a4a4",
       "step": 1,
       "style": "IPY_MODEL_8e2daa446af7454d966a6b24ccbd46e9"
      }
     },
     "66fcbd9f216a49f4a33722ccd2769008": {
      "model_module": "@jupyter-widgets/output",
      "model_module_version": "1.0.0",
      "model_name": "OutputModel",
      "state": {
       "layout": "IPY_MODEL_5a19b336440e4bd4b86123923b07d929"
      }
     },
     "67219e38e716415ca996c92c834355b6": {
      "model_module": "@jupyter-widgets/controls",
      "model_module_version": "1.4.0",
      "model_name": "TextModel",
      "state": {
       "description": "log_path",
       "layout": "IPY_MODEL_b7f5c7adfc284312b373db1693f6c635",
       "style": "IPY_MODEL_381c834e99e14a51a124b44fee83d09b",
       "value": "./log"
      }
     },
     "6a38b0899888433b9863a909220b5482": {
      "model_module": "@jupyter-widgets/base",
      "model_module_version": "1.1.0",
      "model_name": "LayoutModel",
      "state": {}
     },
     "6ac8105a4488465b80c81291a00aa58d": {
      "model_module": "@jupyter-widgets/controls",
      "model_module_version": "1.4.0",
      "model_name": "TextModel",
      "state": {
       "description": "which_place_at_msv_report",
       "layout": "IPY_MODEL_840924bf9ae142e48bee72c09c566267",
       "style": "IPY_MODEL_4ab88cb0c6dd4e7b85720074a91dca56",
       "value": "align_output"
      }
     },
     "6b17922f1a5b44c0be5e8931fe7141f5": {
      "model_module": "@jupyter-widgets/controls",
      "model_module_version": "1.4.0",
      "model_name": "DescriptionStyleModel",
      "state": {
       "description_width": ""
      }
     },
     "6c70d4cab75d45eaa00f5ebd1cbb02b1": {
      "model_module": "@jupyter-widgets/controls",
      "model_module_version": "1.4.0",
      "model_name": "DescriptionStyleModel",
      "state": {
       "description_width": "initial"
      }
     },
     "6cabb1a198e7443298921637e8383f0e": {
      "model_module": "@jupyter-widgets/controls",
      "model_module_version": "1.4.0",
      "model_name": "DescriptionStyleModel",
      "state": {
       "description_width": ""
      }
     },
     "6da68d6eac8743a4a5baa00dcaf32810": {
      "model_module": "@jupyter-widgets/base",
      "model_module_version": "1.1.0",
      "model_name": "LayoutModel",
      "state": {}
     },
     "6db79f347a1c43a284f000bee3faea3a": {
      "model_module": "@jupyter-widgets/controls",
      "model_module_version": "1.4.0",
      "model_name": "DescriptionStyleModel",
      "state": {
       "description_width": ""
      }
     },
     "6ddc291eae1643a3bdd668d33d6f0325": {
      "model_module": "@jupyter-widgets/base",
      "model_module_version": "1.1.0",
      "model_name": "LayoutModel",
      "state": {
       "width": "60"
      }
     },
     "6ea9673425634d04b9cbacc3223078a7": {
      "model_module": "@jupyter-widgets/controls",
      "model_module_version": "1.4.0",
      "model_name": "DescriptionStyleModel",
      "state": {
       "description_width": ""
      }
     },
     "6ead73616fc94b11874fc61a5341e683": {
      "model_module": "@jupyter-widgets/controls",
      "model_module_version": "1.4.0",
      "model_name": "DescriptionStyleModel",
      "state": {
       "description_width": ""
      }
     },
     "6f20668cec2f48378bb2c2e589c5e101": {
      "model_module": "@jupyter-widgets/controls",
      "model_module_version": "1.4.0",
      "model_name": "CheckboxModel",
      "state": {
       "description": "take_from_begining_of_log",
       "disabled": false,
       "layout": "IPY_MODEL_4d730f69fabe49908918ea09c2b2d1db",
       "style": "IPY_MODEL_b66533539bc845c385acd157b1b0d7bb",
       "value": false
      }
     },
     "702bff9807494e0bb7e463332a8244b0": {
      "model_module": "@jupyter-widgets/controls",
      "model_module_version": "1.4.0",
      "model_name": "TextModel",
      "state": {
       "description": "first_dict",
       "layout": "IPY_MODEL_afe26b8466af4a288786b907aebbdf6a",
       "style": "IPY_MODEL_32caeeabec8044d286fa1ea4461e3734",
       "value": "{\"hi\":4}"
      }
     },
     "7197184cd96b4cb6a544dd1b504c2351": {
      "model_module": "@jupyter-widgets/controls",
      "model_module_version": "1.4.0",
      "model_name": "DescriptionStyleModel",
      "state": {
       "description_width": ""
      }
     },
     "71aad7b980f24ac9a519d153456e740e": {
      "model_module": "@jupyter-widgets/controls",
      "model_module_version": "1.4.0",
      "model_name": "TextModel",
      "state": {
       "description": "first_dict",
       "layout": "IPY_MODEL_0c0089b61bbf45869ed2388d246b3531",
       "style": "IPY_MODEL_cc51330beacb481083234b7b4aa1da90",
       "value": "{\"hi\":4}"
      }
     },
     "73445e584fac4a129e91a0a406c46705": {
      "model_module": "@jupyter-widgets/controls",
      "model_module_version": "1.4.0",
      "model_name": "DescriptionStyleModel",
      "state": {
       "description_width": ""
      }
     },
     "7451c7c9e0fa45d09e5e9e394cb6f0e5": {
      "model_module": "@jupyter-widgets/controls",
      "model_module_version": "1.4.0",
      "model_name": "TextModel",
      "state": {
       "description": "log_path",
       "layout": "IPY_MODEL_1511ca588b0c487bb2cb710344d5ea60",
       "style": "IPY_MODEL_4662f7c53304432eaef5ea0492bef3da",
       "value": "./log"
      }
     },
     "74b48f9f50e14fd686bb94a251c5a737": {
      "model_module": "@jupyter-widgets/base",
      "model_module_version": "1.1.0",
      "model_name": "LayoutModel",
      "state": {}
     },
     "75ccdb8ddd194e3588181dfbe4249095": {
      "model_module": "@jupyter-widgets/controls",
      "model_module_version": "1.4.0",
      "model_name": "DescriptionStyleModel",
      "state": {
       "description_width": ""
      }
     },
     "76e38a228bb14dfc840bc37e577957fc": {
      "model_module": "@jupyter-widgets/base",
      "model_module_version": "1.1.0",
      "model_name": "LayoutModel",
      "state": {
       "width": "60"
      }
     },
     "77a9afba1deb47ebbe60debd5771871c": {
      "model_module": "@jupyter-widgets/base",
      "model_module_version": "1.1.0",
      "model_name": "LayoutModel",
      "state": {}
     },
     "78e781da173043aebc43788f1830a7e4": {
      "model_module": "@jupyter-widgets/base",
      "model_module_version": "1.1.0",
      "model_name": "LayoutModel",
      "state": {}
     },
     "79ee3539fdef46cfb9914e7cc3f44e56": {
      "model_module": "@jupyter-widgets/base",
      "model_module_version": "1.1.0",
      "model_name": "LayoutModel",
      "state": {}
     },
     "7ba4a2adf16141e98dd3af5acf31746b": {
      "model_module": "@jupyter-widgets/controls",
      "model_module_version": "1.4.0",
      "model_name": "TextModel",
      "state": {
       "description": "session_name",
       "layout": "IPY_MODEL_bc1813dcb35d464084df92832adb8bbf",
       "style": "IPY_MODEL_1bc50b78e6c240ee9465f2e25a0561b4",
       "value": "session_name"
      }
     },
     "7c63c8e129664c4f8c61ff6cf7048168": {
      "model_module": "@jupyter-widgets/base",
      "model_module_version": "1.1.0",
      "model_name": "LayoutModel",
      "state": {}
     },
     "7d188582c83c4f04b3eb0d780c4b953b": {
      "model_module": "@jupyter-widgets/controls",
      "model_module_version": "1.4.0",
      "model_name": "IntTextModel",
      "state": {
       "description": "number of samples to take:",
       "layout": "IPY_MODEL_fe3503055442439788b018fa0451ef24",
       "step": 1,
       "style": "IPY_MODEL_87be03eb957e42b2b5ad8bbe52a9b1ee",
       "value": 32768
      }
     },
     "7e5cd3f7df794f3fac5016b26f796365": {
      "model_module": "@jupyter-widgets/base",
      "model_module_version": "1.1.0",
      "model_name": "LayoutModel",
      "state": {}
     },
     "7fe29df07a9647f7919af20e1b7caee3": {
      "model_module": "@jupyter-widgets/controls",
      "model_module_version": "1.4.0",
      "model_name": "DescriptionStyleModel",
      "state": {
       "description_width": ""
      }
     },
     "7fe56bd4036746df80f3347915fb4171": {
      "model_module": "@jupyter-widgets/base",
      "model_module_version": "1.1.0",
      "model_name": "LayoutModel",
      "state": {}
     },
     "81b7a5e97c86434e98ba645decd27abf": {
      "model_module": "@jupyter-widgets/controls",
      "model_module_version": "1.4.0",
      "model_name": "TextModel",
      "state": {
       "description": "hidden_dict",
       "layout": "IPY_MODEL_84931d605def493bb37d9f06c2050641",
       "style": "IPY_MODEL_ee1712be23a24624aa8e2acc06e716dc",
       "value": "{\"hi\":4}"
      }
     },
     "82edc3e00d034669ad0407888a2aaeb2": {
      "model_module": "@jupyter-widgets/controls",
      "model_module_version": "1.4.0",
      "model_name": "TextModel",
      "state": {
       "description": "which_place_at_msv_report",
       "layout": "IPY_MODEL_bd7d5d9f7fb64dd898392c14ebc24b0a",
       "style": "IPY_MODEL_565a73424d4043128172253462c0d759",
       "value": "align_output"
      }
     },
     "82f9aa5f17d944edb168e481788a28f8": {
      "model_module": "@jupyter-widgets/controls",
      "model_module_version": "1.4.0",
      "model_name": "CheckboxModel",
      "state": {
       "description": "take_from_begining_of_log",
       "disabled": false,
       "layout": "IPY_MODEL_25075054923d46bda2eeb4ab3aebf05a",
       "style": "IPY_MODEL_75ccdb8ddd194e3588181dfbe4249095",
       "value": false
      }
     },
     "840924bf9ae142e48bee72c09c566267": {
      "model_module": "@jupyter-widgets/base",
      "model_module_version": "1.1.0",
      "model_name": "LayoutModel",
      "state": {}
     },
     "8446b07e31b844ec88534bc494d8b6fa": {
      "model_module": "@jupyter-widgets/base",
      "model_module_version": "1.1.0",
      "model_name": "LayoutModel",
      "state": {}
     },
     "84931d605def493bb37d9f06c2050641": {
      "model_module": "@jupyter-widgets/base",
      "model_module_version": "1.1.0",
      "model_name": "LayoutModel",
      "state": {}
     },
     "8523c1f2a6e94dd59033316db6a932f2": {
      "model_module": "@jupyter-widgets/controls",
      "model_module_version": "1.4.0",
      "model_name": "ToggleButtonModel",
      "state": {
       "button_style": "success",
       "description": "run",
       "layout": "IPY_MODEL_1f3d3a1c79f14df79e2f2a7e733bc4c5",
       "style": "IPY_MODEL_e8da5c4fda6b402394728320caabacfd"
      }
     },
     "87be03eb957e42b2b5ad8bbe52a9b1ee": {
      "model_module": "@jupyter-widgets/controls",
      "model_module_version": "1.4.0",
      "model_name": "DescriptionStyleModel",
      "state": {
       "description_width": "initial"
      }
     },
     "899ed4cf4dd14f8b8bd03122eac338d0": {
      "model_module": "@jupyter-widgets/controls",
      "model_module_version": "1.4.0",
      "model_name": "TextModel",
      "state": {
       "description": "first_dict",
       "layout": "IPY_MODEL_0bb635a82c3b4e59a6c1bf5cf2452b2b",
       "style": "IPY_MODEL_dd026803e7e04a6a9c34c1980cc90eb3",
       "value": "{\"hi\":4}"
      }
     },
     "8ad62b5c7cc84ec8aac544d73a790102": {
      "model_module": "@jupyter-widgets/controls",
      "model_module_version": "1.4.0",
      "model_name": "DescriptionStyleModel",
      "state": {
       "description_width": ""
      }
     },
     "8beb14c00aba44db997a1bb8bd93bdc4": {
      "model_module": "@jupyter-widgets/controls",
      "model_module_version": "1.4.0",
      "model_name": "DescriptionStyleModel",
      "state": {
       "description_width": "initial"
      }
     },
     "8d8fc83a42f94661a5e6d9fb5d4d4591": {
      "model_module": "@jupyter-widgets/base",
      "model_module_version": "1.1.0",
      "model_name": "LayoutModel",
      "state": {}
     },
     "8e2daa446af7454d966a6b24ccbd46e9": {
      "model_module": "@jupyter-widgets/controls",
      "model_module_version": "1.4.0",
      "model_name": "DescriptionStyleModel",
      "state": {
       "description_width": "initial"
      }
     },
     "8e6f0f2c72dc4323b8ed1f3c2e801954": {
      "model_module": "@jupyter-widgets/controls",
      "model_module_version": "1.4.0",
      "model_name": "DescriptionStyleModel",
      "state": {
       "description_width": "initial"
      }
     },
     "8eb822d53f184abdbeb65d9225497a11": {
      "model_module": "@jupyter-widgets/controls",
      "model_module_version": "1.4.0",
      "model_name": "ToggleButtonsStyleModel",
      "state": {
       "button_width": "",
       "description_width": ""
      }
     },
     "905aefdbe30f4fb499ea3240563f34ed": {
      "model_module": "@jupyter-widgets/controls",
      "model_module_version": "1.4.0",
      "model_name": "ToggleButtonsModel",
      "state": {
       "_options_labels": [
        "BRK_GEN1",
        "BRK_GEN2"
       ],
       "button_style": "",
       "description": "project_name",
       "icons": [],
       "index": 0,
       "layout": "IPY_MODEL_b45be6db400e4578b5a146f159cd21eb",
       "style": "IPY_MODEL_8eb822d53f184abdbeb65d9225497a11",
       "tooltips": []
      }
     },
     "90e69c875f794d63a4f096a0aa3176d8": {
      "model_module": "@jupyter-widgets/base",
      "model_module_version": "1.1.0",
      "model_name": "LayoutModel",
      "state": {}
     },
     "9107bef48e7e4e04b7f4c400f3971699": {
      "model_module": "@jupyter-widgets/base",
      "model_module_version": "1.1.0",
      "model_name": "LayoutModel",
      "state": {}
     },
     "934f8026b07740a5b669a9e26444ad24": {
      "model_module": "@jupyter-widgets/base",
      "model_module_version": "1.1.0",
      "model_name": "LayoutModel",
      "state": {}
     },
     "93b27c0957e648e19f6e70def3a5c75a": {
      "model_module": "@jupyter-widgets/controls",
      "model_module_version": "1.4.0",
      "model_name": "VBoxModel",
      "state": {
       "_dom_classes": [
        "widget-interact"
       ],
       "children": [
        "IPY_MODEL_3c2f43a84dcf4c4093abb1c0f8faf8ee",
        "IPY_MODEL_cf95baf13e6149eb838cbc49380d07fc",
        "IPY_MODEL_71aad7b980f24ac9a519d153456e740e",
        "IPY_MODEL_f0a91dd567514b76b3f32caa90ff34d7",
        "IPY_MODEL_20b8ea0550594a46bb648d8b91b374d7",
        "IPY_MODEL_cb300ac64ac14083bdb7a238676a9324",
        "IPY_MODEL_d046376aa4db47e79bdd7701b6c42e43",
        "IPY_MODEL_3212367fe12644e4ad8216cf8ff3eaf5",
        "IPY_MODEL_c65fca773279412c83048d651ea7ca5e",
        "IPY_MODEL_502613972a004ab6a90483db2adb278a",
        "IPY_MODEL_b71eca73cc534919805dc732e563478b",
        "IPY_MODEL_9910fb8cf6e040f6b60caf50d2158ed2",
        "IPY_MODEL_486015ef440143ff838fdc7688cc135f"
       ],
       "layout": "IPY_MODEL_c2233220afd8414c8e605fd4838625a2"
      }
     },
     "9463ff22ea4e4ed3b235fb6cf7c0ab26": {
      "model_module": "@jupyter-widgets/controls",
      "model_module_version": "1.4.0",
      "model_name": "DescriptionStyleModel",
      "state": {
       "description_width": ""
      }
     },
     "952be405fbfd470494cbb7269b327505": {
      "model_module": "@jupyter-widgets/controls",
      "model_module_version": "1.4.0",
      "model_name": "CheckboxModel",
      "state": {
       "description": "take_from_begining_of_log",
       "disabled": false,
       "layout": "IPY_MODEL_131a30e4a8f749309b54f87cf94ee3eb",
       "style": "IPY_MODEL_8ad62b5c7cc84ec8aac544d73a790102",
       "value": false
      }
     },
     "95baf8337a1c4fd9bd4b078440bedcdd": {
      "model_module": "@jupyter-widgets/base",
      "model_module_version": "1.1.0",
      "model_name": "LayoutModel",
      "state": {}
     },
     "97422ff9b4fa4a7b931a93b757604108": {
      "model_module": "@jupyter-widgets/controls",
      "model_module_version": "1.4.0",
      "model_name": "DescriptionStyleModel",
      "state": {
       "description_width": ""
      }
     },
     "986cc85abdd941238f71378aaa7bb050": {
      "model_module": "@jupyter-widgets/controls",
      "model_module_version": "1.4.0",
      "model_name": "VBoxModel",
      "state": {
       "_dom_classes": [
        "widget-interact"
       ],
       "children": [
        "IPY_MODEL_29f349f6082f4e8e879863ac8d105088",
        "IPY_MODEL_60379b09ee574f45843b0db57823d888",
        "IPY_MODEL_eb69e2446d7c4cc6aedc92494fc4ae5d",
        "IPY_MODEL_ea4a8347baa54ecfa541177c15a5e1fa",
        "IPY_MODEL_905aefdbe30f4fb499ea3240563f34ed",
        "IPY_MODEL_cf6044f856564fb9979ea2e0cafe8a52",
        "IPY_MODEL_06464583fc4c4c7db0b5101c78c33b2a",
        "IPY_MODEL_08e291c2e2d24d549c020e13446d5bc9",
        "IPY_MODEL_e83bc5432ebe4a399091619a1a045d25",
        "IPY_MODEL_bc4275c7ca35486881926800740455c5",
        "IPY_MODEL_4e1417fc3cfb4cbbabc9c15b9138d4cf",
        "IPY_MODEL_1a781c3ed6d343a0b3ec559861469328",
        "IPY_MODEL_47b399049c5442e7916db6bac61d2872"
       ],
       "layout": "IPY_MODEL_221dbea20009406c8ca4c3ae14ac0cb7"
      }
     },
     "98dcf6060b704e4da4835de5c4985bd3": {
      "model_module": "@jupyter-widgets/controls",
      "model_module_version": "1.4.0",
      "model_name": "DescriptionStyleModel",
      "state": {
       "description_width": ""
      }
     },
     "9910fb8cf6e040f6b60caf50d2158ed2": {
      "model_module": "@jupyter-widgets/controls",
      "model_module_version": "1.4.0",
      "model_name": "ToggleButtonModel",
      "state": {
       "button_style": "success",
       "description": "run",
       "layout": "IPY_MODEL_b5b6af4998ad48288a2efb455fd0e0ec",
       "style": "IPY_MODEL_b5348061121d4e6daf33c1b2661888e8",
       "value": true
      }
     },
     "995729a59cb1488a89ee403d17e01a53": {
      "model_module": "@jupyter-widgets/base",
      "model_module_version": "1.1.0",
      "model_name": "LayoutModel",
      "state": {}
     },
     "9a1f288b91504da8bb676738c8886287": {
      "model_module": "@jupyter-widgets/base",
      "model_module_version": "1.1.0",
      "model_name": "LayoutModel",
      "state": {}
     },
     "9a24490af2e547799f6a5e958ce8f6a1": {
      "model_module": "@jupyter-widgets/controls",
      "model_module_version": "1.4.0",
      "model_name": "VBoxModel",
      "state": {
       "_dom_classes": [
        "widget-interact"
       ],
       "children": [
        "IPY_MODEL_4addf737829c4af79d2a609c6bb980f5",
        "IPY_MODEL_b9f7b1e690184ed4b40264922121f5ae",
        "IPY_MODEL_02c5c4c0d9a548e9b4486ca665dd3a5b",
        "IPY_MODEL_7ba4a2adf16141e98dd3af5acf31746b",
        "IPY_MODEL_af8e71c528e54412abce0b21e2fe90b7",
        "IPY_MODEL_3420e5e1a66e4df885516e091d784878",
        "IPY_MODEL_2988f313bf634179ab89106c006b3904",
        "IPY_MODEL_188546ec317443b5b3f0c6a0662298ad",
        "IPY_MODEL_3fbd0e104de0478aa37a211207509796",
        "IPY_MODEL_7d188582c83c4f04b3eb0d780c4b953b",
        "IPY_MODEL_6ac8105a4488465b80c81291a00aa58d",
        "IPY_MODEL_8523c1f2a6e94dd59033316db6a932f2",
        "IPY_MODEL_66fcbd9f216a49f4a33722ccd2769008"
       ],
       "layout": "IPY_MODEL_c781bfd7d75541b78170aea8d3221832"
      }
     },
     "9ad1f0117e814b7faf3cac45f1e29414": {
      "model_module": "@jupyter-widgets/controls",
      "model_module_version": "1.4.0",
      "model_name": "IntTextModel",
      "state": {
       "description": "number of samples to take:",
       "layout": "IPY_MODEL_6ddc291eae1643a3bdd668d33d6f0325",
       "step": 1,
       "style": "IPY_MODEL_a074ecbf899947bcabf1f463613da667",
       "value": 32768
      }
     },
     "9c098796c68c4959bf37b4ce8d86b3ba": {
      "model_module": "@jupyter-widgets/controls",
      "model_module_version": "1.4.0",
      "model_name": "DescriptionStyleModel",
      "state": {
       "description_width": ""
      }
     },
     "9c905def915042cbbe5b9379d64e8709": {
      "model_module": "@jupyter-widgets/controls",
      "model_module_version": "1.4.0",
      "model_name": "DescriptionStyleModel",
      "state": {
       "description_width": ""
      }
     },
     "9dbe819ecd7346fc8e369a8b3044773c": {
      "model_module": "@jupyter-widgets/base",
      "model_module_version": "1.1.0",
      "model_name": "LayoutModel",
      "state": {}
     },
     "9e1f93b9cd6348178e0c22bf9e2fd2f9": {
      "model_module": "@jupyter-widgets/controls",
      "model_module_version": "1.4.0",
      "model_name": "DescriptionStyleModel",
      "state": {
       "description_width": ""
      }
     },
     "9e4ddd5288c44fb7bc70ab9848cfa1b3": {
      "model_module": "@jupyter-widgets/controls",
      "model_module_version": "1.4.0",
      "model_name": "TextModel",
      "state": {
       "description": "hidden_dict",
       "layout": "IPY_MODEL_2c076a0e5ab6421aa5b8272792f0ad97",
       "style": "IPY_MODEL_246c77289e154f27b95f3443dcfed666",
       "value": "{\"hi\":4}"
      }
     },
     "9fcd743efc2b42ea9f0a12f3bb112c49": {
      "model_module": "@jupyter-widgets/controls",
      "model_module_version": "1.4.0",
      "model_name": "DescriptionStyleModel",
      "state": {
       "description_width": ""
      }
     },
     "a074ecbf899947bcabf1f463613da667": {
      "model_module": "@jupyter-widgets/controls",
      "model_module_version": "1.4.0",
      "model_name": "DescriptionStyleModel",
      "state": {
       "description_width": "initial"
      }
     },
     "a087605b98984ec987961a6e6cea9898": {
      "model_module": "@jupyter-widgets/base",
      "model_module_version": "1.1.0",
      "model_name": "LayoutModel",
      "state": {}
     },
     "a08d9732df7646ae8f03153b66e90a5e": {
      "model_module": "@jupyter-widgets/controls",
      "model_module_version": "1.4.0",
      "model_name": "CheckboxModel",
      "state": {
       "description": "msv_log_type",
       "disabled": false,
       "layout": "IPY_MODEL_4bf6b042f2eb4ff1b0b05840bca42a63",
       "style": "IPY_MODEL_20cb8d734c954e53a6896aee88eff297",
       "value": true
      }
     },
     "a70c604c173e4da99d79a0d2b9acf53c": {
      "model_module": "@jupyter-widgets/controls",
      "model_module_version": "1.4.0",
      "model_name": "TextModel",
      "state": {
       "description": "which_place_at_msv_report",
       "layout": "IPY_MODEL_9107bef48e7e4e04b7f4c400f3971699",
       "style": "IPY_MODEL_6ea9673425634d04b9cbacc3223078a7",
       "value": "align_output"
      }
     },
     "a95e4a32ad684f569f2c6b28daeacd92": {
      "model_module": "@jupyter-widgets/base",
      "model_module_version": "1.1.0",
      "model_name": "LayoutModel",
      "state": {
       "width": "60"
      }
     },
     "a996bfb88613445d8205f2fedf93c710": {
      "model_module": "@jupyter-widgets/base",
      "model_module_version": "1.1.0",
      "model_name": "LayoutModel",
      "state": {}
     },
     "a99b6b46580c4e57b9ac0f66c132a339": {
      "model_module": "@jupyter-widgets/controls",
      "model_module_version": "1.4.0",
      "model_name": "VBoxModel",
      "state": {
       "_dom_classes": [
        "widget-interact"
       ],
       "children": [
        "IPY_MODEL_63d635304d2446788ee17b9293d076af",
        "IPY_MODEL_c43b1dd2119c431fb47c35db5aea3dc7",
        "IPY_MODEL_899ed4cf4dd14f8b8bd03122eac338d0",
        "IPY_MODEL_0872cafaa8634e3ba5df5eaaa0dbcf22",
        "IPY_MODEL_6121fbe435f4401ebd24e842bd928caa",
        "IPY_MODEL_81b7a5e97c86434e98ba645decd27abf",
        "IPY_MODEL_f4f750ae2202465fbede5b8d17285edb",
        "IPY_MODEL_82f9aa5f17d944edb168e481788a28f8",
        "IPY_MODEL_b7149e3beb0448ebb3a34259d966d5ad",
        "IPY_MODEL_474a8e0f124540e99d1b0bb0761cdd89",
        "IPY_MODEL_82edc3e00d034669ad0407888a2aaeb2",
        "IPY_MODEL_44176bfb0918422981f03d320548b7c6",
        "IPY_MODEL_0f7312e7727f40b481135065f46bb8c0"
       ],
       "layout": "IPY_MODEL_8d8fc83a42f94661a5e6d9fb5d4d4591"
      }
     },
     "aa5c9d7e21c3410eb288ca93e2f5e467": {
      "model_module": "@jupyter-widgets/base",
      "model_module_version": "1.1.0",
      "model_name": "LayoutModel",
      "state": {}
     },
     "abce6dc8ce6e40fba0f590907b4d1ec8": {
      "model_module": "@jupyter-widgets/base",
      "model_module_version": "1.1.0",
      "model_name": "LayoutModel",
      "state": {}
     },
     "abd26fced5b54a74a61e682489ccf1f6": {
      "model_module": "@jupyter-widgets/base",
      "model_module_version": "1.1.0",
      "model_name": "LayoutModel",
      "state": {
       "width": "60"
      }
     },
     "aca6125de06c4c06956650aa80a9e8bd": {
      "model_module": "@jupyter-widgets/controls",
      "model_module_version": "1.4.0",
      "model_name": "CheckboxModel",
      "state": {
       "description": "take_from_begining_of_log",
       "disabled": false,
       "layout": "IPY_MODEL_78e781da173043aebc43788f1830a7e4",
       "style": "IPY_MODEL_1b684b8ad3194b3895d8ee01cfb376be",
       "value": false
      }
     },
     "adf1536f18ab4622888890af6546b2ba": {
      "model_module": "@jupyter-widgets/controls",
      "model_module_version": "1.4.0",
      "model_name": "DescriptionStyleModel",
      "state": {
       "description_width": "initial"
      }
     },
     "aef837eb12274aec8ded340cdbfb55b5": {
      "model_module": "@jupyter-widgets/base",
      "model_module_version": "1.1.0",
      "model_name": "LayoutModel",
      "state": {}
     },
     "af46e03315c4402da01cc459b545e90c": {
      "model_module": "@jupyter-widgets/controls",
      "model_module_version": "1.4.0",
      "model_name": "TextModel",
      "state": {
       "description": "log_path",
       "layout": "IPY_MODEL_543a8f18909543a1b5785dd572b51fb1",
       "style": "IPY_MODEL_4816d5752ab44eaebda63b9dd3539594",
       "value": "./log"
      }
     },
     "af8e71c528e54412abce0b21e2fe90b7": {
      "model_module": "@jupyter-widgets/controls",
      "model_module_version": "1.4.0",
      "model_name": "ToggleButtonsModel",
      "state": {
       "_options_labels": [
        "BRK_GEN1",
        "BRK_GEN2"
       ],
       "button_style": "",
       "description": "project_name",
       "icons": [],
       "index": 0,
       "layout": "IPY_MODEL_7e5cd3f7df794f3fac5016b26f796365",
       "style": "IPY_MODEL_b51826402a684be6afb638865d005dc3",
       "tooltips": []
      }
     },
     "afbb669073304074bc90e565edf90f28": {
      "model_module": "@jupyter-widgets/base",
      "model_module_version": "1.1.0",
      "model_name": "LayoutModel",
      "state": {}
     },
     "afe26b8466af4a288786b907aebbdf6a": {
      "model_module": "@jupyter-widgets/base",
      "model_module_version": "1.1.0",
      "model_name": "LayoutModel",
      "state": {}
     },
     "b06afaf01b9b4cde8e1f2d133557b74c": {
      "model_module": "@jupyter-widgets/base",
      "model_module_version": "1.1.0",
      "model_name": "LayoutModel",
      "state": {}
     },
     "b0f17fe347db4401acdee525b29275dd": {
      "model_module": "@jupyter-widgets/controls",
      "model_module_version": "1.4.0",
      "model_name": "DescriptionStyleModel",
      "state": {
       "description_width": ""
      }
     },
     "b133dd3d27fb40698f568fa9704547e6": {
      "model_module": "@jupyter-widgets/controls",
      "model_module_version": "1.4.0",
      "model_name": "IntTextModel",
      "state": {
       "description": "number of samples to take:",
       "layout": "IPY_MODEL_4e48cc84b8d84cba845f62e726ccee5d",
       "step": 1,
       "style": "IPY_MODEL_5c7a9b5706264d9696daf3f2fbd72aca",
       "value": 32768
      }
     },
     "b399c143f1824eb9b15264a4106afb33": {
      "model_module": "@jupyter-widgets/base",
      "model_module_version": "1.1.0",
      "model_name": "LayoutModel",
      "state": {}
     },
     "b3bf9f5b3be84ffaa1247744da95366a": {
      "model_module": "@jupyter-widgets/base",
      "model_module_version": "1.1.0",
      "model_name": "LayoutModel",
      "state": {}
     },
     "b3cdc04c2d09484ca7dfe680b9213b70": {
      "model_module": "@jupyter-widgets/controls",
      "model_module_version": "1.4.0",
      "model_name": "TextModel",
      "state": {
       "description": "session_name",
       "layout": "IPY_MODEL_cf03982cadfd41cea9858fa11a773d71",
       "style": "IPY_MODEL_cd6cd1905ed34ba4a5bf16b67cd5d6ce",
       "value": "session_name"
      }
     },
     "b45be6db400e4578b5a146f159cd21eb": {
      "model_module": "@jupyter-widgets/base",
      "model_module_version": "1.1.0",
      "model_name": "LayoutModel",
      "state": {}
     },
     "b4763704cca64ca7893b0e9921965fc3": {
      "model_module": "@jupyter-widgets/base",
      "model_module_version": "1.1.0",
      "model_name": "LayoutModel",
      "state": {}
     },
     "b51826402a684be6afb638865d005dc3": {
      "model_module": "@jupyter-widgets/controls",
      "model_module_version": "1.4.0",
      "model_name": "ToggleButtonsStyleModel",
      "state": {
       "button_width": "",
       "description_width": ""
      }
     },
     "b5348061121d4e6daf33c1b2661888e8": {
      "model_module": "@jupyter-widgets/controls",
      "model_module_version": "1.4.0",
      "model_name": "DescriptionStyleModel",
      "state": {
       "description_width": ""
      }
     },
     "b5b6af4998ad48288a2efb455fd0e0ec": {
      "model_module": "@jupyter-widgets/base",
      "model_module_version": "1.1.0",
      "model_name": "LayoutModel",
      "state": {}
     },
     "b61faca57db448e38b9a53a40225ce11": {
      "model_module": "@jupyter-widgets/controls",
      "model_module_version": "1.4.0",
      "model_name": "DescriptionStyleModel",
      "state": {
       "description_width": ""
      }
     },
     "b66533539bc845c385acd157b1b0d7bb": {
      "model_module": "@jupyter-widgets/controls",
      "model_module_version": "1.4.0",
      "model_name": "DescriptionStyleModel",
      "state": {
       "description_width": ""
      }
     },
     "b6fad73e63b941f39a9aaf51713fc6a9": {
      "model_module": "@jupyter-widgets/controls",
      "model_module_version": "1.4.0",
      "model_name": "DescriptionStyleModel",
      "state": {
       "description_width": ""
      }
     },
     "b7149e3beb0448ebb3a34259d966d5ad": {
      "model_module": "@jupyter-widgets/controls",
      "model_module_version": "1.4.0",
      "model_name": "IntTextModel",
      "state": {
       "description": "number of samples to drop:",
       "layout": "IPY_MODEL_3d5196c375d74334bf0e1ce691424d8b",
       "step": 1,
       "style": "IPY_MODEL_01c7c5017fce426ab180cc70cd347a3d"
      }
     },
     "b71eca73cc534919805dc732e563478b": {
      "model_module": "@jupyter-widgets/controls",
      "model_module_version": "1.4.0",
      "model_name": "TextModel",
      "state": {
       "description": "which_place_at_msv_report",
       "layout": "IPY_MODEL_c45f7c4cecd64a23bea56a11a545993b",
       "style": "IPY_MODEL_0841c3e2f3ef41e8a92dafa44c643646",
       "value": "align_output"
      }
     },
     "b74c575c65f548988178475a6df08ac2": {
      "model_module": "@jupyter-widgets/controls",
      "model_module_version": "1.4.0",
      "model_name": "ToggleButtonsStyleModel",
      "state": {
       "button_width": "",
       "description_width": ""
      }
     },
     "b7f5c7adfc284312b373db1693f6c635": {
      "model_module": "@jupyter-widgets/base",
      "model_module_version": "1.1.0",
      "model_name": "LayoutModel",
      "state": {
       "width": "80%"
      }
     },
     "b83a46272233420199fcd1fae3356590": {
      "model_module": "@jupyter-widgets/controls",
      "model_module_version": "1.4.0",
      "model_name": "DescriptionStyleModel",
      "state": {
       "description_width": ""
      }
     },
     "b86bf2397a0d4c978461bce77d1315b9": {
      "model_module": "@jupyter-widgets/controls",
      "model_module_version": "1.4.0",
      "model_name": "DescriptionStyleModel",
      "state": {
       "description_width": ""
      }
     },
     "b8f50307b30c4c539a2e051483a35c4c": {
      "model_module": "@jupyter-widgets/controls",
      "model_module_version": "1.4.0",
      "model_name": "TextModel",
      "state": {
       "description": "session_name",
       "layout": "IPY_MODEL_c20fe6a85da64066836876a55580efad",
       "style": "IPY_MODEL_e7bf9c589a6240b7952a3cc50166b440",
       "value": "session_name"
      }
     },
     "b9c4a94c0d0c459782e798eb33dc3160": {
      "model_module": "@jupyter-widgets/controls",
      "model_module_version": "1.4.0",
      "model_name": "DescriptionStyleModel",
      "state": {
       "description_width": ""
      }
     },
     "b9f7b1e690184ed4b40264922121f5ae": {
      "model_module": "@jupyter-widgets/controls",
      "model_module_version": "1.4.0",
      "model_name": "TextModel",
      "state": {
       "description": "user",
       "layout": "IPY_MODEL_7fe56bd4036746df80f3347915fb4171",
       "style": "IPY_MODEL_d9aff3c380b24234a145b5d5b55060ff",
       "value": "my_username"
      }
     },
     "bc1813dcb35d464084df92832adb8bbf": {
      "model_module": "@jupyter-widgets/base",
      "model_module_version": "1.1.0",
      "model_name": "LayoutModel",
      "state": {}
     },
     "bc4275c7ca35486881926800740455c5": {
      "model_module": "@jupyter-widgets/controls",
      "model_module_version": "1.4.0",
      "model_name": "IntTextModel",
      "state": {
       "description": "number of samples to take:",
       "layout": "IPY_MODEL_43af6f866e2d438dab73d91b798196fd",
       "step": 1,
       "style": "IPY_MODEL_e9301831b0cd45048287a25dd1fda401",
       "value": 32768
      }
     },
     "bc4a985e376c41ee9bcfcb4e85b36af5": {
      "model_module": "@jupyter-widgets/controls",
      "model_module_version": "1.4.0",
      "model_name": "DescriptionStyleModel",
      "state": {
       "description_width": ""
      }
     },
     "bc97e9c19ee547919d53d807f2f5bbed": {
      "model_module": "@jupyter-widgets/controls",
      "model_module_version": "1.4.0",
      "model_name": "DescriptionStyleModel",
      "state": {
       "description_width": ""
      }
     },
     "bd7d5d9f7fb64dd898392c14ebc24b0a": {
      "model_module": "@jupyter-widgets/base",
      "model_module_version": "1.1.0",
      "model_name": "LayoutModel",
      "state": {}
     },
     "be15c67f403747038e91f5a7d77e4419": {
      "model_module": "@jupyter-widgets/controls",
      "model_module_version": "1.4.0",
      "model_name": "CheckboxModel",
      "state": {
       "description": "msv_log_type",
       "disabled": false,
       "layout": "IPY_MODEL_9a1f288b91504da8bb676738c8886287",
       "style": "IPY_MODEL_c5d8c0143ad74680b356ad390d3a7974",
       "value": true
      }
     },
     "be1fa48302f9457398336e05415e8321": {
      "model_module": "@jupyter-widgets/base",
      "model_module_version": "1.1.0",
      "model_name": "LayoutModel",
      "state": {}
     },
     "be857b3a446748c1abedeba455c12e41": {
      "model_module": "@jupyter-widgets/base",
      "model_module_version": "1.1.0",
      "model_name": "LayoutModel",
      "state": {}
     },
     "c20e2f31a01043cabfbf88be1e2cbe36": {
      "model_module": "@jupyter-widgets/base",
      "model_module_version": "1.1.0",
      "model_name": "LayoutModel",
      "state": {
       "width": "60"
      }
     },
     "c20fe6a85da64066836876a55580efad": {
      "model_module": "@jupyter-widgets/base",
      "model_module_version": "1.1.0",
      "model_name": "LayoutModel",
      "state": {}
     },
     "c2233220afd8414c8e605fd4838625a2": {
      "model_module": "@jupyter-widgets/base",
      "model_module_version": "1.1.0",
      "model_name": "LayoutModel",
      "state": {}
     },
     "c258cecb29d14358917e4a65003681bc": {
      "model_module": "@jupyter-widgets/base",
      "model_module_version": "1.1.0",
      "model_name": "LayoutModel",
      "state": {}
     },
     "c43b1dd2119c431fb47c35db5aea3dc7": {
      "model_module": "@jupyter-widgets/controls",
      "model_module_version": "1.4.0",
      "model_name": "TextModel",
      "state": {
       "description": "user",
       "layout": "IPY_MODEL_498b632cd2ff4119b721fcdfd3fb7043",
       "style": "IPY_MODEL_98dcf6060b704e4da4835de5c4985bd3",
       "value": "my_username"
      }
     },
     "c45f7c4cecd64a23bea56a11a545993b": {
      "model_module": "@jupyter-widgets/base",
      "model_module_version": "1.1.0",
      "model_name": "LayoutModel",
      "state": {}
     },
     "c5d8c0143ad74680b356ad390d3a7974": {
      "model_module": "@jupyter-widgets/controls",
      "model_module_version": "1.4.0",
      "model_name": "DescriptionStyleModel",
      "state": {
       "description_width": ""
      }
     },
     "c5f3487becf34948b4741658518badd8": {
      "model_module": "@jupyter-widgets/controls",
      "model_module_version": "1.4.0",
      "model_name": "DescriptionStyleModel",
      "state": {
       "description_width": ""
      }
     },
     "c65fca773279412c83048d651ea7ca5e": {
      "model_module": "@jupyter-widgets/controls",
      "model_module_version": "1.4.0",
      "model_name": "IntTextModel",
      "state": {
       "description": "number of samples to drop:",
       "layout": "IPY_MODEL_5c31ba0d8f574630bc3cc5b38f2c761e",
       "step": 1,
       "style": "IPY_MODEL_4e413d9dfcc44f0caa517d2a58f41e87"
      }
     },
     "c717d75603d74d4b9e195d0e8f7b379b": {
      "model_module": "@jupyter-widgets/controls",
      "model_module_version": "1.4.0",
      "model_name": "DescriptionStyleModel",
      "state": {
       "description_width": ""
      }
     },
     "c777676fb1514cb3802b172c8761c550": {
      "model_module": "@jupyter-widgets/controls",
      "model_module_version": "1.4.0",
      "model_name": "DescriptionStyleModel",
      "state": {
       "description_width": ""
      }
     },
     "c781bfd7d75541b78170aea8d3221832": {
      "model_module": "@jupyter-widgets/base",
      "model_module_version": "1.1.0",
      "model_name": "LayoutModel",
      "state": {}
     },
     "c8f89f2dd227478d9cb1c0eb88e29b49": {
      "model_module": "@jupyter-widgets/controls",
      "model_module_version": "1.4.0",
      "model_name": "DescriptionStyleModel",
      "state": {
       "description_width": ""
      }
     },
     "cb300ac64ac14083bdb7a238676a9324": {
      "model_module": "@jupyter-widgets/controls",
      "model_module_version": "1.4.0",
      "model_name": "TextModel",
      "state": {
       "description": "hidden_dict",
       "layout": "IPY_MODEL_90e69c875f794d63a4f096a0aa3176d8",
       "style": "IPY_MODEL_43e560f3b6f1458e8d0b6fb32b06fd3f",
       "value": "{\"hi\":4}"
      }
     },
     "cbd54595545d418aa5019713d25b15aa": {
      "model_module": "@jupyter-widgets/controls",
      "model_module_version": "1.4.0",
      "model_name": "IntTextModel",
      "state": {
       "description": "number of samples to take:",
       "layout": "IPY_MODEL_eec91aa8a43a47eb8f43e7b0562456ed",
       "step": 1,
       "style": "IPY_MODEL_6280a36b9648481c92a1e500a6bb62ba",
       "value": 32768
      }
     },
     "cc51330beacb481083234b7b4aa1da90": {
      "model_module": "@jupyter-widgets/controls",
      "model_module_version": "1.4.0",
      "model_name": "DescriptionStyleModel",
      "state": {
       "description_width": ""
      }
     },
     "cd6cd1905ed34ba4a5bf16b67cd5d6ce": {
      "model_module": "@jupyter-widgets/controls",
      "model_module_version": "1.4.0",
      "model_name": "DescriptionStyleModel",
      "state": {
       "description_width": ""
      }
     },
     "ce8acfd4b13f4480a9bb33940a0f87b5": {
      "model_module": "@jupyter-widgets/controls",
      "model_module_version": "1.4.0",
      "model_name": "ToggleButtonModel",
      "state": {
       "button_style": "success",
       "description": "run",
       "layout": "IPY_MODEL_ee47ee7769f546d68fba7c9639cb1e27",
       "style": "IPY_MODEL_ddcaad02059b4fba8089a1e93768d603"
      }
     },
     "cea1c2c664dd4301b715ab137a8c05b3": {
      "model_module": "@jupyter-widgets/output",
      "model_module_version": "1.0.0",
      "model_name": "OutputModel",
      "state": {
       "layout": "IPY_MODEL_d5419b9dd60145cbb5180607c7f7f78d"
      }
     },
     "cf03982cadfd41cea9858fa11a773d71": {
      "model_module": "@jupyter-widgets/base",
      "model_module_version": "1.1.0",
      "model_name": "LayoutModel",
      "state": {}
     },
     "cf6044f856564fb9979ea2e0cafe8a52": {
      "model_module": "@jupyter-widgets/controls",
      "model_module_version": "1.4.0",
      "model_name": "TextModel",
      "state": {
       "description": "hidden_dict",
       "layout": "IPY_MODEL_47e770dda66c4189952b951cd926408d",
       "style": "IPY_MODEL_f7d5effa768a46b389e7b4f30c8389cc",
       "value": "{\"hi\":4}"
      }
     },
     "cf95baf13e6149eb838cbc49380d07fc": {
      "model_module": "@jupyter-widgets/controls",
      "model_module_version": "1.4.0",
      "model_name": "TextModel",
      "state": {
       "description": "user",
       "layout": "IPY_MODEL_6da68d6eac8743a4a5baa00dcaf32810",
       "style": "IPY_MODEL_3a638ce92e944b9db7ac816f81420329",
       "value": "my_username"
      }
     },
     "d046376aa4db47e79bdd7701b6c42e43": {
      "model_module": "@jupyter-widgets/controls",
      "model_module_version": "1.4.0",
      "model_name": "CheckboxModel",
      "state": {
       "description": "msv_log_type",
       "disabled": false,
       "layout": "IPY_MODEL_be857b3a446748c1abedeba455c12e41",
       "style": "IPY_MODEL_e8edd833bae346eab862c761f9068ad7",
       "value": true
      }
     },
     "d0d592e155e24a93995708b49f0bfd06": {
      "model_module": "@jupyter-widgets/controls",
      "model_module_version": "1.4.0",
      "model_name": "IntTextModel",
      "state": {
       "description": "number of samples to take:",
       "layout": "IPY_MODEL_76e38a228bb14dfc840bc37e577957fc",
       "step": 1,
       "style": "IPY_MODEL_8e6f0f2c72dc4323b8ed1f3c2e801954",
       "value": 32768
      }
     },
     "d3338a60bdc74e5181a2cad19cba7b78": {
      "model_module": "@jupyter-widgets/base",
      "model_module_version": "1.1.0",
      "model_name": "LayoutModel",
      "state": {
       "width": "60"
      }
     },
     "d3993a1a2e8741c9866210c60bfb6df7": {
      "model_module": "@jupyter-widgets/controls",
      "model_module_version": "1.4.0",
      "model_name": "CheckboxModel",
      "state": {
       "description": "msv_log_type",
       "disabled": false,
       "layout": "IPY_MODEL_77a9afba1deb47ebbe60debd5771871c",
       "style": "IPY_MODEL_c777676fb1514cb3802b172c8761c550",
       "value": true
      }
     },
     "d4f80bc179804ce6ab4133a671879bc0": {
      "model_module": "@jupyter-widgets/base",
      "model_module_version": "1.1.0",
      "model_name": "LayoutModel",
      "state": {}
     },
     "d5419b9dd60145cbb5180607c7f7f78d": {
      "model_module": "@jupyter-widgets/base",
      "model_module_version": "1.1.0",
      "model_name": "LayoutModel",
      "state": {}
     },
     "d555736941cd455ea167c5216470d134": {
      "model_module": "@jupyter-widgets/controls",
      "model_module_version": "1.4.0",
      "model_name": "TextModel",
      "state": {
       "description": "first_dict",
       "layout": "IPY_MODEL_d674634424e540d6b713e4a14473794c",
       "style": "IPY_MODEL_b83a46272233420199fcd1fae3356590",
       "value": "{\"hi\":4}"
      }
     },
     "d5aa0721c85d4c1783c84faea566ce18": {
      "model_module": "@jupyter-widgets/output",
      "model_module_version": "1.0.0",
      "model_name": "OutputModel",
      "state": {
       "layout": "IPY_MODEL_ed73ce9518414162beaf525aa0ec5e30"
      }
     },
     "d5bcc658a88b4ddba1f046ad7000ffcf": {
      "model_module": "@jupyter-widgets/controls",
      "model_module_version": "1.4.0",
      "model_name": "DescriptionStyleModel",
      "state": {
       "description_width": ""
      }
     },
     "d674634424e540d6b713e4a14473794c": {
      "model_module": "@jupyter-widgets/base",
      "model_module_version": "1.1.0",
      "model_name": "LayoutModel",
      "state": {}
     },
     "d79cfed30d684bc29e921f737ce2749d": {
      "model_module": "@jupyter-widgets/base",
      "model_module_version": "1.1.0",
      "model_name": "LayoutModel",
      "state": {
       "width": "80%"
      }
     },
     "d7b5b1484dfa4cdc9701d77f943aefff": {
      "model_module": "@jupyter-widgets/base",
      "model_module_version": "1.1.0",
      "model_name": "LayoutModel",
      "state": {}
     },
     "d99fb484b35a4da99abf805d65087377": {
      "model_module": "@jupyter-widgets/base",
      "model_module_version": "1.1.0",
      "model_name": "LayoutModel",
      "state": {}
     },
     "d9aff3c380b24234a145b5d5b55060ff": {
      "model_module": "@jupyter-widgets/controls",
      "model_module_version": "1.4.0",
      "model_name": "DescriptionStyleModel",
      "state": {
       "description_width": ""
      }
     },
     "d9cfafcd52ef4c619d64dd6fdd32d0b7": {
      "model_module": "@jupyter-widgets/controls",
      "model_module_version": "1.4.0",
      "model_name": "ToggleButtonsStyleModel",
      "state": {
       "button_width": "",
       "description_width": ""
      }
     },
     "da44ffcd68364af698e9847159d54f55": {
      "model_module": "@jupyter-widgets/controls",
      "model_module_version": "1.4.0",
      "model_name": "DescriptionStyleModel",
      "state": {
       "description_width": ""
      }
     },
     "dbb0043458f74c8c895c9a88bba18d64": {
      "model_module": "@jupyter-widgets/controls",
      "model_module_version": "1.4.0",
      "model_name": "DescriptionStyleModel",
      "state": {
       "description_width": ""
      }
     },
     "dd026803e7e04a6a9c34c1980cc90eb3": {
      "model_module": "@jupyter-widgets/controls",
      "model_module_version": "1.4.0",
      "model_name": "DescriptionStyleModel",
      "state": {
       "description_width": ""
      }
     },
     "ddaaa609b73c462ca00de7dd84265433": {
      "model_module": "@jupyter-widgets/controls",
      "model_module_version": "1.4.0",
      "model_name": "DescriptionStyleModel",
      "state": {
       "description_width": ""
      }
     },
     "ddcaad02059b4fba8089a1e93768d603": {
      "model_module": "@jupyter-widgets/controls",
      "model_module_version": "1.4.0",
      "model_name": "DescriptionStyleModel",
      "state": {
       "description_width": ""
      }
     },
     "deb23cc929d64019a98aebceff1312b1": {
      "model_module": "@jupyter-widgets/controls",
      "model_module_version": "1.4.0",
      "model_name": "TextModel",
      "state": {
       "description": "hidden_dict",
       "layout": "IPY_MODEL_3f82622d5ece44bbb3532e730eca37dc",
       "style": "IPY_MODEL_b61faca57db448e38b9a53a40225ce11",
       "value": "{\"hi\":4}"
      }
     },
     "e235110de4aa45e6bde48ac448ed9e93": {
      "model_module": "@jupyter-widgets/base",
      "model_module_version": "1.1.0",
      "model_name": "LayoutModel",
      "state": {
       "width": "80%"
      }
     },
     "e6f70cf3fe9747578344e10def7d8d9c": {
      "model_module": "@jupyter-widgets/base",
      "model_module_version": "1.1.0",
      "model_name": "LayoutModel",
      "state": {}
     },
     "e79642b4aeb24e868d9b4349704eaaff": {
      "model_module": "@jupyter-widgets/controls",
      "model_module_version": "1.4.0",
      "model_name": "TextModel",
      "state": {
       "description": "which_place_at_msv_report",
       "layout": "IPY_MODEL_26c08819ee75402fbd9f5004ef3a7b4d",
       "style": "IPY_MODEL_7fe29df07a9647f7919af20e1b7caee3",
       "value": "align_output"
      }
     },
     "e7bf9c589a6240b7952a3cc50166b440": {
      "model_module": "@jupyter-widgets/controls",
      "model_module_version": "1.4.0",
      "model_name": "DescriptionStyleModel",
      "state": {
       "description_width": ""
      }
     },
     "e7f6e01a5fa64833bcf736285eefb667": {
      "model_module": "@jupyter-widgets/controls",
      "model_module_version": "1.4.0",
      "model_name": "TextModel",
      "state": {
       "description": "user",
       "layout": "IPY_MODEL_74b48f9f50e14fd686bb94a251c5a737",
       "style": "IPY_MODEL_50a456e3b7724a86b7c7e13d08db18c7",
       "value": "my_username"
      }
     },
     "e83bc5432ebe4a399091619a1a045d25": {
      "model_module": "@jupyter-widgets/controls",
      "model_module_version": "1.4.0",
      "model_name": "IntTextModel",
      "state": {
       "description": "number of samples to drop:",
       "layout": "IPY_MODEL_f8bf4a6f74234db3a3c4224c565c393a",
       "step": 1,
       "style": "IPY_MODEL_8beb14c00aba44db997a1bb8bd93bdc4"
      }
     },
     "e8da5c4fda6b402394728320caabacfd": {
      "model_module": "@jupyter-widgets/controls",
      "model_module_version": "1.4.0",
      "model_name": "DescriptionStyleModel",
      "state": {
       "description_width": ""
      }
     },
     "e8edd833bae346eab862c761f9068ad7": {
      "model_module": "@jupyter-widgets/controls",
      "model_module_version": "1.4.0",
      "model_name": "DescriptionStyleModel",
      "state": {
       "description_width": ""
      }
     },
     "e9301831b0cd45048287a25dd1fda401": {
      "model_module": "@jupyter-widgets/controls",
      "model_module_version": "1.4.0",
      "model_name": "DescriptionStyleModel",
      "state": {
       "description_width": "initial"
      }
     },
     "e99230fba72546fd841aa63aa6ae699a": {
      "model_module": "@jupyter-widgets/base",
      "model_module_version": "1.1.0",
      "model_name": "LayoutModel",
      "state": {}
     },
     "ea4a8347baa54ecfa541177c15a5e1fa": {
      "model_module": "@jupyter-widgets/controls",
      "model_module_version": "1.4.0",
      "model_name": "TextModel",
      "state": {
       "description": "session_name",
       "layout": "IPY_MODEL_abce6dc8ce6e40fba0f590907b4d1ec8",
       "style": "IPY_MODEL_bc97e9c19ee547919d53d807f2f5bbed",
       "value": "session_name"
      }
     },
     "eac3615db5b5435ea74061304fc22021": {
      "model_module": "@jupyter-widgets/controls",
      "model_module_version": "1.4.0",
      "model_name": "DescriptionStyleModel",
      "state": {
       "description_width": ""
      }
     },
     "eb69e2446d7c4cc6aedc92494fc4ae5d": {
      "model_module": "@jupyter-widgets/controls",
      "model_module_version": "1.4.0",
      "model_name": "TextModel",
      "state": {
       "description": "first_dict",
       "layout": "IPY_MODEL_637a789c64d04262831d2e0acd2d5e6f",
       "style": "IPY_MODEL_6b17922f1a5b44c0be5e8931fe7141f5",
       "value": "{\"hi\":4}"
      }
     },
     "ebe409e2bacc46d6b8ef74e520380d81": {
      "model_module": "@jupyter-widgets/base",
      "model_module_version": "1.1.0",
      "model_name": "LayoutModel",
      "state": {}
     },
     "ed73ce9518414162beaf525aa0ec5e30": {
      "model_module": "@jupyter-widgets/base",
      "model_module_version": "1.1.0",
      "model_name": "LayoutModel",
      "state": {}
     },
     "eda53c5d662847d184078ea82afcccea": {
      "model_module": "@jupyter-widgets/controls",
      "model_module_version": "1.4.0",
      "model_name": "TextModel",
      "state": {
       "description": "which_place_at_msv_report",
       "layout": "IPY_MODEL_3ea2731753504636b3f34cd998e31c9c",
       "style": "IPY_MODEL_73445e584fac4a129e91a0a406c46705",
       "value": "align_output"
      }
     },
     "ee1712be23a24624aa8e2acc06e716dc": {
      "model_module": "@jupyter-widgets/controls",
      "model_module_version": "1.4.0",
      "model_name": "DescriptionStyleModel",
      "state": {
       "description_width": ""
      }
     },
     "ee47ee7769f546d68fba7c9639cb1e27": {
      "model_module": "@jupyter-widgets/base",
      "model_module_version": "1.1.0",
      "model_name": "LayoutModel",
      "state": {}
     },
     "eec91aa8a43a47eb8f43e7b0562456ed": {
      "model_module": "@jupyter-widgets/base",
      "model_module_version": "1.1.0",
      "model_name": "LayoutModel",
      "state": {
       "width": "60"
      }
     },
     "ef32fbde033e45cdb5dd95824d13d48e": {
      "model_module": "@jupyter-widgets/controls",
      "model_module_version": "1.4.0",
      "model_name": "DescriptionStyleModel",
      "state": {
       "description_width": ""
      }
     },
     "f0a91dd567514b76b3f32caa90ff34d7": {
      "model_module": "@jupyter-widgets/controls",
      "model_module_version": "1.4.0",
      "model_name": "TextModel",
      "state": {
       "description": "session_name",
       "layout": "IPY_MODEL_aef837eb12274aec8ded340cdbfb55b5",
       "style": "IPY_MODEL_4d3a3d1b30bb4e8f96e0d6af0c1a4222",
       "value": "session_name"
      }
     },
     "f10cda7df87a49e6bfd707e8bb608cd4": {
      "model_module": "@jupyter-widgets/controls",
      "model_module_version": "1.4.0",
      "model_name": "TextModel",
      "state": {
       "description": "which_place_at_msv_report",
       "layout": "IPY_MODEL_a996bfb88613445d8205f2fedf93c710",
       "style": "IPY_MODEL_bc4a985e376c41ee9bcfcb4e85b36af5",
       "value": "align_output"
      }
     },
     "f176e6e0e40e45be810b758e0efd127a": {
      "model_module": "@jupyter-widgets/controls",
      "model_module_version": "1.4.0",
      "model_name": "TextModel",
      "state": {
       "description": "log_path",
       "layout": "IPY_MODEL_14c1d618399c473fb37c0317ba1a3e17",
       "style": "IPY_MODEL_b86bf2397a0d4c978461bce77d1315b9",
       "value": "./log"
      }
     },
     "f319cd58d77c45e6810dffce2c134474": {
      "model_module": "@jupyter-widgets/base",
      "model_module_version": "1.1.0",
      "model_name": "LayoutModel",
      "state": {}
     },
     "f4f750ae2202465fbede5b8d17285edb": {
      "model_module": "@jupyter-widgets/controls",
      "model_module_version": "1.4.0",
      "model_name": "CheckboxModel",
      "state": {
       "description": "msv_log_type",
       "disabled": false,
       "layout": "IPY_MODEL_8446b07e31b844ec88534bc494d8b6fa",
       "style": "IPY_MODEL_dbb0043458f74c8c895c9a88bba18d64",
       "value": true
      }
     },
     "f7bdb96426f94b5eb16a9d83d417109e": {
      "model_module": "@jupyter-widgets/controls",
      "model_module_version": "1.4.0",
      "model_name": "VBoxModel",
      "state": {
       "_dom_classes": [
        "widget-interact"
       ],
       "children": [
        "IPY_MODEL_67219e38e716415ca996c92c834355b6",
        "IPY_MODEL_293086b50af54aa5be9b47a653d0f8aa",
        "IPY_MODEL_fb47660cf7a645a092a03d9a74382c94",
        "IPY_MODEL_272855928d7c434eb5d551858a67f949",
        "IPY_MODEL_4c887c7404f6454bb1154ebe83e2263b",
        "IPY_MODEL_5d4265670a4849739ec00c0df2048e89",
        "IPY_MODEL_55f45db7884c4a94a562f5e92f0ac937",
        "IPY_MODEL_5a1b139b3a8245e6bb0a776e1d1a7033",
        "IPY_MODEL_270ccb6eeb5d40b5867731087d2f2ec8",
        "IPY_MODEL_b133dd3d27fb40698f568fa9704547e6",
        "IPY_MODEL_f10cda7df87a49e6bfd707e8bb608cd4",
        "IPY_MODEL_0a34d82ba55441ab82ffce0d93ccf94a",
        "IPY_MODEL_34445209d90b40f2a2ac4cac93f0460f"
       ],
       "layout": "IPY_MODEL_7c63c8e129664c4f8c61ff6cf7048168"
      }
     },
     "f7d5effa768a46b389e7b4f30c8389cc": {
      "model_module": "@jupyter-widgets/controls",
      "model_module_version": "1.4.0",
      "model_name": "DescriptionStyleModel",
      "state": {
       "description_width": ""
      }
     },
     "f8bf4a6f74234db3a3c4224c565c393a": {
      "model_module": "@jupyter-widgets/base",
      "model_module_version": "1.1.0",
      "model_name": "LayoutModel",
      "state": {
       "width": "60"
      }
     },
     "fb47660cf7a645a092a03d9a74382c94": {
      "model_module": "@jupyter-widgets/controls",
      "model_module_version": "1.4.0",
      "model_name": "TextModel",
      "state": {
       "description": "first_dict",
       "layout": "IPY_MODEL_995729a59cb1488a89ee403d17e01a53",
       "style": "IPY_MODEL_eac3615db5b5435ea74061304fc22021",
       "value": "{\"hi\":4}"
      }
     },
     "fb697e00e7e94050a57597d8ca24ab3a": {
      "model_module": "@jupyter-widgets/controls",
      "model_module_version": "1.4.0",
      "model_name": "IntTextModel",
      "state": {
       "description": "number of samples to drop:",
       "layout": "IPY_MODEL_a95e4a32ad684f569f2c6b28daeacd92",
       "step": 1,
       "style": "IPY_MODEL_46c3a7fb78524959af7ccc492dea4218"
      }
     },
     "fe3503055442439788b018fa0451ef24": {
      "model_module": "@jupyter-widgets/base",
      "model_module_version": "1.1.0",
      "model_name": "LayoutModel",
      "state": {
       "width": "60"
      }
     }
    },
    "version_major": 2,
    "version_minor": 0
   }
  }
 },
 "nbformat": 4,
 "nbformat_minor": 2
}
