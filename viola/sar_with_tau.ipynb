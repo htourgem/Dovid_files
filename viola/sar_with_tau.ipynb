{
 "cells": [
  {
   "cell_type": "code",
   "execution_count": 40,
   "metadata": {},
   "outputs": [],
   "source": [
    "import pandas as pd\n",
    "import numpy as np\n",
    "from tqdm import tqdm_notebook as tqdm\n",
    "import pylab as plt\n",
    "import sys\n",
    "sys.path.append(r'/nfs/iil/disks/hip_ana_sim_01/dgottesm/analysis_and_tools/jupyter_notebooks/brk_scope/PostProcess/global_functions/')\n",
    "from generate_data import rc_on_data\n",
    "from ipywidgets import interact\n",
    "import ipywidgets as widgets"
   ]
  },
  {
   "cell_type": "code",
   "execution_count": 51,
   "metadata": {
    "scrolled": false
   },
   "outputs": [
    {
     "data": {
      "application/vnd.jupyter.widget-view+json": {
       "model_id": "9819bfa6cd954db4bce66760f7d30e4a",
       "version_major": 2,
       "version_minor": 0
      },
      "text/plain": [
       "interactive(children=(FloatSlider(value=0.3, continuous_update=False, description='tau_in_ui:', layout=Layout(…"
      ]
     },
     "metadata": {},
     "output_type": "display_data"
    }
   ],
   "source": [
    "samples=2000\n",
    "# we want max min values to be +-0.2v\n",
    "raw_data_pam2=np.random.randint(0, 2, samples).astype(float)/2.5-0.2\n",
    "raw_data_pam4=np.random.randint(0, 4, samples).astype(float)/3*0.4-0.2\n",
    "oversample = 20\n",
    "cdr_oversample_options=list(range(20))\n",
    "tau_in_ui=widgets.FloatSlider(value=0.3, min=0.1, max=1.4, step=0.1, description='tau_in_ui:', \n",
    "                                 continuous_update=False, orientation='horizontal', \n",
    "                                 readout_format='.1f', layout=widgets.Layout(width='50%'), style=dict(description_width='initial'))\n",
    "noise_std_mv=widgets.FloatSlider(value=5, min=0, max=20, step=1, description='noise_std_mv:', \n",
    "                                 continuous_update=False, orientation='horizontal', \n",
    "                                 readout_format='.1f', layout=widgets.Layout(width='50%'), style=dict(description_width='initial'))\n",
    "cdr_offset=widgets.FloatSlider(value=0, min=0, max=100-100/oversample, step=100/oversample, description='cdr offset % ui:', \n",
    "                                 continuous_update=False, orientation='horizontal', \n",
    "                                 readout_format='.1f', layout=widgets.Layout(width='50%'), style=dict(description_width='initial'))\n",
    "\n",
    "\n",
    "@interact(tau_in_ui=tau_in_ui, noise_std_mv=noise_std_mv, cdr_offset=cdr_offset)\n",
    "def plotme(tau_in_ui, noise_std_mv, cdr_offset, pam4=False):\n",
    "    global df\n",
    "    fig, ax = plt.subplots(2, 1, figsize=(15, 5))\n",
    "    raw_data = (raw_data_pam4 if pam4 else raw_data_pam2) + np.random.normal(0,noise_std_mv*1e-3,samples)\n",
    "    samples_in_window = 100\n",
    "    \n",
    "    plot = False\n",
    "    oversample_that_cdr_focus_on=cdr_offset//(100/oversample)  # we want to cast the 0% to 100% of the cdr to oversample to focus on\n",
    "    df = rc_on_data(raw_data=raw_data, oversample=oversample, \n",
    "                    samples_in_window=samples_in_window, tau_in_samples_unit_time=tau_in_ui, plot=plot)\n",
    "    df['cdr_cursor']=df.query(f'oversampling=={oversample_that_cdr_focus_on}').assign(cdr_cursor=lambda r:r.outputs).cdr_cursor\n",
    "    df.cdr_cursor.dropna().plot.hist(bins=200, ax=ax[0], title='hist of raw data', grid=True)\n",
    "    df[['inputs','outputs','cdr_cursor']].tail(800).plot(style=['-.','-.','^'], ax=ax[1], title='raw data', grid=True)"
   ]
  },
  {
   "cell_type": "code",
   "execution_count": null,
   "metadata": {},
   "outputs": [],
   "source": []
  }
 ],
 "metadata": {
  "kernelspec": {
   "display_name": "Python 3",
   "language": "python",
   "name": "python3"
  },
  "language_info": {
   "codemirror_mode": {
    "name": "ipython",
    "version": 3
   },
   "file_extension": ".py",
   "mimetype": "text/x-python",
   "name": "python",
   "nbconvert_exporter": "python",
   "pygments_lexer": "ipython3",
   "version": "3.7.4"
  }
 },
 "nbformat": 4,
 "nbformat_minor": 2
}
