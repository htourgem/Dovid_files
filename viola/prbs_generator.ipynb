{
 "cells": [
  {
   "cell_type": "code",
   "execution_count": 1,
   "metadata": {},
   "outputs": [
    {
     "data": {
      "application/vnd.jupyter.widget-view+json": {
       "model_id": "18e405019ea54cd59ec9cac54fa2df79",
       "version_major": 2,
       "version_minor": 0
      },
      "text/plain": [
       "VBox(children=(HBox(children=(VBox(children=(IntText(value=11, description='dec seed', layout=Layout(width='20…"
      ]
     },
     "metadata": {},
     "output_type": "display_data"
    }
   ],
   "source": [
    "import ipywidgets as widgets\n",
    "# from tqdm import tqdm_notebook as tqdm\n",
    "import pandas as pd\n",
    "import numpy as np\n",
    "\n",
    "\n",
    "prbs=pd.Series(['x[7]^x[4]','x[9]^x[5]','x[11]^x[9]','x[13]^x[12]^x[2]^x[1]','x[23]^x[18]','x[31]^x[28]','x[58]^x[39]'],index=[7,9,11,13,23,31,58])\n",
    "def prbs_on_last(x, prbs_logic):\n",
    "    x=[0]+x\n",
    "    return eval(prbs_logic)\n",
    "def to_string(list_of_bits):\n",
    "    string_to_print=\"\".join([str(i) for i in list_of_bits])\n",
    "    string_to_print_bin='_'.join(string_to_print[i:i+8] \n",
    "                                 for i in range(0, len(string_to_print), 8))\n",
    "    string_to_print_hex='_'.join('{:04x}'.format(int(string_to_print[i:i+16],2)) \n",
    "                                 for i in range(0, len(string_to_print), 16))\n",
    "    string_to_print_hex=string_to_print_hex.rsplit('-',1)[0]  # drop the last one that doesnt have 16 bits\n",
    "        \n",
    "    return string_to_print_bin,string_to_print_hex\n",
    "\n",
    "widget_layout=dict(width='200px')\n",
    "prbs_type=widgets.RadioButtons(options=prbs.index.values, description='prbs type', layout=widget_layout)\n",
    "dec_seed=widgets.IntText(value=11, description='dec seed', layout=widget_layout)\n",
    "print_size=widgets.IntText(value=1000, description='print size', layout=widget_layout)\n",
    "polymon=widgets.Text(description='polymonial', layout=widget_layout)\n",
    "plot=widgets.ToggleButton(value=False,description='plot',button_style='',tooltip='Description')\n",
    "pam4=widgets.ToggleButton(value=False,description='pam4',button_style='',tooltip='Description')\n",
    "bar_plot=widgets.ToggleButton(value=False,description='bar_plot',button_style='',tooltip='Description')\n",
    "offset=widgets.IntText(value=0,min=0,max=60,step=1,description='offset',continuous_update=False,orientation='horizontal',readout=True,readout_format='d', layout=widget_layout)\n",
    "    \n",
    "def p(prbs_type, dec_seed, print_size, polymon, plot, pam4, bar_plot, offset):\n",
    "    \n",
    "    # seed:\n",
    "    if dec_seed<1:\n",
    "        dec_seed=np.random.randint(1,2**(prbs_type+1),dtype=np.int64)\n",
    "    bin_seed='{:0{numbers}b}'.format(dec_seed, numbers=prbs_type)\n",
    "    bin_seed, hex_seed=to_string(bin_seed)\n",
    "    output=[int(x) for x in list('{0:0{numbers}b}'.format(dec_seed, numbers=prbs_type))]\n",
    "    if not len(polymon): polymon = prbs[prbs_type]\n",
    "        \n",
    "    # running polymon:\n",
    "    for _ in range(int(2**prbs_type)-1-len(output))[:print_size]:\n",
    "        output+=[prbs_on_last(output[-prbs_type:],polymon)]\n",
    "    output=output[offset:print_size]\n",
    "    # prints\n",
    "    print('-'*150)\n",
    "    print('using polynom: {polynom}'.format(polynom=prbs[prbs_type]))\n",
    "    print('\\nseed:\\n\\tseed dec:\\n\\t\\t{dec}\\n\\tseed bin:\\n\\t\\t{bin}\\n\\tseed hex:\\n\\t\\t{hex}\\n'.format(dec=dec_seed, bin=bin_seed, hex=hex_seed))\n",
    "\n",
    "    string_to_print_dec,string_to_print_hex=to_string(output)\n",
    "    print('\\nbin:\\n'+string_to_print_dec)\n",
    "    print('\\nhex:\\n'+string_to_print_hex)\n",
    "    if plot:\n",
    "        import plotly as py\n",
    "        import cufflinks as cf\n",
    "\n",
    "        py.offline.init_notebook_mode(connected=True)\n",
    "        df=pd.DataFrame(output, columns=['nrz'])\n",
    "        if pam4:\n",
    "            df['pam4']=df.nrz+df.nrz.shift()*2\n",
    "            val=df.pam4.iloc[1::2]\n",
    "            tickvals=[0,1,2,3]\n",
    "        else:\n",
    "            val=df.nrz\n",
    "            tickvals=[0,1]\n",
    "        if bar_plot:\n",
    "            fig=val.head(2000).figure(kind='bar', layout=dict(yaxis=dict(tickvals=tickvals)))\n",
    "        else:\n",
    "            fig=val.head(2000).figure(mode='markers+lines', size=4, layout=dict(yaxis=dict(tickvals=tickvals)))\n",
    "            fig['data'][0]['line']['shape']='hvh' # you have hv, vh, hvhv, vhv, spline and linear\n",
    "        py.offline.iplot(fig)\n",
    "out = widgets.interactive_output(p, dict(prbs_type=prbs_type, dec_seed=dec_seed, print_size=print_size, polymon=polymon, plot=plot, pam4=pam4, bar_plot=bar_plot, offset=offset))\n",
    "widgets.VBox([widgets.HBox([widgets.VBox([dec_seed, \n",
    "                                          print_size, \n",
    "                                          polymon, \n",
    "                                          offset]),\n",
    "                            widgets.VBox([prbs_type])], layout=widgets.Layout(width='450px',border='solid 1px')),\n",
    "              widgets.HBox([plot, pam4, bar_plot]), \n",
    "              widgets.VBox([out])])"
   ]
  },
  {
   "cell_type": "code",
   "execution_count": null,
   "metadata": {},
   "outputs": [],
   "source": []
  }
 ],
 "metadata": {
  "kernelspec": {
   "display_name": "Python 3",
   "language": "python",
   "name": "python3"
  },
  "language_info": {
   "codemirror_mode": {
    "name": "ipython",
    "version": 3
   },
   "file_extension": ".py",
   "mimetype": "text/x-python",
   "name": "python",
   "nbconvert_exporter": "python",
   "pygments_lexer": "ipython3",
   "version": "3.7.4"
  }
 },
 "nbformat": 4,
 "nbformat_minor": 2
}
