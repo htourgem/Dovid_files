{
 "cells": [
  {
   "cell_type": "code",
   "execution_count": 1,
   "metadata": {
    "scrolled": false
   },
   "outputs": [
    {
     "data": {
      "text/html": [
       "<head>\n",
       "  <title>HTML Reference</title>\n",
       "</head>"
      ],
      "text/plain": [
       "<IPython.core.display.HTML object>"
      ]
     },
     "metadata": {},
     "output_type": "display_data"
    },
    {
     "data": {
      "application/vnd.jupyter.widget-view+json": {
       "model_id": "69743956ca474e21b8f7d8b93894a64c",
       "version_major": 2,
       "version_minor": 0
      },
      "text/plain": [
       "interactive(children=(Text(value='/nfs/iil/disks/hdk_ws/ckt/lisrael1/lior_dir/bmods_development/brk_gen2/4.brk…"
      ]
     },
     "metadata": {},
     "output_type": "display_data"
    }
   ],
   "source": [
    "import ipywidgets as widgets\n",
    "\n",
    "from IPython.display import HTML\n",
    "# not working...\n",
    "display(HTML('''<head>\n",
    "  <title>HTML Reference</title>\n",
    "</head>'''))\n",
    "\n",
    "\n",
    "log='/log/full/path'\n",
    "log='/nfs/iil/disks/hdk_ws/ckt/lisrael1/lior_dir/bmods_development/brk_gen2/4.brk_gen2_0p8/sim/log1'\n",
    "\n",
    "@widgets.interact\n",
    "def a(v=widgets.Text(value=log,placeholder='Type something',description='vcs log:', \n",
    "                     layout=widgets.Layout(width='95%'),\n",
    "                     style=dict(description_width='initial'))):\n",
    "    global log\n",
    "    exist=!ls $v\n",
    "    if exist[0].startswith('ls: cannot access '):\n",
    "        print(exist[0])\n",
    "    else:\n",
    "        log=v\n",
    "        %run real_to_wire_issues/real_to_wire_issues_dont_use.ipynb"
   ]
  }
 ],
 "metadata": {
  "kernelspec": {
   "display_name": "Python 3",
   "language": "python",
   "name": "python3"
  },
  "language_info": {
   "codemirror_mode": {
    "name": "ipython",
    "version": 3
   },
   "file_extension": ".py",
   "mimetype": "text/x-python",
   "name": "python",
   "nbconvert_exporter": "python",
   "pygments_lexer": "ipython3",
   "version": "3.7.4"
  }
 },
 "nbformat": 4,
 "nbformat_minor": 2
}
