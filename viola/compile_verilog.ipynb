{
 "cells": [
  {
   "cell_type": "code",
   "execution_count": 6,
   "metadata": {},
   "outputs": [],
   "source": [
    "import ipywidgets as widgets\n",
    "import os"
   ]
  },
  {
   "cell_type": "code",
   "execution_count": 7,
   "metadata": {},
   "outputs": [],
   "source": [
    "verilog_example='''module a();\n",
    "    real r=1.2;\n",
    "    initial #1ns r=-2.4;\n",
    "    always @(r) $display(\"r value changed %g @%g[ns]\",r,$realtime/1ns);\n",
    "    \n",
    "    initial #20ns $finish;\n",
    "    initial $vcdpluson;\n",
    "    initial $vcdplusmemon;\n",
    "endmodule'''\n",
    "verilog_folder='/nfs/iil/disks/ams_regruns/dkl/users/lisrael1/msv/temp_del/verilog_tmp/'\n",
    "verilog_file=verilog_folder+'verilog.sv'\n",
    "verilog_vpd=verilog_folder+'vcdplus.vpd'\n",
    "vcs_dve_setup='''setenv SNPSLMD_LICENSE_FILE 26586@synopsys11p.elic.intel.com:26586@synopsys09p.elic.intel.com:26586@synopsys01p.elic.intel.com:26586@synopsys03p.elic.intel.com:26586@synopsys21p.elic.intel.com:26586@synopsys22p.elic.intel.com:26586@synopsys23p.elic.intel.com:26586@synopsys11p.elic.intel.com:26586@synopsys09p.elic.intel.com:26586@synopsys01p.elic.intel.com:26586@synopsys03p.elic.intel.com:26586@synopsys21p.elic.intel.com:26586@synopsys22p.elic.intel.com:26586@synopsys23p.elic.intel.com\n",
    "\n",
    "setenv VCS_HOME /p/hdk/cad/vcsmx/O-2018.09-SP2-5\n",
    "setenv SYNOPSYS_SIM_SETUP $cwd/synopsys_sim.setup\n",
    "setenv XA_64 1\n",
    "\n",
    "alias vlogan /p/hdk/cad/vcsmx/O-2018.09-SP2-5/bin/vlogan \n",
    "alias vcs /p/hdk/cad/vcsmx/O-2018.09-SP2-5/bin/vcs \n",
    "alias dve /p/hdk/cad/vcsmx/O-2018.09-SP2-5/bin/dve'''\n",
    "vcs_command='/p/hdk/cad/vcsmx/O-2018.09-SP2-5/bin/vcs -sverilog -debug_all -R -timescale=1fs/1fs '+verilog_file"
   ]
  },
  {
   "cell_type": "code",
   "execution_count": 8,
   "metadata": {},
   "outputs": [
    {
     "name": "stdout",
     "output_type": "stream",
     "text": [
      "/nfs/iil/disks/ams_regruns/dkl/users/lisrael1/msv/temp_del/verilog_tmp\n"
     ]
    }
   ],
   "source": [
    "%cd $verilog_folder\n",
    "os.environ['SNPSLMD_LICENSE_FILE']='26586@synopsys11p.elic.intel.com:26586@synopsys09p.elic.intel.com:26586@synopsys01p.elic.intel.com:26586@synopsys03p.elic.intel.com:26586@synopsys21p.elic.intel.com:26586@synopsys22p.elic.intel.com:26586@synopsys23p.elic.intel.com:26586@synopsys11p.elic.intel.com:26586@synopsys09p.elic.intel.com:26586@synopsys01p.elic.intel.com:26586@synopsys03p.elic.intel.com:26586@synopsys21p.elic.intel.com:26586@synopsys22p.elic.intel.com:26586@synopsys23p.elic.intel.com'\n",
    "os.environ['VCS_HOME']='/p/hdk/cad/vcsmx/O-2018.09-SP2-5'\n",
    "os.environ['SYNOPSYS_SIM_SETUP']='$cwd/synopsys_sim.setup'\n",
    "os.environ['XA_64']='1'"
   ]
  },
  {
   "cell_type": "code",
   "execution_count": 9,
   "metadata": {
    "scrolled": false
   },
   "outputs": [
    {
     "name": "stdout",
     "output_type": "stream",
     "text": [
      "this app is disabled\n"
     ]
    }
   ],
   "source": [
    "def run_me(dummy=None):\n",
    "    out1.clear_output()\n",
    "    out2.clear_output()\n",
    "    with out1:\n",
    "        print('running vcs:')\n",
    "        print('*'*50)\n",
    "        f=open(verilog_file,'w')\n",
    "        f.write(verilog_content.value)\n",
    "        f.close()\n",
    "        !$vcs_command\n",
    "        print('running:\\n\\t'+vcs_command)\n",
    "    with out2:\n",
    "        print('vcs done:')\n",
    "        print('*'*50)\n",
    "        !ls -lha $verilog_folder\n",
    "        print(verilog_content.value)\n",
    "        print('now run:')\n",
    "        print(vcs_dve_setup)\n",
    "        print('/p/hdk/cad/vcsmx/O-2018.09-SP2-5/bin/dve -vpd '+verilog_vpd)\n",
    "\n",
    "verilog_content=widgets.Textarea(\n",
    "    value=verilog_example,\n",
    "    placeholder='Type verilog code',\n",
    "    description='verilog code:',\n",
    "    layout=widgets.Layout(width='500px', height='400px')\n",
    ")\n",
    "button = widgets.Button(description=\"run!\")\n",
    "out1=widgets.Output(layout=widgets.Layout(border='solid 1px',overflow='scroll'))\n",
    "out2=widgets.Output(layout=widgets.Layout(border='solid 1px',overflow='scroll'))\n",
    "\n",
    "button.on_click(run_me)\n",
    "\n",
    "grid = widgets.GridspecLayout(10, 10, height='1000px')\n",
    "grid[0:4, 0:5] = verilog_content\n",
    "grid[4, 0] = button\n",
    "grid[0:, 5:] = out1\n",
    "grid[5:, :5] = out2\n",
    "\n",
    "grid\n",
    "print('this app is disabled')"
   ]
  }
 ],
 "metadata": {
  "kernelspec": {
   "display_name": "Python 3",
   "language": "python",
   "name": "python3"
  },
  "language_info": {
   "codemirror_mode": {
    "name": "ipython",
    "version": 3
   },
   "file_extension": ".py",
   "mimetype": "text/x-python",
   "name": "python",
   "nbconvert_exporter": "python",
   "pygments_lexer": "ipython3",
   "version": "3.6.3"
  }
 },
 "nbformat": 4,
 "nbformat_minor": 2
}
