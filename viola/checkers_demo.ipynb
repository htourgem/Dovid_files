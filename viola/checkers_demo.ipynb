{
 "cells": [
  {
   "cell_type": "code",
   "execution_count": 1,
   "metadata": {},
   "outputs": [],
   "source": [
    "import pandas as pd\n",
    "import numpy as np\n",
    "import ipywidgets as widgets\n",
    "import qgrid\n",
    "from glob import glob\n",
    "import os\n",
    "import functools\n",
    "from collections import OrderedDict\n",
    "from IPython.display import HTML\n",
    "\n",
    "def header(text, size=100):\n",
    "    print('*'*size)\n",
    "    print(\"{:{fill}{align}{width}}\".format(\"  \"+text+\"  \", fill='*', align='^', width=size))\n",
    "    print('*'*size)"
   ]
  },
  {
   "cell_type": "code",
   "execution_count": 2,
   "metadata": {},
   "outputs": [],
   "source": [
    "saved_path='/nfs/iil/disks/ams_regruns/dkl/users/lisrael1/msv/temp_del/verilog_helper/auto_checkers/'\n",
    "saved_session_name=None"
   ]
  },
  {
   "cell_type": "code",
   "execution_count": 3,
   "metadata": {},
   "outputs": [],
   "source": [
    "'''\n",
    "****************************************************************************************************\n",
    "****************************************  checkers table:  *****************************************\n",
    "****************************************************************************************************\n",
    "'''\n",
    "a=5"
   ]
  },
  {
   "cell_type": "code",
   "execution_count": 4,
   "metadata": {},
   "outputs": [],
   "source": [
    "default_clocks_table=pd.DataFrame([[False, 'tb.clock.path', 'tb.enable.path', 'tb.clock_freq', 'my clock']], columns=['active_checker','clock_path','checker_enable_net','estimated_freq_out', 'signal_alias'])\n",
    "default_sleeve_table=pd.DataFrame([[False, 'tb.voltage.path', 'tb.enable.path', 0.4, 0.2, 'dac_vref']], columns=['active_checker','signal_path','checker_enable_net','max_voltage', 'min_voltage','signal_alias'])\n",
    "default_sleeve_table['sleeve_type']=pd.Categorical(['sleeve'], categories={'sleeve','voltage_source_sleeve', 'frequency_sleeve', 'common_sleeve','current_source_sleeve','resistance_sleeve'})\n",
    "default_convergence_table = pd.DataFrame([[False, 'tb.code.path', 'tb.enable.path',3, 19, 2, 'tb.convergence_status.path', 'my code']], \n",
    "                                           columns=['active_checker','code_path','checker_enable_net','max_change_when_converging', 'stable_time_ps','sleeve_threshold', 'convergance_status', 'signal_alias'])\n",
    "tables=OrderedDict()\n",
    "tables['sleeve']      = qgrid.show_grid(default_sleeve_table, show_toolbar=True)\n",
    "tables['convergence'] = qgrid.show_grid(default_convergence_table, show_toolbar=True)\n",
    "tables['clock']       = qgrid.show_grid(default_clocks_table, show_toolbar=True)"
   ]
  },
  {
   "cell_type": "code",
   "execution_count": 5,
   "metadata": {},
   "outputs": [],
   "source": [
    "' generate checkers code tab'\n",
    "def generate_checkers_func(dummy=None):\n",
    "    generate_checkers_output.clear_output()\n",
    "    with generate_checkers_output:\n",
    "        output_code=list()\n",
    "\n",
    "        sleeve_checker_code='''checkers.{sleeve_type}(.signal({signal_path}), .checking_condition({checker_enable_net}), .lowThreshold({min_voltage}), .highThreshold({max_voltage}), .netName(\"{signal_alias}\"));'''\n",
    "        code=tables['sleeve'].get_changed_df().query('active_checker').apply(lambda r: sleeve_checker_code.format(**r), axis=1)\n",
    "        output_code+=code.values.tolist()\n",
    "        \n",
    "        convergence_checker_code='''checkers.converge(.signalMonotonic({code_path}), .en_start_run_checker({checker_enable_net}), .tolerance({max_change_when_converging}), .stable_time_ps({stable_time_ps}), .sleeveThreshold({sleeve_threshold}), .convergence_status({convergence_status}), .netName(\"{signal_alias}\"));'''\n",
    "        code=tables['convergence'].get_changed_df().query('active_checker').apply(lambda r: convergence_checker_code.format(**r), axis=1)\n",
    "        output_code+=code.values.tolist()\n",
    "        \n",
    "        clock_checker_code='''checkers.clock_frequency(.clock({clock_path}), .clock_freq_ghz({estimated_freq_out}), .checking_condition({checker_enable_net}), .netName(\"{signal_alias}\"));'''\n",
    "        code=tables['clock'].get_changed_df().query('active_checker').apply(lambda r: clock_checker_code.format(**r), axis=1)\n",
    "        output_code+=code.values.tolist()\n",
    "        \n",
    "        \n",
    "        if not len(output_code):\n",
    "            print('no active checker, please update the checkers tables')\n",
    "        else:\n",
    "            print('`include \"/nfs/iil/disks/hdk_ws/ckt/lisrael1/lior_dir/play_ground/checkersPlayground/auto_checkers_gui/checkers.sv\";')\n",
    "            print('module msv_checkers();')\n",
    "            print('msv_checkers_code checkers();')\n",
    "            print('initial begin\\n\\t//$vcdpluson;')\n",
    "            print(\"\\t\"+\"\\n\\t\".join(output_code))\n",
    "            print('end')\n",
    "            print('endmodule')\n",
    "\n",
    "run_generate_checkers=widgets.Button( description='generate checkers', disabled=False, button_style='', tooltip='Click me', icon='check')\n",
    "generate_checkers_output = widgets.Output()\n",
    "\n",
    "run_generate_checkers.on_click(generate_checkers_func)\n",
    "generate_checkers_tab=widgets.VBox([run_generate_checkers,generate_checkers_output])"
   ]
  },
  {
   "cell_type": "code",
   "execution_count": 6,
   "metadata": {},
   "outputs": [],
   "source": [
    "' tables_super_tab '\n",
    "tables_super_tab = widgets.Tab()\n",
    "tables_super_tab.children=list(tables.values())\n",
    "for i, key in enumerate(tables.keys()):\n",
    "    tables_super_tab.set_title(i, key)"
   ]
  },
  {
   "cell_type": "code",
   "execution_count": 7,
   "metadata": {},
   "outputs": [],
   "source": [
    "'''\n",
    "****************************************************************************************************\n",
    "*******************************************  parse log:  *******************************************\n",
    "****************************************************************************************************\n",
    "'''\n",
    "a=5"
   ]
  },
  {
   "cell_type": "code",
   "execution_count": 8,
   "metadata": {},
   "outputs": [],
   "source": [
    "' parse log super tab'\n",
    "def parse_log_func(dummy=None):\n",
    "    parse_log_output.clear_output()\n",
    "    with parse_log_output:\n",
    "        print('TODO parsing log '+log_path.value)\n",
    "        \n",
    "        \n",
    "run_parse_logs=widgets.Button(description='parse logs', disabled=False, button_style='', tooltip='Click me', icon='check' )\n",
    "log_path=widgets.Text(value='/log/full/path',placeholder='Type something',description='log path:',layout=dict(width='50%'))\n",
    "parse_log_output = widgets.Output()\n",
    "run_parse_logs.on_click(parse_log_func)\n",
    "parse_log_super_tab=widgets.VBox([log_path,run_parse_logs, parse_log_output])"
   ]
  },
  {
   "cell_type": "code",
   "execution_count": 9,
   "metadata": {},
   "outputs": [],
   "source": [
    "'''\n",
    "****************************************************************************************************\n",
    "***************************************  save load session:  ***************************************\n",
    "****************************************************************************************************\n",
    "'''\n",
    "a=5"
   ]
  },
  {
   "cell_type": "code",
   "execution_count": 10,
   "metadata": {},
   "outputs": [],
   "source": [
    "' save load download session '\n",
    "def save_session_func(dummy, saved_path, saved_session_name_str, output_widget):\n",
    "    saved_file=saved_path+saved_session_name_str.value.replace('.xlsx','')+'.xlsx'\n",
    "    output_widget.clear_output()\n",
    "    with output_widget:\n",
    "        print('saving '+saved_file)\n",
    "    writer = pd.ExcelWriter(saved_file, engine='xlsxwriter')\n",
    "    for key in tables.keys():\n",
    "            tables[key].get_changed_df().to_excel(writer, sheet_name=key)\n",
    "    writer.save()\n",
    "    !chmod -R 777 $saved_path\n",
    "    with output_widget:\n",
    "        print('done saving '+saved_file)\n",
    "        print(r'win path  \\\\isamba.iil.intel.com'+saved_file.replace('/','\\\\'))\n",
    "        print('you will not see the new file at the result folder until you refresh the browser...')\n",
    "        \n",
    "        \n",
    "def load_session_func(dummy, saved_path, pick_session_str, output_widget, table, picker_widget):\n",
    "    saved_file=saved_path+pick_session_str.value\n",
    "    output_widget.clear_output()\n",
    "    with output_widget:\n",
    "        print('reading '+saved_file)\n",
    "        exl=pd.read_excel(saved_file, None)\n",
    "        for key in table.keys():\n",
    "            try:\n",
    "                print('reading sheet '+key)\n",
    "                table[key].df=exl[key].drop('Unnamed: 0', axis = 1)\n",
    "            except:\n",
    "                print('your excel doesnt have %s sheet. leaving last values at this table'%key)\n",
    "        print('done updating tables')\n",
    "    refresh_main_output()\n",
    "        \n",
    "def download_session_func(dummy, saved_path, pick_session_str, output_widget):\n",
    "    saved_file=saved_path+pick_session_str.value\n",
    "    output_widget.clear_output()\n",
    "    with output_widget:\n",
    "        print('file path is '+saved_file)\n",
    "        ref=r'\\\\isamba.iil.intel.com'+saved_file.replace('/','\\\\')\n",
    "        print(r'win path  \\\\isamba.iil.intel.com'+saved_file.replace('/','\\\\'))\n",
    "#         print(ref)\n",
    "#         display(HTML('''<a href=\"'''+ref+'''\" download=\"downloaded_file_name\" target=\"_blank\"><button type=\"button\">Download</button></a>'''))\n",
    "        \n",
    "        \n",
    "saved_session_name=widgets.Text(value='stam',placeholder='session name',description='session name:',layout=dict(width='50%'))\n",
    "pick_session=widgets.Select(options=[f.split('/')[-1] for f in glob(saved_path+'/[a-z0-9_]*xlsx')],description='result folder')\n",
    "save_session_button=widgets.Button(description='save session', button_style='', tooltip='Click me', icon='check')\n",
    "load_session_button=widgets.Button(description='load session', button_style='', tooltip='Click me', icon='check')\n",
    "download_session_button=widgets.Button(description='download session', button_style='', tooltip='Click me', icon='check')\n",
    "save_load_status_output = widgets.Output()\n",
    "\n",
    "save_session_button.on_click(functools.partial(save_session_func, saved_path=saved_path, saved_session_name_str=saved_session_name, output_widget=save_load_status_output))\n",
    "load_session_button.on_click(functools.partial(load_session_func, saved_path=saved_path, pick_session_str=pick_session, output_widget=save_load_status_output, table=tables, picker_widget=pick_session))\n",
    "download_session_button.on_click(functools.partial(download_session_func, saved_path=saved_path, pick_session_str=pick_session, output_widget=save_load_status_output))\n",
    "\n",
    "save_load_download_tab=widgets.VBox([saved_session_name, pick_session, save_session_button, load_session_button, download_session_button, save_load_status_output])"
   ]
  },
  {
   "cell_type": "code",
   "execution_count": 11,
   "metadata": {},
   "outputs": [],
   "source": [
    "'''\n",
    "****************************************************************************************************\n",
    "****************************************  tabs placments:  *****************************************\n",
    "****************************************************************************************************\n",
    "'''\n",
    "a=5"
   ]
  },
  {
   "cell_type": "code",
   "execution_count": 12,
   "metadata": {},
   "outputs": [],
   "source": [
    "' handle_checkers_super_tab '\n",
    "handle_checkers_super_tab = widgets.Tab()\n",
    "handle_checkers_super_tab.children = [generate_checkers_tab, save_load_download_tab]\n",
    "handle_checkers_super_tab.set_title(0, 'generate checkers')\n",
    "handle_checkers_super_tab.set_title(1, 'save load checkers')\n",
    "# todo move generaet checker and save load checker to different tab and all the checkers tables to the first tab"
   ]
  },
  {
   "cell_type": "code",
   "execution_count": 13,
   "metadata": {
    "scrolled": false
   },
   "outputs": [
    {
     "data": {
      "application/vnd.jupyter.widget-view+json": {
       "model_id": "6d2094a134d34b4596b53ca5e14b29d1",
       "version_major": 2,
       "version_minor": 0
      },
      "text/plain": [
       "Output()"
      ]
     },
     "metadata": {},
     "output_type": "display_data"
    }
   ],
   "source": [
    "main_tab = widgets.Tab(layout=dict(width='1200px'))\n",
    "main_tab.children = [tables_super_tab, handle_checkers_super_tab, parse_log_super_tab]\n",
    "main_tab.set_title(0, 'checkers tables')\n",
    "main_tab.set_title(1, 'handle checkers')\n",
    "main_tab.set_title(2, 'parse log checkers')\n",
    "\n",
    "\n",
    "main_output= widgets.Output()\n",
    "def refresh_main_output():\n",
    "    global main_output\n",
    "    main_output.clear_output()\n",
    "    with main_output:\n",
    "        display(main_tab)\n",
    "    display(main_output)\n",
    "\n",
    "refresh_main_output()"
   ]
  },
  {
   "cell_type": "code",
   "execution_count": 14,
   "metadata": {
    "scrolled": false
   },
   "outputs": [],
   "source": [
    "if 0:\n",
    "    ' i dont have checker for clock...'\n",
    "    clock_checker_code='''checkers.converge(.signalMonotonic({code_path}), .en_start_run_checker({enble_path}), .tolerance({max_change_when_converging}), .stable_time_ps({stable_time_ps}), .sleeveThreshold({sleeve_threshold}), .convergance_status({convergance_status}), .netName({signal_alias}));'''\n",
    "    code=tables['clock'].get_changed_df().query('active_checker').apply(lambda r: clock_checker_code.format(**r), axis=1)\n",
    "    print(\"\\n\".join(code.values.tolist()))\n",
    "    tables['clock'].get_changed_df()\n",
    "main_tab.children[0].children[1]\n",
    "tables_super_tab.children=list(tables.values())\n",
    "# main_tab.children = [tables_super_tab, handle_checkers_super_tab, parse_log_super_tab]"
   ]
  }
 ],
 "metadata": {
  "kernelspec": {
   "display_name": "Python 3",
   "language": "python",
   "name": "python3"
  },
  "language_info": {
   "codemirror_mode": {
    "name": "ipython",
    "version": 3
   },
   "file_extension": ".py",
   "mimetype": "text/x-python",
   "name": "python",
   "nbconvert_exporter": "python",
   "pygments_lexer": "ipython3",
   "version": "3.6.3"
  }
 },
 "nbformat": 4,
 "nbformat_minor": 2
}
