{
 "cells": [
  {
   "cell_type": "code",
   "execution_count": 2,
   "metadata": {},
   "outputs": [],
   "source": [
    "from IPython.display import HTML\n",
    "def header(text, link=None):\n",
    "    html='''<p style=\"font-size:{size}; color:#cc5c00; font-family:consolas;\"> \n",
    "            {link}\n",
    "            <br>\n",
    "            {{text}}\n",
    "            <br></a></p>'''.format(link='<a href=\"{link}\">' if link else '', size='20px' if link else '32px').format(text=text.replace('_',' '), link=link)\n",
    "    display(HTML(html))"
   ]
  },
  {
   "cell_type": "code",
   "execution_count": null,
   "metadata": {},
   "outputs": [],
   "source": [
    "local_machine='iapp258'"
   ]
  },
  {
   "cell_type": "code",
   "execution_count": 3,
   "metadata": {},
   "outputs": [
    {
     "data": {
      "text/html": [
       "<p style=\"font-size:32px; color:#cc5c00; font-family:consolas;\"> \n",
       "            \n",
       "            <br>\n",
       "            content:\n",
       "            <br></a></p>"
      ],
      "text/plain": [
       "<IPython.core.display.HTML object>"
      ]
     },
     "metadata": {},
     "output_type": "display_data"
    },
    {
     "data": {
      "text/html": [
       "<p style=\"font-size:20px; color:#cc5c00; font-family:consolas;\"> \n",
       "            <a href=\"http://icsl10618.iil.intel.com:12312/scripts/voila/render/xls_to_soconline.ipynb\">\n",
       "            <br>\n",
       "            xls to soconline\n",
       "            <br></a></p>"
      ],
      "text/plain": [
       "<IPython.core.display.HTML object>"
      ]
     },
     "metadata": {},
     "output_type": "display_data"
    },
    {
     "name": "stdout",
     "output_type": "stream",
     "text": [
      "\tupload xls file and get download link for soc format\n"
     ]
    },
    {
     "data": {
      "text/html": [
       "<p style=\"font-size:20px; color:#cc5c00; font-family:consolas;\"> \n",
       "            <a href=\"http://icsl10618.iil.intel.com:12312/scripts/voila/render/checkers_demo.ipynb\">\n",
       "            <br>\n",
       "            checkers demo\n",
       "            <br></a></p>"
      ],
      "text/plain": [
       "<IPython.core.display.HTML object>"
      ]
     },
     "metadata": {},
     "output_type": "display_data"
    },
    {
     "name": "stdout",
     "output_type": "stream",
     "text": [
      "\tgenerate checkers sv file from tables and parse checkers at log\n"
     ]
    },
    {
     "data": {
      "text/html": [
       "<p style=\"font-size:20px; color:#cc5c00; font-family:consolas;\"> \n",
       "            <a href=\"http://icsl10618.iil.intel.com:12312/scripts/voila/render/verilog_tree_and_tb.ipynb\">\n",
       "            <br>\n",
       "            verilog tree and tb\n",
       "            <br></a></p>"
      ],
      "text/plain": [
       "<IPython.core.display.HTML object>"
      ]
     },
     "metadata": {},
     "output_type": "display_data"
    },
    {
     "name": "stdout",
     "output_type": "stream",
     "text": [
      "\tget verilog folder and print hierarchy tree and more\n"
     ]
    },
    {
     "data": {
      "text/html": [
       "<p style=\"font-size:20px; color:#cc5c00; font-family:consolas;\"> \n",
       "            <a href=\"http://icsl10618.iil.intel.com:12312/scripts/voila/render/prbs_generator.ipynb\">\n",
       "            <br>\n",
       "            prbs generator\n",
       "            <br></a></p>"
      ],
      "text/plain": [
       "<IPython.core.display.HTML object>"
      ]
     },
     "metadata": {},
     "output_type": "display_data"
    },
    {
     "name": "stdout",
     "output_type": "stream",
     "text": [
      "\tprbs generator per given prbs size and polynomial\n"
     ]
    },
    {
     "data": {
      "text/html": [
       "<p style=\"font-size:20px; color:#cc5c00; font-family:consolas;\"> \n",
       "            <a href=\"http://icsl10618.iil.intel.com:12312/scripts/voila/render/raw_data_log_to_art.ipynb\">\n",
       "            <br>\n",
       "            raw data log to art\n",
       "            <br></a></p>"
      ],
      "text/plain": [
       "<IPython.core.display.HTML object>"
      ]
     },
     "metadata": {},
     "output_type": "display_data"
    },
    {
     "name": "stdout",
     "output_type": "stream",
     "text": [
      "\tupload raw data (1D list) to ART\n"
     ]
    },
    {
     "data": {
      "text/html": [
       "<p style=\"font-size:20px; color:#cc5c00; font-family:consolas;\"> \n",
       "            <a href=\"http://icsl10618.iil.intel.com:12312/scripts/voila/render/compile_verilog.ipynb\">\n",
       "            <br>\n",
       "            compile verilog\n",
       "            <br></a></p>"
      ],
      "text/plain": [
       "<IPython.core.display.HTML object>"
      ]
     },
     "metadata": {},
     "output_type": "display_data"
    },
    {
     "name": "stdout",
     "output_type": "stream",
     "text": [
      "\trun vcs online on given verilog code\n"
     ]
    },
    {
     "data": {
      "text/html": [
       "<p style=\"font-size:20px; color:#cc5c00; font-family:consolas;\"> \n",
       "            <a href=\"http://icsl10618.iil.intel.com:12312/scripts/voila/render/real_to_wire_issues.ipynb\">\n",
       "            <br>\n",
       "            real to wire issues\n",
       "            <br></a></p>"
      ],
      "text/plain": [
       "<IPython.core.display.HTML object>"
      ]
     },
     "metadata": {},
     "output_type": "display_data"
    },
    {
     "name": "stdout",
     "output_type": "stream",
     "text": [
      "\tparse vcs output and fix real to wire issues\n"
     ]
    },
    {
     "data": {
      "text/html": [
       "<p style=\"font-size:20px; color:#cc5c00; font-family:consolas;\"> \n",
       "            <a href=\"http://icsl10618.iil.intel.com:12312/scripts/voila/render/trace_drivers.ipynb\">\n",
       "            <br>\n",
       "            trace drivers\n",
       "            <br></a></p>"
      ],
      "text/plain": [
       "<IPython.core.display.HTML object>"
      ]
     },
     "metadata": {},
     "output_type": "display_data"
    },
    {
     "name": "stdout",
     "output_type": "stream",
     "text": [
      "\tparse verilog folder and find drivers and loads on given net\n",
      "\tyou can also use this to get port mapping\n"
     ]
    },
    {
     "data": {
      "text/html": [
       "<p style=\"font-size:20px; color:#cc5c00; font-family:consolas;\"> \n",
       "            <a href=\"http://icsl10618.iil.intel.com:12312/scripts/voila/render/port_net_name_similarity.ipynb\">\n",
       "            <br>\n",
       "            port net name similarity\n",
       "            <br></a></p>"
      ],
      "text/plain": [
       "<IPython.core.display.HTML object>"
      ]
     },
     "metadata": {},
     "output_type": "display_data"
    },
    {
     "name": "stdout",
     "output_type": "stream",
     "text": [
      "\tget list of ports and nets connected to each other at given verilog folder and check similarity between the 2 ends\n"
     ]
    },
    {
     "data": {
      "text/html": [
       "<p style=\"font-size:20px; color:#cc5c00; font-family:consolas;\"> \n",
       "            <a href=\"http://icsl10618.iil.intel.com:12312/scripts/voila/render/update_field_in_reg.ipynb\">\n",
       "            <br>\n",
       "            update field in reg\n",
       "            <br></a></p>"
      ],
      "text/plain": [
       "<IPython.core.display.HTML object>"
      ]
     },
     "metadata": {},
     "output_type": "display_data"
    },
    {
     "name": "stdout",
     "output_type": "stream",
     "text": [
      "\tupdate field in register\n"
     ]
    },
    {
     "data": {
      "text/html": [
       "<p style=\"font-size:20px; color:#cc5c00; font-family:consolas;\"> \n",
       "            <a href=\"http://icsl10618.iil.intel.com:12312/scripts/voila/render/handle_virtuoso_sv.ipynb\">\n",
       "            <br>\n",
       "            handle virtuoso sv\n",
       "            <br></a></p>"
      ],
      "text/plain": [
       "<IPython.core.display.HTML object>"
      ]
     },
     "metadata": {},
     "output_type": "display_data"
    },
    {
     "name": "stdout",
     "output_type": "stream",
     "text": [
      "\tco, ci, check and save, edit by gvim\n"
     ]
    },
    {
     "data": {
      "text/html": [
       "<p style=\"font-size:20px; color:#cc5c00; font-family:consolas;\"> \n",
       "            <a href=\"http://icsl10618.iil.intel.com:12312/scripts/voila/render/interleave_with_dac_and_slicers_offset.ipynb\">\n",
       "            <br>\n",
       "            interleave with dac and slicers offset\n",
       "            <br></a></p>"
      ],
      "text/plain": [
       "<IPython.core.display.HTML object>"
      ]
     },
     "metadata": {},
     "output_type": "display_data"
    },
    {
     "name": "stdout",
     "output_type": "stream",
     "text": [
      "\tplay with slicers and dac offest on single sar\n"
     ]
    },
    {
     "data": {
      "text/html": [
       "<p style=\"font-size:20px; color:#cc5c00; font-family:consolas;\"> \n",
       "            <a href=\"http://icsl11747.iil.intel.com:10325/lisrael1/tree?\">\n",
       "            <br>\n",
       "            edit content\n",
       "            <br></a></p>"
      ],
      "text/plain": [
       "<IPython.core.display.HTML object>"
      ]
     },
     "metadata": {},
     "output_type": "display_data"
    },
    {
     "name": "stdout",
     "output_type": "stream",
     "text": [
      "\tfor lior...\n"
     ]
    },
    {
     "data": {
      "text/html": [
       "<p style=\"font-size:20px; color:#cc5c00; font-family:consolas;\"> \n",
       "            <a href=\"http://icsl10649.iil.intel.com:10324/general/\">\n",
       "            <br>\n",
       "            write your own jupyter\n",
       "            <br></a></p>"
      ],
      "text/plain": [
       "<IPython.core.display.HTML object>"
      ]
     },
     "metadata": {},
     "output_type": "display_data"
    },
    {
     "name": "stdout",
     "output_type": "stream",
     "text": [
      "\twrite your own jupyter code or voila app\n"
     ]
    }
   ],
   "source": [
    "voila_prefix=f'http://{local_machine}.iil.intel.com:12312/scripts/voila/render/'\n",
    "header('content:')\n",
    "\n",
    "header('compare p4 tags', 'http://iapp258.iil.intel.com:8503')\n",
    "print('\\tpick 2 tags and find files that differ')\n",
    "\n",
    "header('SV Net Analyzer', 'http://iapp258.iil.intel.com:8501')\n",
    "print('\\tSV Net Analyzer, By Yehuda B')\n",
    "\n",
    "header('sar_with_dac_and_slicers_offset', voila_prefix+'sar_with_dac_and_slicers_offset.ipynb')\n",
    "print('\\tplay with slicers and dac offest on single sar')\n",
    "\n",
    "header('sar_with_tau', voila_prefix+'sar_with_tau.ipynb')\n",
    "print('\\tplay with tau on sar')\n",
    "\n",
    "header('color code', 'http://iapp258.iil.intel.com:8520')\n",
    "print('\\tenter your shell/python/whatever code that you have and get it in colors.\\n\\tyou can copy paste it to your word/oneonte etc')\n",
    "\n",
    "header('dve/wv sessions generator for brk/flc', 'http://iapp258.iil.intel.com:8521')\n",
    "print('\\tload all sar/th1 nets on dve/wv')\n",
    "\n",
    "# header('handle_virtuoso_sv', voila_prefix+'handle_virtuoso_sv.ipynb')\n",
    "header('handle_virtuoso_sv', 'http://iapp258.iil.intel.com:8512')\n",
    "print('\\tcompare your local sv tothe version at the library manager\\n\\tco, ci, check and save, edit by gvim/meld')\n",
    "\n",
    "header('noise characterization', 'http://iapp258.iil.intel.com:8522')\n",
    "print('\\tnoise characterization for AFE, prebuf th and postbuff')\n",
    "\n",
    "header('regression on excel from ART', 'http://iapp258.iil.intel.com:8523')\n",
    "print('\\tparsing downloaded excel with multiple tests from ART and plotting cross tests')\n",
    "\n",
    "header('reload data to ART', 'http://iapp258.iil.intel.com:8524')\n",
    "print('\\tdownload excel from ART, edit it and upload it back again to ART')\n",
    "\n",
    "header('xls_to_soconline',voila_prefix+'xls_to_soconline.ipynb')\n",
    "print('\\tupload xls file and get download link for soc format')\n",
    "\n",
    "header('regs handler', 'http://iapp258.iil.intel.com:8525')\n",
    "print('\\tupload regs excel with regs and fields tabs and generate verilog SA/ral/xml(soconline) and more checks')\n",
    "\n",
    "header('checkers_demo', voila_prefix+'checkers_demo.ipynb')\n",
    "print('\\tgenerate checkers sv file from tables and parse checkers at log')\n",
    "\n",
    "header('verilog_tree_and_tb', voila_prefix+'verilog_tree_and_tb.ipynb')\n",
    "print('\\tget verilog folder and print hierarchy tree and more')\n",
    "\n",
    "header('xa_spice_tb', 'http://iapp258.iil.intel.com:8528')\n",
    "print('\\tbuild xa spice tb')\n",
    "\n",
    "header('prbs_generator', voila_prefix+'prbs_generator.ipynb')\n",
    "print('\\tprbs generator per given prbs size and polynomial')\n",
    "\n",
    "header('raw_data_log_to_art', voila_prefix+'raw_data_log_to_art.ipynb')\n",
    "print('\\tupload raw data (1D list) to ART')\n",
    "\n",
    "# header('compile_verilog', voila_prefix+'compile_verilog.ipynb')\n",
    "# print('\\trun vcs online on given verilog code')\n",
    "header('compile_verilog', 'http://iapp258.iil.intel.com:8518')\n",
    "print('\\trun vcs online on given verilog code')\n",
    "\n",
    "header('real_to_wire_issues', voila_prefix+'real_to_wire_issues.ipynb')\n",
    "print('\\tparse vcs output and fix real to wire issues\\n\\tcan use this also as verilog helper for seeing missing blocks and parsing compilation erros')\n",
    "\n",
    "header('trace_drivers', voila_prefix+'trace_drivers.ipynb')\n",
    "print('\\tparse verilog folder and find drivers and loads on given net\\n\\tyou can also use this to get port mapping')\n",
    "\n",
    "header('port_net_name_similarity', voila_prefix+'port_net_name_similarity.ipynb')\n",
    "print('\\tget list of ports and nets connected to each other at given verilog folder and check similarity between the 2 ends')\n",
    "\n",
    "header('update_field_in_reg', voila_prefix+'update_field_in_reg.ipynb')\n",
    "print('\\tupdate field in register')\n",
    "\n",
    "header('duplicate folder by excel', 'http://iapp258.iil.intel.com:8510')\n",
    "print('\\ttake a folder, duplicate it by columns at the excel and do find replace by the excel')\n",
    "\n",
    "header('msv|xa running time', 'http://iapp258.iil.intel.com:8511')\n",
    "print('\\tcompare running time between different msv|xa simulations')\n",
    "\n",
    "header('msv log with sniffers to csv and ART', 'http://iapp258.iil.intel.com:8515')\n",
    "print('\\tparse msv log with all data, clock and reg sniffers and get csv with all data')\n",
    "\n",
    "header('compare_blocks_and_ports_at_spice_netlists', 'http://iapp258.iil.intel.com:8513')\n",
    "print('\\tenter 2 netlists with full path, and this tool will look for missing blocks or missing ports')\n",
    "\n",
    "header('analog block documentation', 'http://iapp258.iil.intel.com:8514')\n",
    "print('\\tdocumentation per block on the block target and its ports')\n",
    "\n",
    "header('edit content', f'http://{local_machine}.iil.intel.com:10325/lisrael1/tree?')\n",
    "print('\\tfor lior...')\n",
    "\n",
    "\n",
    "header('write your own jupyter', f'http://{local_machine}.iil.intel.com:10324/general/')\n",
    "print('\\twrite your own jupyter code or voila app')"
   ]
  },
  {
   "cell_type": "code",
   "execution_count": null,
   "metadata": {},
   "outputs": [],
   "source": []
  }
 ],
 "metadata": {
  "kernelspec": {
   "display_name": "Python 3",
   "language": "python",
   "name": "python3"
  },
  "language_info": {
   "codemirror_mode": {
    "name": "ipython",
    "version": 3
   },
   "file_extension": ".py",
   "mimetype": "text/x-python",
   "name": "python",
   "nbconvert_exporter": "python",
   "pygments_lexer": "ipython3",
   "version": "3.7.4"
  }
 },
 "nbformat": 4,
 "nbformat_minor": 2
}
