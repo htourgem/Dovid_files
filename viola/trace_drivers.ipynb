{
 "cells": [
  {
   "cell_type": "code",
   "execution_count": 1,
   "metadata": {
    "scrolled": true
   },
   "outputs": [
    {
     "data": {
      "text/plain": [
       "'TODO\\nknown bugs:\\nif you have port that gets 1 part of a bus, like:\\n    .vin(i_ffe_cm2_rto[8])\\nthe netlister will not print this port\\n'"
      ]
     },
     "execution_count": 1,
     "metadata": {},
     "output_type": "execute_result"
    }
   ],
   "source": [
    "'''TODO\n",
    "known bugs:\n",
    "if you have port that gets 1 part of a bus, like:\n",
    "    .vin(i_ffe_cm2_rto[8])\n",
    "the netlister will not print this port\n",
    "'''"
   ]
  },
  {
   "cell_type": "code",
   "execution_count": 2,
   "metadata": {},
   "outputs": [],
   "source": [
    "import ipywidgets\n",
    "import pandas as pd\n",
    "import os\n",
    "import hashlib\n",
    "pd.set_option('display.max_colwidth',1000)\n",
    "\n",
    "parser_output=None\n",
    "df=None\n",
    "verilog_output_folder='/nfs/iil/disks/ams_regruns/dkl/users/lisrael1/msv/temp_del/verilog_helper/'\n",
    "pattern=r'son - (?P<son_net>[\\w\\d_]+)@(?P<son_block>[\\w\\d_]+) \\((?P<son_type>[\\w_-]*):.*:(?P<son_direction>[\\w_-]*)\\) father - (?P<father_net>[\\w\\d_\\[\\]]+)@(?P<father_block>[\\w\\d_]+) \\((?P<father_type>[\\w_-]*):.*father: (?P<father_file>.*) son: (?P<son_file>.*)'"
   ]
  },
  {
   "cell_type": "code",
   "execution_count": 3,
   "metadata": {},
   "outputs": [
    {
     "data": {
      "application/vnd.jupyter.widget-view+json": {
       "model_id": "7bb337784d524d8c8e223dd32b3ab081",
       "version_major": 2,
       "version_minor": 0
      },
      "text/plain": [
       "interactive(children=(Text(value='/nfs/iil/disks/hdk_ws/ckt/lisrael1/lior_dir/bmods_development/brk_gen2/4.brk…"
      ]
     },
     "metadata": {},
     "output_type": "display_data"
    }
   ],
   "source": [
    "verilog_folder_widget=ipywidgets.Text(value=r'/nfs/iil/disks/hdk_ws/ckt/lisrael1/lior_dir/bmods_development/brk_gen2/4.brk_gen2_0p8/0.original/1',placeholder='verilog folder full path',\n",
    "                                      description='verilog folder:', \n",
    "                                      layout=ipywidgets.Layout(width='95%'),\n",
    "                                      style=dict(description_width='initial'))\n",
    "@ipywidgets.interact\n",
    "def a(verilog_folder=verilog_folder_widget):\n",
    "    global parser_output, df\n",
    "    # it takes a lot of time to run, so we will save old results by the folder hash and reload this result at next time\n",
    "    verilog_folder_hash=hashlib.md5(str.encode(verilog_folder)).hexdigest()\n",
    "    parser_output_file=verilog_output_folder+'/perl_verilog_parser_output_'+verilog_folder_hash+'.txt'\n",
    "    csv_output_file=verilog_output_folder+'/csv_verilog_parser_output_'+verilog_folder_hash+'.csv'\n",
    "\n",
    "    exist=!ls $parser_output_file\n",
    "    if exist[0].startswith('ls: cannot access '):\n",
    "        print('running parser (may take 1 minute)')\n",
    "        command='/nfs/iil/disks/hdk_ws/ckt/lisrael1/lior_dir/tools/sv/print_all_modules_and_ports_connection.pl -f='+\\\n",
    "            verilog_folder+' 2>&1 |pv -l -N \"lines rate at reading parser output\"> '+\\\n",
    "            parser_output_file\n",
    "        print('running command:\\n\\t'+command)\n",
    "        !$command\n",
    "    print('parsing file '+parser_output_file)\n",
    "    parser_output=open(parser_output_file).read().split('\\n')\n",
    "    print('done parsing')\n",
    "    df=pd.DataFrame(parser_output, columns=['original'])\n",
    "    print('converting to csv')\n",
    "    df=pd.concat([df.original.str.extract(pattern),df], axis=1)\n",
    "    print('saving csv (may take a minute)')\n",
    "    df.to_csv(csv_output_file)\n",
    "    print('saved to '+csv_output_file)\n",
    "    display(df.tail(10))\n",
    "#         display(df.query('((son_block==@block) and (son_net==@net)) or ((father_block==@block) and (father_net==@net)) '))\n",
    "    "
   ]
  },
  {
   "cell_type": "code",
   "execution_count": 4,
   "metadata": {
    "scrolled": false
   },
   "outputs": [
    {
     "data": {
      "application/vnd.jupyter.widget-view+json": {
       "model_id": "13bf0f3f5ff9405f831567c6718670fb",
       "version_major": 2,
       "version_minor": 0
      },
      "text/plain": [
       "interactive(children=(Text(value='block name', description='block'), Text(value='net name', description='net')…"
      ]
     },
     "metadata": {},
     "output_type": "display_data"
    }
   ],
   "source": [
    "@ipywidgets.interact\n",
    "def a(block='block name', net='net name'):\n",
    "    global df\n",
    "    if not df is None:\n",
    "        block=block.replace(' ','')\n",
    "        net=net.replace(' ','')\n",
    "        display(df.query('((son_block==@block) and (son_net==@net)) or ((father_block==@block) and (father_net==@net)) '))     "
   ]
  },
  {
   "cell_type": "code",
   "execution_count": null,
   "metadata": {},
   "outputs": [],
   "source": []
  }
 ],
 "metadata": {
  "kernelspec": {
   "display_name": "Python 3",
   "language": "python",
   "name": "python3"
  },
  "language_info": {
   "codemirror_mode": {
    "name": "ipython",
    "version": 3
   },
   "file_extension": ".py",
   "mimetype": "text/x-python",
   "name": "python",
   "nbconvert_exporter": "python",
   "pygments_lexer": "ipython3",
   "version": "3.7.4"
  }
 },
 "nbformat": 4,
 "nbformat_minor": 2
}
