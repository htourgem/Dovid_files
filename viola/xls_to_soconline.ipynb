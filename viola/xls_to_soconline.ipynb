{
 "cells": [
  {
   "cell_type": "code",
   "execution_count": 1,
   "metadata": {},
   "outputs": [
    {
     "data": {
      "text/plain": [
       "'not working if you have non valid input exel like TBD instead of numbers'"
      ]
     },
     "execution_count": 1,
     "metadata": {},
     "output_type": "execute_result"
    }
   ],
   "source": [
    "'not working if you have non valid input exel like TBD instead of numbers'"
   ]
  },
  {
   "cell_type": "code",
   "execution_count": 2,
   "metadata": {},
   "outputs": [],
   "source": [
    "import ipywidgets\n",
    "import ipywidgets as widgets\n",
    "import pandas as pd\n",
    "import numpy as np\n",
    "import io\n",
    "from IPython.display import HTML\n",
    "from IPython.display import FileLink, FileLinks"
   ]
  },
  {
   "cell_type": "code",
   "execution_count": 3,
   "metadata": {},
   "outputs": [],
   "source": [
    "# accept will show you only csv or xml files. you will not see the other types\n",
    "# at the browser you can force it to choose non csv, but you have if else at the function\n",
    "\n",
    "def uploading(uploaded):\n",
    "    output_path='/nfs/iil/disks/ams_regruns/dkl/users/lisrael1/msv/temp_del/soconline_output/soconline.xml'\n",
    "    uploaded=uploaded['new']\n",
    "    output_path=output_path.replace('soconline.xml',output_file_prefix.value+'soconline.xml')\n",
    "    print(output_path)\n",
    "\n",
    "    output1.clear_output()\n",
    "    output2.clear_output()\n",
    "    output3.clear_output()\n",
    "    \n",
    "    if len(uploaded):\n",
    "        file_name=list(uploaded.keys())[0]\n",
    "        if file_name.endswith('xlsm'):\n",
    "            with output2:\n",
    "                # -*- coding: utf-8 -*-\n",
    "                \"\"\"\n",
    "                Created on Mon Jul 10 22:27:33 2017\n",
    "\n",
    "                @author: cfircoh\n",
    "                \"\"\"\n",
    "                import pandas as pd\n",
    "\n",
    "                soc=\"POR\"\n",
    "                #pdb.set_trace()\n",
    "                #            C:\\Users\\cfircoh\\Documents\\BARAK\\Soconline\\release SCH1.2 _SAR_AV\n",
    "                #path=r'\\\\VMSPFSFSLC03\\aces_ethernet\\BARAK\\Barak_gen2\\Analog\\ADC\\Register Map\\sch0p5\\\\'\n",
    "                uploaded_file=open(file_name,'wb')\n",
    "                uploaded_file.write(uploaded[file_name]['content'])\n",
    "                uploaded_file.close()\n",
    "                with open(output_path,\"w\") as f:\n",
    "                    f.write(\"<?xml version=\\\"1.0\\\" encoding=\\\"ISO-8859-1\\\"?>\\n<BLOCK_DB LAST_ID=\\\"230\\\">\\n\")\n",
    "                    ID=1\n",
    "                    pos=12\n",
    "    #                 print('now reading '+file_name)\n",
    "                    xls=pd.ExcelFile(file_name)        \n",
    "                    sh=xls.parse(0)\n",
    "                    with output3:\n",
    "                        display(sh)\n",
    "                    with output2:\n",
    "                        index=[]\n",
    "                        reg_width=[]\n",
    "                        flag=0\n",
    "                        offset=[]\n",
    "                        s=0\n",
    "                        for i in range (0,len(sh.iloc[:,0])):\n",
    "                            if(str(sh.iloc[i,0])!=\"nan\"):\n",
    "                                index.append(i)\n",
    "                                if(flag==0):\n",
    "                                    s=i\n",
    "                                    flag=1\n",
    "                                else:\n",
    "                                    offset.append(i-s)\n",
    "                                    s=i\n",
    "\n",
    "                        offset.append(len(sh.iloc[:,0])-index[len(index)-1])\n",
    "\n",
    "                        for i in range(0,len(index)):\n",
    "                            print(sh.iloc[index[i],0] , i)\n",
    "                            s=0\n",
    "\n",
    "                            for  j in range (index[i]+1 ,index[i]+ offset[i]):\n",
    "                                print(sh.iloc[j,3],j,sh.iloc[i,0] , i)\n",
    "                                s=s+sh.iloc[j,3]\n",
    "\n",
    "                            reg_width.append(int(s))\n",
    "\n",
    "                        ls0=[]\n",
    "                        reg_name_offset_defaultval=[]\n",
    "                        for i in range(len(index)):\n",
    "                            print(index[i])\n",
    "\n",
    "                            ls0=[sh.iloc[index[i],0],sh.iloc[index[i],1],sh.iloc[index[i],2]]\n",
    "                            reg_name_offset_defaultval.append(ls0)\n",
    "                            ls0=[]\n",
    "\n",
    "                            f.write(\"\\t<REGISTER ACCESS_TYPE=\\\"rw\\\" ADDR_OFFSET=\\\"\"+str(sh.iloc[index[i],12])+\"\\\" HDL_PATH=\\\"\\\" ID=\\\"\"+str(ID)+\"\\\" NAME=\\\"\"+str(sh.iloc[index[i],0])+\"\\\" RESET_VAL=\\\"\"+str(hex(int(sh.iloc[index[i],9][4::],2)))[2::]+\"\\\" SHORT_DESCRIPTION=\\\"\\\" USER_DEFINED_1=\\\"\"+str(sh.iloc[index[i],pos])+\"\\\" WIDTH=\\\"32\\\">\");\n",
    "                            f.write(\"\\n\\t\\t<CONSTRAINTS></CONSTRAINTS>\\n\\t\\t<DESCRIPTION></DESCRIPTION>\\n\")\n",
    "                            for  y in range (index[i]+1 ,index[i]+ offset[i]):\n",
    "                                ID=ID+1\n",
    "                                print (ID,y,i,index[i])\n",
    "                                if(len(str(sh.iloc[y,4]))==5):\n",
    "                                    print(str(sh.iloc[y,2]),str(ID))#,str(hex(int(sh.iloc[y,5][len(str(int(sh.iloc[y,3])))+2::],2)))[2::],str(sh.iloc[y,4])[3::],str(int(sh.iloc[y,3])))\n",
    "                                    f.write(\"\\t\\t<FIELD ACCESS_TYPE=\\\"rw\\\" HDL_PATH=\\\"\"+str(sh.iloc[y,34])+\"\\\" NAME=\\\"\"+str(sh.iloc[y,2])+\"\\\" ID=\\\"\"+str(ID)+\"\\\" RESET_VAL=\\\"\"+str(hex(int(sh.iloc[y,6][len(str(int(sh.iloc[y,3])))+2::],2)))[2::]+\"\\\" START_BIT_OFFSET=\\\"\"+str(sh.iloc[y,4])[3::]+\"\\\" WIDTH=\\\"\"+str(int(sh.iloc[y,3]))+\"\\\">\")\n",
    "                                if(len(str(sh.iloc[y,4]))==4):\n",
    "                                    f.write(\"\\t\\t<FIELD ACCESS_TYPE=\\\"rw\\\" HDL_PATH=\\\"\"+str(sh.iloc[y,34])+\"\\\" NAME=\\\"\"+str(sh.iloc[y,2])+\"\\\" ID=\\\"\"+str(ID)+\"\\\" RESET_VAL=\\\"\"+str(hex(int(sh.iloc[y,6][len(str(int(sh.iloc[y,3])))+2::],2)))[2::]+\"\\\" START_BIT_OFFSET=\\\"\"+str(sh.iloc[y,4])[3::]+\"\\\" WIDTH=\\\"\"+str(int(sh.iloc[y,3]))+\"\\\">\")\n",
    "                                if(len(str(sh.iloc[y,4]))==3):\n",
    "                                    print(y)\n",
    "                                    a=str(hex(int(sh.iloc[y,5][len(str(int(sh.iloc[y,3])))+2::],2)))[2::]\n",
    "                                    f.write(\"\\t\\t<FIELD ACCESS_TYPE=\\\"rw\\\" HDL_PATH=\\\"\"+str(sh.iloc[y,34])+\"\\\" NAME=\\\"\"+str(sh.iloc[y,2])+\"\\\" ID=\\\"\"+str(ID)+\"\\\" RESET_VAL=\\\"\"+str(hex(int(sh.iloc[y,6][len(str(int(sh.iloc[y,3])))+2::],2)))[2::]+\"\\\" START_BIT_OFFSET=\\\"\"+str(sh.iloc[y,4])[2::]+\"\\\" WIDTH=\\\"\"+str(int(sh.iloc[y,3]))+\"\\\">\")\n",
    "                                f.write(\"\\n\\t\\t\\t<CONSTRAINTS></CONSTRAINTS>\\n\\t\\t\\t<DESCRIPTION>\"+str(sh.iloc[y,7])+\"</DESCRIPTION>\\n\\t\\t\\t<USER_DEFINED_1></USER_DEFINED_1>\\n\\t\\t\\t<USER_DEFINED_2></USER_DEFINED_2>\\n\\t\\t</FIELD>\\n\")\n",
    "                            f.write(\"\\t</REGISTER>\\n\")\n",
    "                            ID=ID+1\n",
    "\n",
    "                        f.write(\"</BLOCK_DB>\")\n",
    "                    f.close()\n",
    "                    win_path=!winpath.sh $output_path\n",
    "                    print(win_path)\n",
    "                    !chmod 777 $output_path\n",
    "\n",
    "            with output1:\n",
    "#                 display(HTML('<a href=\"%s.xml\"> soc_file </a>'%output_path))\n",
    "#                 HTML(FileLinks(output_path[0]))\n",
    "                print('link to output file : %s'%win_path[0])\n",
    "        else:\n",
    "            with output1:\n",
    "                print('choose only xlsm file')\n",
    "    else:\n",
    "        with output1:\n",
    "            print('no input file')"
   ]
  },
  {
   "cell_type": "code",
   "execution_count": 4,
   "metadata": {
    "scrolled": false
   },
   "outputs": [
    {
     "data": {
      "application/vnd.jupyter.widget-view+json": {
       "model_id": "60ee695e053b431d807268bff8b6f5a2",
       "version_major": 2,
       "version_minor": 0
      },
      "text/plain": [
       "GridspecLayout(children=(Text(value='', description='output file prefix', layout=Layout(grid_area='widget001',…"
      ]
     },
     "metadata": {},
     "output_type": "display_data"
    }
   ],
   "source": [
    "layout=dict(margin='1px 1px 1px 1px',border='solid 1px',)\n",
    "upload = ipywidgets.FileUpload(accept='.csv,.xlsm', multiple=True, style=dict(button_color='#ffce91'))\n",
    "output_file_prefix=ipywidgets.Text(value=r'',placeholder='output file prefix',description='output file prefix', layout=ipywidgets.Layout(width='95%'), style=dict(description_width='initial'))\n",
    "output1 = widgets.Output(layout=widgets.Layout(**layout, height='60px'))\n",
    "output2 = widgets.Output(layout=widgets.Layout(**layout, height='600px',overflow_y='scroll'))\n",
    "output3 = widgets.Output(layout=widgets.Layout(**layout, height='600px',overflow_y='scroll'))\n",
    "\n",
    "grid = widgets.GridspecLayout(5, 1, height='1400px', width='100%',overflow_y='scroll')\n",
    "grid[0, 0] = output_file_prefix\n",
    "grid[1, 0] = upload\n",
    "grid[2, 0] = output1\n",
    "grid[3, 0] = output3\n",
    "grid[4, 0] = output2\n",
    "\n",
    "upload.observe(uploading, names='value')\n",
    "\n",
    "grid"
   ]
  }
 ],
 "metadata": {
  "kernelspec": {
   "display_name": "Python 3",
   "language": "python",
   "name": "python3"
  },
  "language_info": {
   "codemirror_mode": {
    "name": "ipython",
    "version": 3
   },
   "file_extension": ".py",
   "mimetype": "text/x-python",
   "name": "python",
   "nbconvert_exporter": "python",
   "pygments_lexer": "ipython3",
   "version": "3.6.3"
  }
 },
 "nbformat": 4,
 "nbformat_minor": 2
}
