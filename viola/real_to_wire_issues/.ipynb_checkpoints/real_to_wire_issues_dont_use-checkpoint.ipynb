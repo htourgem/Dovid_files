{
 "cells": [
  {
   "cell_type": "code",
   "execution_count": 1,
   "metadata": {},
   "outputs": [],
   "source": [
    "TODO='''next TODO: \n",
    "we have errors of types mismatch (like at wrealsum to wrealavg), bus of logic to real bus, and warnings real to wire\n",
    "they have all the same pattern - file path, net name, bus size etc.\n",
    "so need to unite all the issues into 1 single table\n",
    "then turn this table into sed command at the end\n",
    "'''\n",
    "TODO ='''\n",
    "sed -ri '8s@((input|output|inout)\\s+)?(wire\\s+)?(logic\\s+)?\\s*ldo_th2_boost_0p7_out@\\1wrealsum ldo_th2_boost_0p7_out@' '/nfs/iil/disks/hdk_ws/ckt/lisrael1/lior_dir/bmods_development/brk_gen2/4.brk_gen2_0p8/2.propagating_reals/ipn5brk2adcldo_ldo_top.v' \n",
    "sed -ri '8s@((input|output|inout)\\s+)?(wire\\s+)?(logic\\s+)?\\s*ldo_th2_boost_0p7_out@\\1wrealavg ldo_th2_boost_0p7_out@' '/nfs/iil/disks/hdk_ws/ckt/lisrael1/lior_dir/bmods_development/brk_gen2/4.brk_gen2_0p8/2.propagating_reals/ipn5brk2adcldo_ldo_top.v' \n",
    "\n",
    "input:\n",
    "    output   ldo_th2_boost_0p7_out, \n",
    "output\n",
    "    output   wrealsumwrealavg ldo_th2_boost_0p7_out,\n",
    "\n",
    "'''\n",
    "\n",
    "TODO='''\n",
    "at pctm sometimes i have \n",
    "        Expression:  vofc_q1q3s1s2sl2sl5_n[3]\n",
    "        Port:        wire vout_n;\n",
    "        Declared at: \n",
    "      \"/nfs/iil/disks/hdk_ws/ckt/lisrael1/lior_dir/bmods_development/brk_gen2/4.brk_gen2_0p8/1.small_fixes/ipn5adcrefgenshr_mux.v\",\n",
    "      10\n",
    "      Nettype nets cannot be connected to builtin net types.\n",
    "and sometimes it's Expression with declared at after it\n",
    "'''"
   ]
  },
  {
   "cell_type": "code",
   "execution_count": 2,
   "metadata": {},
   "outputs": [],
   "source": [
    "if 'log' not in list(locals().keys())+list(globals().keys()):\n",
    "    log='/nfs/iil/disks/falcon_tc2-rtl/users/lisrael1/first/analog_sa/src/bmod/brk_adc_top/sim/log'\n",
    "    # log='/nfs/iil/disks/falcon_tc2-rtl/users/lisrael1/first/analog_sa/src/bmod/brk_adc_fe/netlist_steps/sim/log'\n",
    "    log='/nfs/iil/disks/falcon_tc2-rtl/users/lisrael1/first/analog_sa/src/bmod/brk_adc_top/sim_with_fe/log'\n",
    "    log='/nfs/iil/disks/ams_regruns/dkl/users/lisrael1/msv/temp_del/log3'\n",
    "    log='/nfs/iil/disks/hdk_ws/ckt/lisrael1/lior_dir/bmods_development/brk_gen2/4.brk_gen2_0p8/sim/log'\n",
    "    log='/nfs/iil/disks/hdk_ws/ckt/lisrael1/lior_dir/bmods_development/brk_gen2/5.brk_gen2_1p0/sim/log'\n",
    "    log='/nfs/iil/disks/barak_gen2_rtl/users/lisrael1/first/run_sim_prod/log'\n",
    "    log='/nfs/iil/disks/hdk_ws/ckt/lisrael1/lior_dir/bmods_development/flc/1p0/sim/log'\n",
    "    log='/nfs/iil/disks/hdk_ws/ckt/lisrael1/lior_dir/bmods_development/flc/1p1/sim/log'"
   ]
  },
  {
   "cell_type": "code",
   "execution_count": 3,
   "metadata": {},
   "outputs": [
    {
     "name": "stderr",
     "output_type": "stream",
     "text": [
      "/nfs/iil/disks/hdk_ws/ckt/lisrael1/lior_dir/virtual_env/env/lib/python3.6/site-packages/pandas/compat/__init__.py:117: UserWarning: Could not import the lzma module. Your installed Python is incomplete. Attempting to use lzma compression will result in a RuntimeError.\n",
      "  warnings.warn(msg)\n"
     ]
    }
   ],
   "source": [
    "from IPython.display import display\n",
    "import numpy as np\n",
    "import pandas as pd\n",
    "pd.set_option(\"display.max_columns\",1000) # don’t put … instead of multi columns\n",
    "pd.set_option('expand_frame_repr',False) # for not wrapping columns if you have many\n",
    "pd.set_option(\"display.max_rows\",1000)\n",
    "pd.set_option('display.max_colwidth',10000)\n",
    "\n",
    "from IPython.display import HTML\n",
    "def header(text, size=100):\n",
    "#     print('*'*size)\n",
    "#     print(\"{:{fill}{align}{width}}\".format(\"  \"+text+\"  \", fill='*', align='^', width=size))\n",
    "#     print('*'*size)\n",
    "    html='''\n",
    "    <p style=\"font-size:32px; color:#cc5c00; font-family:consolas;\"> \n",
    "            <br>\n",
    "            {text}\n",
    "            <br>\n",
    "            <br>\n",
    "    </p>'''.format(text=text)\n",
    "    display(HTML(html))\n",
    "\n",
    "def print_linux_windows_path(linux_path, prefix='\\t'):\n",
    "    print(prefix, linux_path)\n",
    "    win=r'\\\\isamba.iil.intel.com'+linux_path.replace('/','\\\\')\n",
    "#     win=!winpath.sh $linux_path\n",
    "    print(prefix, win)\n",
    "    \n",
    "output_directory='/nfs/iil/disks/ams_regruns/dkl/users/lisrael1/msv/temp_del/verilog_tmp/'\n",
    "output_directory='/nfs/iil/disks/hip_ana_sim_01/dgottesm/analysis_and_tools/voila/real_to_wire_issues/results/'\n"
   ]
  },
  {
   "cell_type": "code",
   "execution_count": 4,
   "metadata": {},
   "outputs": [
    {
     "data": {
      "text/html": [
       "\n",
       "    <p style=\"font-size:32px; color:#cc5c00; font-family:consolas;\"> \n",
       "            <br>\n",
       "            errors\n",
       "            <br>\n",
       "            <br>\n",
       "    </p>"
      ],
      "text/plain": [
       "<IPython.core.display.HTML object>"
      ]
     },
     "metadata": {},
     "output_type": "display_data"
    }
   ],
   "source": [
    "header('errors')"
   ]
  },
  {
   "cell_type": "code",
   "execution_count": 5,
   "metadata": {},
   "outputs": [
    {
     "name": "stdout",
     "output_type": "stream",
     "text": [
      "    104 Lint-[PCWM-L] Port connection width mismatch\n",
      "     56 Warning-[IPC] Illegal high conn for port connect\n",
      "     48 Error-[PCTM] Port connection type mismatch\n",
      "      3 Warning-[NMIN] No module instance name\n",
      "      2 Lint-[TFIPC-L] Too few instance port connections\n",
      "      2 Error-[EIRO] Illegal real operand\n",
      "      1 Warning-[LCA_FEATURES_ENABLED] Usage warning\n",
      "      1 Warning-[DEBUG_DEP] Option will be deprecated\n",
      "      1 Error-[VIPCBD] Variable input ports cannot be driven\n"
     ]
    }
   ],
   "source": [
    "errors = !cat $log | grep -P 'Error|Warning|Lint' | sort | uniq -c |sort -nr\n",
    "print('\\n'.join(errors))\n",
    "cmd=f'''grep URMI -A 2 {log} | grep -Pv 'Error|--' | tr -d ',\"' | awk '{{print $1}}' | paste - - | grep -oP '/[^/]+\\s\\S+$' | uniq -c | sort -nr | column -t'''\n",
    "missing_blocks = !$cmd\n",
    "if len(missing_blocks):\n",
    "    print('\\n\\nmissing blocks:')\n",
    "    print('\\n'.join(missing_blocks))\n",
    "    print(f'\\n\\n\\tcmd: \\n\\t{cmd}\\n')\n"
   ]
  },
  {
   "cell_type": "code",
   "execution_count": 6,
   "metadata": {},
   "outputs": [
    {
     "data": {
      "text/html": [
       "<div>\n",
       "<style scoped>\n",
       "    .dataframe tbody tr th:only-of-type {\n",
       "        vertical-align: middle;\n",
       "    }\n",
       "\n",
       "    .dataframe tbody tr th {\n",
       "        vertical-align: top;\n",
       "    }\n",
       "\n",
       "    .dataframe thead th {\n",
       "        text-align: right;\n",
       "    }\n",
       "</style>\n",
       "<table border=\"1\" class=\"dataframe\">\n",
       "  <thead>\n",
       "    <tr style=\"text-align: right;\">\n",
       "      <th>error code</th>\n",
       "      <th>meaning</th>\n",
       "    </tr>\n",
       "  </thead>\n",
       "  <tbody>\n",
       "    <tr>\n",
       "      <th>ICSD,ICPSD</th>\n",
       "      <td>multi driver on real</td>\n",
       "    </tr>\n",
       "    <tr>\n",
       "      <th>PCTM</th>\n",
       "      <td>packed connected to unpacked or wreal connected to wire</td>\n",
       "    </tr>\n",
       "    <tr>\n",
       "      <th>VIHIOP</th>\n",
       "      <td>real cannot be connected to inout port, even if it's wreal type</td>\n",
       "    </tr>\n",
       "    <tr>\n",
       "      <th>IAP</th>\n",
       "      <td>you used '{} instead of {} or you assing to only part of the bus. dimension issue</td>\n",
       "    </tr>\n",
       "    <tr>\n",
       "      <th>UNTPC</th>\n",
       "      <td>you used {} instead of ''{} at bus of wreal</td>\n",
       "    </tr>\n",
       "  </tbody>\n",
       "</table>\n",
       "</div>"
      ],
      "text/plain": [
       "error code                                                                            meaning\n",
       "ICSD,ICPSD                                                               multi driver on real\n",
       "PCTM                                  packed connected to unpacked or wreal connected to wire\n",
       "VIHIOP                        real cannot be connected to inout port, even if it's wreal type\n",
       "IAP         you used '{} instead of {} or you assing to only part of the bus. dimension issue\n",
       "UNTPC                                             you used {} instead of ''{} at bus of wreal"
      ]
     },
     "execution_count": 6,
     "metadata": {},
     "output_type": "execute_result"
    }
   ],
   "source": [
    "' common errors '\n",
    "error_types=pd.DataFrame(index=['meaning'])\n",
    "error_types.index.name='error code'\n",
    "error_types['ICSD,ICPSD']='multi driver on real'\n",
    "error_types['PCTM']='packed connected to unpacked or wreal connected to wire'\n",
    "error_types['VIHIOP']=\"real cannot be connected to inout port, even if it's wreal type\"\n",
    "error_types['IAP']=\"you used '{} instead of {} or you assing to only part of the bus. dimension issue\"\n",
    "error_types['UNTPC']=\"you used {} instead of ''{} at bus of wreal\"\n",
    "error_types.T"
   ]
  },
  {
   "cell_type": "code",
   "execution_count": 7,
   "metadata": {},
   "outputs": [],
   "source": [
    "content=open(log).read()\n",
    "df=pd.Series(content.split('\\n\\n\\n')).to_frame('original')\n",
    "df['error']=df.original.str.startswith('Error')\n",
    "df['Lint']=df.original.str.startswith('Lint')\n",
    "df['stam']=1\n",
    "df.update(df.query('error').assign(stam=2)[['stam']])"
   ]
  },
  {
   "cell_type": "code",
   "execution_count": 8,
   "metadata": {},
   "outputs": [
    {
     "data": {
      "text/html": [
       "\n",
       "    <p style=\"font-size:32px; color:#cc5c00; font-family:consolas;\"> \n",
       "            <br>\n",
       "            list of compiled files\n",
       "            <br>\n",
       "            <br>\n",
       "    </p>"
      ],
      "text/plain": [
       "<IPython.core.display.HTML object>"
      ]
     },
     "metadata": {},
     "output_type": "display_data"
    }
   ],
   "source": [
    "header('list of compiled files')"
   ]
  },
  {
   "cell_type": "code",
   "execution_count": 9,
   "metadata": {
    "scrolled": false
   },
   "outputs": [
    {
     "data": {
      "text/html": [
       "<style  type=\"text/css\" >\n",
       "    #T_c5dce5f8_fe3e_11ea_89e2_5cb901894748row0_col0 {\n",
       "            text-align:  left;\n",
       "        }    #T_c5dce5f8_fe3e_11ea_89e2_5cb901894748row1_col0 {\n",
       "            text-align:  left;\n",
       "        }    #T_c5dce5f8_fe3e_11ea_89e2_5cb901894748row2_col0 {\n",
       "            text-align:  left;\n",
       "        }    #T_c5dce5f8_fe3e_11ea_89e2_5cb901894748row3_col0 {\n",
       "            text-align:  left;\n",
       "        }    #T_c5dce5f8_fe3e_11ea_89e2_5cb901894748row4_col0 {\n",
       "            text-align:  left;\n",
       "        }    #T_c5dce5f8_fe3e_11ea_89e2_5cb901894748row5_col0 {\n",
       "            text-align:  left;\n",
       "        }    #T_c5dce5f8_fe3e_11ea_89e2_5cb901894748row6_col0 {\n",
       "            text-align:  left;\n",
       "        }    #T_c5dce5f8_fe3e_11ea_89e2_5cb901894748row7_col0 {\n",
       "            text-align:  left;\n",
       "        }    #T_c5dce5f8_fe3e_11ea_89e2_5cb901894748row8_col0 {\n",
       "            text-align:  left;\n",
       "        }    #T_c5dce5f8_fe3e_11ea_89e2_5cb901894748row9_col0 {\n",
       "            text-align:  left;\n",
       "        }</style><table id=\"T_c5dce5f8_fe3e_11ea_89e2_5cb901894748\" ><thead>    <tr>        <th class=\"blank level0\" ></th>        <th class=\"col_heading level0 col0\" >file_path</th>    </tr>    <tr>        <th class=\"index_name level0\" >module_name</th>        <th class=\"blank\" ></th>    </tr></thead><tbody>\n",
       "                <tr>\n",
       "                        <th id=\"T_c5dce5f8_fe3e_11ea_89e2_5cb901894748level0_row0\" class=\"row_heading level0 row0\" >snps_msv_nettype_pkg</th>\n",
       "                        <td id=\"T_c5dce5f8_fe3e_11ea_89e2_5cb901894748row0_col0\" class=\"data row0 col0\" >/p/hdk/cad/vcsmx/P-2019.06-SP2-3/etc/snps_msv/snps_msv_nettype_pkg.svp</td>\n",
       "            </tr>\n",
       "            <tr>\n",
       "                        <th id=\"T_c5dce5f8_fe3e_11ea_89e2_5cb901894748level0_row1\" class=\"row_heading level0 row1\" >importing_wrealsum</th>\n",
       "                        <td id=\"T_c5dce5f8_fe3e_11ea_89e2_5cb901894748row1_col0\" class=\"data row1 col0\" >/nfs/iil/disks/hdk_ws/ckt/lisrael1/lior_dir/bmods_development/flc/1p1//extra_bmods/importing_wrealsum.v</td>\n",
       "            </tr>\n",
       "            <tr>\n",
       "                        <th id=\"T_c5dce5f8_fe3e_11ea_89e2_5cb901894748level0_row2\" class=\"row_heading level0 row2\" >msv_buffer_delay</th>\n",
       "                        <td id=\"T_c5dce5f8_fe3e_11ea_89e2_5cb901894748row2_col0\" class=\"data row2 col0\" >/nfs/iil/disks/hdk_ws/ckt/lisrael1/lior_dir/bmods_development/flc/1p1//extra_bmods/msv_buffer_delay.sv</td>\n",
       "            </tr>\n",
       "            <tr>\n",
       "                        <th id=\"T_c5dce5f8_fe3e_11ea_89e2_5cb901894748level0_row3\" class=\"row_heading level0 row3\" >msv_clock_freq_multipy</th>\n",
       "                        <td id=\"T_c5dce5f8_fe3e_11ea_89e2_5cb901894748row3_col0\" class=\"data row3 col0\" >/nfs/iil/disks/hdk_ws/ckt/lisrael1/lior_dir/bmods_development/flc/1p1//extra_bmods/msv_clock_freq_multipy.sv</td>\n",
       "            </tr>\n",
       "            <tr>\n",
       "                        <th id=\"T_c5dce5f8_fe3e_11ea_89e2_5cb901894748level0_row4\" class=\"row_heading level0 row4\" >msv_gain_with_common</th>\n",
       "                        <td id=\"T_c5dce5f8_fe3e_11ea_89e2_5cb901894748row4_col0\" class=\"data row4 col0\" >/nfs/iil/disks/hdk_ws/ckt/lisrael1/lior_dir/bmods_development/flc/1p1//extra_bmods/msv_gain_with_common.sv</td>\n",
       "            </tr>\n",
       "            <tr>\n",
       "                        <th id=\"T_c5dce5f8_fe3e_11ea_89e2_5cb901894748level0_row5\" class=\"row_heading level0 row5\" >msv_phase_delay_two_clocks</th>\n",
       "                        <td id=\"T_c5dce5f8_fe3e_11ea_89e2_5cb901894748row5_col0\" class=\"data row5 col0\" >/nfs/iil/disks/hdk_ws/ckt/lisrael1/lior_dir/bmods_development/flc/1p1//extra_bmods/msv_phase_delay_two_clocks.sv</td>\n",
       "            </tr>\n",
       "            <tr>\n",
       "                        <th id=\"T_c5dce5f8_fe3e_11ea_89e2_5cb901894748level0_row6\" class=\"row_heading level0 row6\" >msv_phases_splitter</th>\n",
       "                        <td id=\"T_c5dce5f8_fe3e_11ea_89e2_5cb901894748row6_col0\" class=\"data row6 col0\" >/nfs/iil/disks/hdk_ws/ckt/lisrael1/lior_dir/bmods_development/flc/1p1//extra_bmods/msv_phases_splitter.sv</td>\n",
       "            </tr>\n",
       "            <tr>\n",
       "                        <th id=\"T_c5dce5f8_fe3e_11ea_89e2_5cb901894748level0_row7\" class=\"row_heading level0 row7\" >msv_rc_filter</th>\n",
       "                        <td id=\"T_c5dce5f8_fe3e_11ea_89e2_5cb901894748row7_col0\" class=\"data row7 col0\" >/nfs/iil/disks/hdk_ws/ckt/lisrael1/lior_dir/bmods_development/flc/1p1//extra_bmods/msv_rc_filter.sv</td>\n",
       "            </tr>\n",
       "            <tr>\n",
       "                        <th id=\"T_c5dce5f8_fe3e_11ea_89e2_5cb901894748level0_row8\" class=\"row_heading level0 row8\" >msv_serializer</th>\n",
       "                        <td id=\"T_c5dce5f8_fe3e_11ea_89e2_5cb901894748row8_col0\" class=\"data row8 col0\" >/nfs/iil/disks/hdk_ws/ckt/lisrael1/lior_dir/bmods_development/flc/1p1//extra_bmods/msv_serializer.sv</td>\n",
       "            </tr>\n",
       "            <tr>\n",
       "                        <th id=\"T_c5dce5f8_fe3e_11ea_89e2_5cb901894748level0_row9\" class=\"row_heading level0 row9\" >msv_th_by_exp</th>\n",
       "                        <td id=\"T_c5dce5f8_fe3e_11ea_89e2_5cb901894748row9_col0\" class=\"data row9 col0\" >/nfs/iil/disks/hdk_ws/ckt/lisrael1/lior_dir/bmods_development/flc/1p1//extra_bmods/msv_th_by_exp.sv</td>\n",
       "            </tr>\n",
       "    </tbody></table>"
      ],
      "text/plain": [
       "<pandas.io.formats.style.Styler at 0x2aaabea9be80>"
      ]
     },
     "metadata": {},
     "output_type": "display_data"
    },
    {
     "name": "stdout",
     "output_type": "stream",
     "text": [
      "you have 601 files\n",
      "\t /nfs/iil/disks/ams_regruns/dkl/users/lisrael1/msv/temp_del/verilog_tmp/compiled_files.csv\n",
      "\t \\\\isamba.iil.intel.com\\nfs\\iil\\disks\\ams_regruns\\dkl\\users\\lisrael1\\msv\\temp_del\\verilog_tmp\\compiled_files.csv\n"
     ]
    }
   ],
   "source": [
    "' note that if you have multiple files at the same name, it will take the first one, even if you have ifdef that takes the second one... '\n",
    "files=pd.Series(content.split('Top Level Modules')[0].split('\\n')).str.extract(\"Parsing design file '(?P<file_path>[^']+)'\").dropna().reset_index(drop=True)\n",
    "files['module_name']=files.file_path.str.rsplit('/',1).str[-1].str.rsplit('.',1).str[0]\n",
    "files=files.drop_duplicates('module_name', keep='first')\n",
    "display(files.set_index('module_name').head(10).style.set_properties(**{'text-align': 'left'}))\n",
    "print('you have %d files'%files.shape[0])\n",
    "print_linux_windows_path(output_directory+\"compiled_files.csv\")\n",
    "files.to_csv(output_directory+'compiled_files.csv')"
   ]
  },
  {
   "cell_type": "code",
   "execution_count": 10,
   "metadata": {},
   "outputs": [
    {
     "data": {
      "text/html": [
       "\n",
       "    <p style=\"font-size:32px; color:#cc5c00; font-family:consolas;\"> \n",
       "            <br>\n",
       "            multi driver that need to be changed to wreal\n",
       "            <br>\n",
       "            <br>\n",
       "    </p>"
      ],
      "text/plain": [
       "<IPython.core.display.HTML object>"
      ]
     },
     "metadata": {},
     "output_type": "display_data"
    }
   ],
   "source": [
    "header('multi driver that need to be changed to wreal')"
   ]
  },
  {
   "cell_type": "code",
   "execution_count": 11,
   "metadata": {
    "scrolled": false
   },
   "outputs": [
    {
     "name": "stdout",
     "output_type": "stream",
     "text": [
      "no multi driver issue\n"
     ]
    }
   ],
   "source": [
    "error_multidriver_pattern = r'Variable \"(?P<multidriven_name>\\w+)\" is driven by multiple structural drivers.*This variable is declared at \"(?P<file_path>[^\"]+)\"'.replace(' ','\\s+')\n",
    "\n",
    "multidriven=df.query('error').original.str.replace('\\n',' ').str.extract(error_multidriver_pattern).drop_duplicates().reset_index(drop=True)\n",
    "multidriven['content']=\"var real \"+multidriven.multidriven_name\n",
    "if not multidriven.dropna().empty:\n",
    "    display(multidriven.dropna().head(1).T)\n",
    "    multidriven.to_csv(output_directory+'multi_drivers.csv')\n",
    "    print_linux_windows_path(output_directory+\"multi_drivers.csv\")\n",
    "else:\n",
    "    print('no multi driver issue')"
   ]
  },
  {
   "cell_type": "code",
   "execution_count": 12,
   "metadata": {
    "scrolled": false
   },
   "outputs": [],
   "source": [
    "# dcmon=wreal.dropna().query('wreal_name.str.contains(\"dcmon\")')  # ' automatically change to wreal at dcmon '\n",
    "command=\"sed -ri 's=\"+multidriven.dropna().content.replace(r'var ',r'(var\\s*|)',regex=True).replace(' ','\\s+',regex=True)+\"=\"+multidriven.dropna().content.replace('var real ',' wreal ', regex=True)+\"=' \"+multidriven.dropna().file_path\n",
    "command=command.unique()\n",
    "number_of_replacments=command.shape\n",
    "command=\"\\n\".join(command.tolist())\n",
    "command_output=output_directory+'multidriven_to_wreal.sh'\n",
    "f=open(command_output, 'w')\n",
    "f.write(command)\n",
    "f.close()\n",
    "!chmod o+r $command_output\n",
    "if not multidriven.dropna().empty:\n",
    "    print('now run\\n\\tbash '+command_output)\n",
    "    print('%d replacments'%number_of_replacments)"
   ]
  },
  {
   "cell_type": "code",
   "execution_count": 13,
   "metadata": {},
   "outputs": [
    {
     "data": {
      "text/html": [
       "\n",
       "    <p style=\"font-size:32px; color:#cc5c00; font-family:consolas;\"> \n",
       "            <br>\n",
       "            error on real bus connected to wire bus<br>or wreal connected to others\n",
       "            <br>\n",
       "            <br>\n",
       "    </p>"
      ],
      "text/plain": [
       "<IPython.core.display.HTML object>"
      ]
     },
     "metadata": {},
     "output_type": "display_data"
    }
   ],
   "source": [
    "header('error on real bus connected to wire bus<br>or wreal connected to others')"
   ]
  },
  {
   "cell_type": "code",
   "execution_count": 14,
   "metadata": {},
   "outputs": [],
   "source": [
    "errors_types_ignore='''\n",
    "\n",
    "Expression is the local net and Port is for remote net\n",
    "\n",
    "for changing local net you will get:\n",
    "    Error-[PCTM] Port connection type mismatch\n",
    "    /nfs/iil/disks/hdk_ws/ckt/lisrael1/lior_dir/bmods_development/brk_gen2/4.brk_gen2_0p8/2.propagating_reals/ipn5adcsararrayshr_channel_dfx_sw.v, 61\n",
    "    \"ipn5anashr_dc_svt_6n_pull_vref vref_sw_sararray_p( .sig (i_sararray_dcmon_p),  .comp_en (i_sararray_comp_p_en),  .dcmon_en (i_sararray_dcmon_p_en),  .vcc_i (vcc0p9_lv),  .vref_inp (verf),  .vssx (vssx));\"\n",
    "      The following expression is illegally connected to port \"sig\" of module \n",
    "      \"ipn5anashr_dc_svt_6n_pull_vref\", instance \"vref_sw_sararray_p\". The type of\n",
    "      the port does not match that of the port connect.\n",
    "        Expression:  wire i_sararray_dcmon_p;\n",
    "        Declared at: \n",
    "      \"/nfs/iil/disks/hdk_ws/ckt/lisrael1/lior_dir/bmods_development/brk_gen2/4.brk_gen2_0p8/2.propagating_reals/ipn5adcsararrayshr_channel_dfx_sw.v\",\n",
    "      29\n",
    "        Port:        wrealsum sig;\n",
    "        Declared at: \n",
    "      \"/nfs/iil/disks/hdk_ws/ckt/lisrael1/lior_dir/bmods_development/brk_gen2/4.brk_gen2_0p8/2.propagating_reals/ipn5anashr_dc_svt_6n_pull_vref.sv\",\n",
    "      9\n",
    "      Port connections with one nettype end require matching types.\n",
    "    \n",
    "for changing remote net you will get:\n",
    "    Error-[PCTM] Port connection type mismatch\n",
    "    /nfs/iil/disks/hdk_ws/ckt/lisrael1/lior_dir/bmods_development/brk_gen2/4.brk_gen2_0p8/2.propagating_reals/ipn5adcrefgenshr_mux_res_dfx.v, 100\n",
    "    \"ipn5adcrefgenshr_mux slc2_q3_qrt3( .dcmon_vout_n (dcmon_out1),  .dcmon_vout_p (dcmon_out2),  .vout_n (vofc_q1q3s1s2sl2sl5_n[3]),  .vout_p (vofc_q1q3s1s2sl2sl5_p[3]),  .addr (reg11_addr[31:24]),  .dcmon_sel_vout_n (dcmon_out_sel[0]),  .dcmon_sel_vout_p (dcmon_out_sel[0]),  .res_high (vres_high),  .res_low (vres_low),  .res_vcm (vcm_out),  .vcca (vcc0p9),  .vssx (vssx));\"\n",
    "      The following expression is illegally connected to port \"vout_n\" of module \n",
    "      \"ipn5adcrefgenshr_mux\", instance \"slc2_q3_qrt3\". The type of the port does \n",
    "      not match that of the port connect.\n",
    "        Expression:  vofc_q1q3s1s2sl2sl5_n[3]\n",
    "        Port:        wire vout_n;\n",
    "        Declared at: \n",
    "      \"/nfs/iil/disks/hdk_ws/ckt/lisrael1/lior_dir/bmods_development/brk_gen2/4.brk_gen2_0p8/2.propagating_reals/ipn5adcrefgenshr_mux.v\",\n",
    "      10\n",
    "      Nettype nets cannot be connected to builtin net types.\n",
    "    \n",
    "another remote pattern that is like local pattern:\n",
    "    Error-[PCTM] Port connection type mismatch\n",
    "    /nfs/iil/disks/hdk_ws/ckt/lisrael1/lior_dir/bmods_development/brk_gen2/4.brk_gen2_0p8/2.propagating_reals/ipn5brk2adctop_adc_top.v, 952\n",
    "    \"ipn5anashr_dec_adc_channel_top channel_decoder( .add_domain_dis0 (channel_decoder_add_domain_dis0),  .add_domain_dis1 (channel_decoder_add_domain_dis1),  .div_readsel (div_readsel),  .div_strb (div_strb),  .ffe_strb_all_in (channel_decoder_ffe_strb_all_in),  .o_adcfe_read_data (channel_decoder_o_adcfe_read_data),  .o_add_ffe (channel_decoder_o_add_ffe),  .o_add_out_to_rx (o_adc_add),  .o_add_pi_prebuff (channel_decoder_o_add_pi_prebuff),  .o_channel_comp_n (o_adc_compmon_n),  .o_channel_comp_p (o_adc_compmon_p),  .o_channel_dcmon_n (o_adc_adcfe_dcmon_n),  .o_channel_dcmon_p (o_adc_adcfe_dcmon_p),  .o_dig_spare_to_sar (channel_decoder_o_dig_spare_to_sar),  .o_div_rstb (div_rstb),  .o_div_write_data (div_write_data),  .o_hsmon_local (o_adc_hsmon_local),   ... \"\n",
    "      The following expression is illegally connected to port \n",
    "      \"i_sar_array_comp_n_dfx\" of module \"ipn5anashr_dec_adc_channel_top\", \n",
    "      instance \"channel_decoder\". The type of the port does not match that of the \n",
    "      port connect.\n",
    "        Expression:  wrealsum sar_array_o_sar_array_comp_n_dfx;\n",
    "        Declared at: \n",
    "      \"/nfs/iil/disks/hdk_ws/ckt/lisrael1/lior_dir/bmods_development/brk_gen2/4.brk_gen2_0p8/2.propagating_reals/ipn5brk2adctop_adc_top.v\",\n",
    "      215\n",
    "        Port:        wire i_sar_array_comp_n_dfx;\n",
    "        Declared at: \n",
    "      \"/nfs/iil/disks/hdk_ws/ckt/lisrael1/lior_dir/bmods_development/brk_gen2/4.brk_gen2_0p8/2.propagating_reals/ipn5anashr_dec_adc_channel_top.v\",\n",
    "      58\n",
    "      Nettype nets cannot be connected to builtin net types.\n",
    "      \n",
    "issues that you have with the remote:\n",
    "    you dont have the declared at the local file. you dont need this but you cannot have the same pattern as local pattern\n",
    "    the bus size may be only part of it\n",
    "    you dont have the type of the local one \n",
    "\n",
    "'''"
   ]
  },
  {
   "cell_type": "code",
   "execution_count": 15,
   "metadata": {},
   "outputs": [
    {
     "data": {
      "text/html": [
       "<div>\n",
       "<style scoped>\n",
       "    .dataframe tbody tr th:only-of-type {\n",
       "        vertical-align: middle;\n",
       "    }\n",
       "\n",
       "    .dataframe tbody tr th {\n",
       "        vertical-align: top;\n",
       "    }\n",
       "\n",
       "    .dataframe thead th {\n",
       "        text-align: right;\n",
       "    }\n",
       "</style>\n",
       "<table border=\"1\" class=\"dataframe\">\n",
       "  <thead>\n",
       "    <tr style=\"text-align: right;\">\n",
       "      <th></th>\n",
       "      <th>file_path</th>\n",
       "      <th>local_bus_expression</th>\n",
       "      <th>local_file_path</th>\n",
       "      <th>local_file_declared_line</th>\n",
       "      <th>remote_bus_expression</th>\n",
       "      <th>remote_file_path</th>\n",
       "      <th>remote_file_declared_line</th>\n",
       "      <th>local_bus_type</th>\n",
       "      <th>remote_bus_type</th>\n",
       "      <th>local_net_name</th>\n",
       "      <th>remote_net_name</th>\n",
       "      <th>local_bus_shape</th>\n",
       "      <th>remote_bus_shape</th>\n",
       "      <th>change_remote_or_local</th>\n",
       "      <th>line_to_update</th>\n",
       "    </tr>\n",
       "  </thead>\n",
       "  <tbody>\n",
       "    <tr>\n",
       "      <th>9</th>\n",
       "      <td>/nfs/iil/disks/hdk_ws/ckt/lisrael1/lior_dir/bmods_development/flc/1p1//3.fixing_reals/ipn5flctc2rx_top.v</td>\n",
       "      <td>wrealsum pr_dc_odac_in100u</td>\n",
       "      <td>/nfs/iil/disks/hdk_ws/ckt/lisrael1/lior_dir/bmods_development/flc/1p1//3.fixing_reals/ipn5flctc2rx_top.v</td>\n",
       "      <td>366</td>\n",
       "      <td>wire pr_dc_odac_in100ua</td>\n",
       "      <td>/nfs/iil/disks/hdk_ws/ckt/lisrael1/lior_dir/bmods_development/flc/1p1//3.fixing_reals/ipn5flctc2adctop_adc_top.v</td>\n",
       "      <td>148</td>\n",
       "      <td>wrealsum</td>\n",
       "      <td>wire</td>\n",
       "      <td>pr_dc_odac_in100u</td>\n",
       "      <td>pr_dc_odac_in100ua</td>\n",
       "      <td></td>\n",
       "      <td></td>\n",
       "      <td>remote</td>\n",
       "      <td>148</td>\n",
       "    </tr>\n",
       "    <tr>\n",
       "      <th>16</th>\n",
       "      <td>/nfs/iil/disks/hdk_ws/ckt/lisrael1/lior_dir/bmods_development/flc/1p1//3.fixing_reals/ipn5flctc2adcnsf_instage_dc_top.v</td>\n",
       "      <td>real pr0_iodac[1:0]</td>\n",
       "      <td>/nfs/iil/disks/hdk_ws/ckt/lisrael1/lior_dir/bmods_development/flc/1p1//3.fixing_reals/ipn5flctc2adcnsf_instage_dc_top.v</td>\n",
       "      <td>11</td>\n",
       "      <td>wire [1:0] pr0_iodac</td>\n",
       "      <td>/nfs/iil/disks/hdk_ws/ckt/lisrael1/lior_dir/bmods_development/flc/1p1//3.fixing_reals/ipn5flctc2adcnsf_instage_dc.v</td>\n",
       "      <td>10</td>\n",
       "      <td>real</td>\n",
       "      <td>wire</td>\n",
       "      <td>pr0_iodac</td>\n",
       "      <td>pr0_iodac</td>\n",
       "      <td>[1:0]</td>\n",
       "      <td>[1:0]</td>\n",
       "      <td>remote</td>\n",
       "      <td>10</td>\n",
       "    </tr>\n",
       "    <tr>\n",
       "      <th>17</th>\n",
       "      <td>/nfs/iil/disks/hdk_ws/ckt/lisrael1/lior_dir/bmods_development/flc/1p1//3.fixing_reals/ipn5flctc2adcnsf_instage_dc_top.v</td>\n",
       "      <td>real pr1_iodac[1:0]</td>\n",
       "      <td>/nfs/iil/disks/hdk_ws/ckt/lisrael1/lior_dir/bmods_development/flc/1p1//3.fixing_reals/ipn5flctc2adcnsf_instage_dc_top.v</td>\n",
       "      <td>14</td>\n",
       "      <td>wire [1:0] pr1_iodac</td>\n",
       "      <td>/nfs/iil/disks/hdk_ws/ckt/lisrael1/lior_dir/bmods_development/flc/1p1//3.fixing_reals/ipn5flctc2adcnsf_instage_dc.v</td>\n",
       "      <td>13</td>\n",
       "      <td>real</td>\n",
       "      <td>wire</td>\n",
       "      <td>pr1_iodac</td>\n",
       "      <td>pr1_iodac</td>\n",
       "      <td>[1:0]</td>\n",
       "      <td>[1:0]</td>\n",
       "      <td>remote</td>\n",
       "      <td>13</td>\n",
       "    </tr>\n",
       "    <tr>\n",
       "      <th>18</th>\n",
       "      <td>/nfs/iil/disks/hdk_ws/ckt/lisrael1/lior_dir/bmods_development/flc/1p1//3.fixing_reals/ipn5flctc2adcnsf_instage_dc_top.v</td>\n",
       "      <td>real pr2_iodac[1:0]</td>\n",
       "      <td>/nfs/iil/disks/hdk_ws/ckt/lisrael1/lior_dir/bmods_development/flc/1p1//3.fixing_reals/ipn5flctc2adcnsf_instage_dc_top.v</td>\n",
       "      <td>17</td>\n",
       "      <td>wire [1:0] pr2_iodac</td>\n",
       "      <td>/nfs/iil/disks/hdk_ws/ckt/lisrael1/lior_dir/bmods_development/flc/1p1//3.fixing_reals/ipn5flctc2adcnsf_instage_dc.v</td>\n",
       "      <td>16</td>\n",
       "      <td>real</td>\n",
       "      <td>wire</td>\n",
       "      <td>pr2_iodac</td>\n",
       "      <td>pr2_iodac</td>\n",
       "      <td>[1:0]</td>\n",
       "      <td>[1:0]</td>\n",
       "      <td>remote</td>\n",
       "      <td>16</td>\n",
       "    </tr>\n",
       "    <tr>\n",
       "      <th>19</th>\n",
       "      <td>/nfs/iil/disks/hdk_ws/ckt/lisrael1/lior_dir/bmods_development/flc/1p1//3.fixing_reals/ipn5flctc2adcnsf_instage_dc_top.v</td>\n",
       "      <td>real pr3_iodac[1:0]</td>\n",
       "      <td>/nfs/iil/disks/hdk_ws/ckt/lisrael1/lior_dir/bmods_development/flc/1p1//3.fixing_reals/ipn5flctc2adcnsf_instage_dc_top.v</td>\n",
       "      <td>20</td>\n",
       "      <td>wire [1:0] pr3_iodac</td>\n",
       "      <td>/nfs/iil/disks/hdk_ws/ckt/lisrael1/lior_dir/bmods_development/flc/1p1//3.fixing_reals/ipn5flctc2adcnsf_instage_dc.v</td>\n",
       "      <td>19</td>\n",
       "      <td>real</td>\n",
       "      <td>wire</td>\n",
       "      <td>pr3_iodac</td>\n",
       "      <td>pr3_iodac</td>\n",
       "      <td>[1:0]</td>\n",
       "      <td>[1:0]</td>\n",
       "      <td>remote</td>\n",
       "      <td>19</td>\n",
       "    </tr>\n",
       "    <tr>\n",
       "      <th>20</th>\n",
       "      <td>/nfs/iil/disks/hdk_ws/ckt/lisrael1/lior_dir/bmods_development/flc/1p1//3.fixing_reals/ipn5flctc2v1adcclkgen_divtop.v</td>\n",
       "      <td>wrealsum o_adc_top_dcmon_p</td>\n",
       "      <td>/nfs/iil/disks/hdk_ws/ckt/lisrael1/lior_dir/bmods_development/flc/1p1//3.fixing_reals/ipn5flctc2v1adcclkgen_divtop.v</td>\n",
       "      <td>15</td>\n",
       "      <td>wire o_adc_top_dcmon_p</td>\n",
       "      <td>/nfs/iil/disks/hdk_ws/ckt/lisrael1/lior_dir/bmods_development/flc/1p1//3.fixing_reals/ipn5flctc2v1adcclkgen_clk_path.v</td>\n",
       "      <td>22</td>\n",
       "      <td>wrealsum</td>\n",
       "      <td>wire</td>\n",
       "      <td>o_adc_top_dcmon_p</td>\n",
       "      <td>o_adc_top_dcmon_p</td>\n",
       "      <td></td>\n",
       "      <td></td>\n",
       "      <td>remote</td>\n",
       "      <td>22</td>\n",
       "    </tr>\n",
       "  </tbody>\n",
       "</table>\n",
       "</div>"
      ],
      "text/plain": [
       "                                                                                                                  file_path        local_bus_expression                                                                                                          local_file_path local_file_declared_line    remote_bus_expression                                                                                                        remote_file_path remote_file_declared_line local_bus_type remote_bus_type     local_net_name     remote_net_name local_bus_shape remote_bus_shape change_remote_or_local line_to_update\n",
       "9                  /nfs/iil/disks/hdk_ws/ckt/lisrael1/lior_dir/bmods_development/flc/1p1//3.fixing_reals/ipn5flctc2rx_top.v  wrealsum pr_dc_odac_in100u                 /nfs/iil/disks/hdk_ws/ckt/lisrael1/lior_dir/bmods_development/flc/1p1//3.fixing_reals/ipn5flctc2rx_top.v                      366  wire pr_dc_odac_in100ua        /nfs/iil/disks/hdk_ws/ckt/lisrael1/lior_dir/bmods_development/flc/1p1//3.fixing_reals/ipn5flctc2adctop_adc_top.v                       148       wrealsum            wire  pr_dc_odac_in100u  pr_dc_odac_in100ua                                                  remote            148\n",
       "16  /nfs/iil/disks/hdk_ws/ckt/lisrael1/lior_dir/bmods_development/flc/1p1//3.fixing_reals/ipn5flctc2adcnsf_instage_dc_top.v         real pr0_iodac[1:0]  /nfs/iil/disks/hdk_ws/ckt/lisrael1/lior_dir/bmods_development/flc/1p1//3.fixing_reals/ipn5flctc2adcnsf_instage_dc_top.v                       11     wire [1:0] pr0_iodac     /nfs/iil/disks/hdk_ws/ckt/lisrael1/lior_dir/bmods_development/flc/1p1//3.fixing_reals/ipn5flctc2adcnsf_instage_dc.v                        10           real            wire          pr0_iodac           pr0_iodac           [1:0]            [1:0]                 remote             10\n",
       "17  /nfs/iil/disks/hdk_ws/ckt/lisrael1/lior_dir/bmods_development/flc/1p1//3.fixing_reals/ipn5flctc2adcnsf_instage_dc_top.v         real pr1_iodac[1:0]  /nfs/iil/disks/hdk_ws/ckt/lisrael1/lior_dir/bmods_development/flc/1p1//3.fixing_reals/ipn5flctc2adcnsf_instage_dc_top.v                       14     wire [1:0] pr1_iodac     /nfs/iil/disks/hdk_ws/ckt/lisrael1/lior_dir/bmods_development/flc/1p1//3.fixing_reals/ipn5flctc2adcnsf_instage_dc.v                        13           real            wire          pr1_iodac           pr1_iodac           [1:0]            [1:0]                 remote             13\n",
       "18  /nfs/iil/disks/hdk_ws/ckt/lisrael1/lior_dir/bmods_development/flc/1p1//3.fixing_reals/ipn5flctc2adcnsf_instage_dc_top.v         real pr2_iodac[1:0]  /nfs/iil/disks/hdk_ws/ckt/lisrael1/lior_dir/bmods_development/flc/1p1//3.fixing_reals/ipn5flctc2adcnsf_instage_dc_top.v                       17     wire [1:0] pr2_iodac     /nfs/iil/disks/hdk_ws/ckt/lisrael1/lior_dir/bmods_development/flc/1p1//3.fixing_reals/ipn5flctc2adcnsf_instage_dc.v                        16           real            wire          pr2_iodac           pr2_iodac           [1:0]            [1:0]                 remote             16\n",
       "19  /nfs/iil/disks/hdk_ws/ckt/lisrael1/lior_dir/bmods_development/flc/1p1//3.fixing_reals/ipn5flctc2adcnsf_instage_dc_top.v         real pr3_iodac[1:0]  /nfs/iil/disks/hdk_ws/ckt/lisrael1/lior_dir/bmods_development/flc/1p1//3.fixing_reals/ipn5flctc2adcnsf_instage_dc_top.v                       20     wire [1:0] pr3_iodac     /nfs/iil/disks/hdk_ws/ckt/lisrael1/lior_dir/bmods_development/flc/1p1//3.fixing_reals/ipn5flctc2adcnsf_instage_dc.v                        19           real            wire          pr3_iodac           pr3_iodac           [1:0]            [1:0]                 remote             19\n",
       "20     /nfs/iil/disks/hdk_ws/ckt/lisrael1/lior_dir/bmods_development/flc/1p1//3.fixing_reals/ipn5flctc2v1adcclkgen_divtop.v  wrealsum o_adc_top_dcmon_p     /nfs/iil/disks/hdk_ws/ckt/lisrael1/lior_dir/bmods_development/flc/1p1//3.fixing_reals/ipn5flctc2v1adcclkgen_divtop.v                       15   wire o_adc_top_dcmon_p  /nfs/iil/disks/hdk_ws/ckt/lisrael1/lior_dir/bmods_development/flc/1p1//3.fixing_reals/ipn5flctc2v1adcclkgen_clk_path.v                        22       wrealsum            wire  o_adc_top_dcmon_p   o_adc_top_dcmon_p                                                  remote             22"
      ]
     },
     "execution_count": 15,
     "metadata": {},
     "output_type": "execute_result"
    }
   ],
   "source": [
    "error_bus_pattern = r'Error-\\[PCTM\\] Port connection type mismatch (?P<file_path>[^,]+).*Expression: (?P<local_bus_expression>[^;]+); Declared at: \"(?P<local_file_path>[^\"]+)\", (?P<local_file_declared_line>\\d+).* Port: (?P<remote_bus_expression>[^;]+); Declared at: \"(?P<remote_file_path>[^\"]+)\", (?P<remote_file_declared_line>\\d+)'.replace(' ','\\s*')\n",
    "\n",
    "local_bad_type=df.query('error').original.str.replace('\\n',' ').str.extract(error_bus_pattern).drop_duplicates().dropna().reset_index(drop=True)\n",
    "local_bad_type['local_bus_type']=local_bad_type.local_bus_expression.str.split(' ').str[0]\n",
    "local_bad_type['remote_bus_type']=local_bad_type.remote_bus_expression.str.split(' ').str[0]\n",
    "local_bad_type['local_net_name']=local_bad_type.local_bus_expression.str.replace('\\[\\d+:\\d+\\]','').str.split(' ').str[-1]\n",
    "local_bad_type['remote_net_name']=local_bad_type.remote_bus_expression.str.replace('\\[\\d+:\\d+\\]','').str.split(' ').str[-1]\n",
    "local_bad_type['local_bus_shape']=local_bad_type.local_bus_expression.str.extract('(?P<bus_shape>\\[[\\d:]+\\])').bus_shape.fillna(\"\")\n",
    "local_bad_type['remote_bus_shape']=local_bad_type.remote_bus_expression.str.extract('(?P<bus_shape>\\[[\\d:]+\\])').bus_shape.fillna(\"\")\n",
    "\n",
    "remote1_bad_type=local_bad_type.query('remote_bus_type==\"wire\"')\n",
    "local_bad_type=local_bad_type.query('remote_bus_type!=\"wire\"')\n",
    "\n",
    "local_bad_type['change_remote_or_local']='local'\n",
    "local_bad_type['line_to_update']=local_bad_type.local_file_declared_line\n",
    "\n",
    "remote1_bad_type['change_remote_or_local']='remote'\n",
    "remote1_bad_type['line_to_update']=remote1_bad_type.remote_file_declared_line\n",
    "remote1_bad_type\n"
   ]
  },
  {
   "cell_type": "code",
   "execution_count": 16,
   "metadata": {},
   "outputs": [],
   "source": [
    "error_bus_pattern = r'Error-\\[PCTM\\] Port connection type mismatch (?P<local_file_path>[^,]+).*Expression: (?P<local_bus_expression>[^PD\\t]+) .* Port: (?P<remote_bus_expression>[^;]+); Declared at: \"(?P<remote_file_path>[^\"]+)\", (?P<remote_file_declared_line>\\d+)'.replace(' ','\\s*')\n",
    "\n",
    "remote_bad_type=df.query('error').original.str.replace('\\n',' ').str.extract(error_bus_pattern).drop_duplicates().dropna().reset_index(drop=True)\n",
    "remote_bad_type=remote_bad_type.query('not local_bus_expression.str.contains(\";\")', engine='python')  # at the patterm we also catching the local_bad_type, so this way we remove them\n",
    "\n",
    "remote_bad_type['local_bus_type']=remote_bad_type.local_bus_expression.str.split(' ').str[0]\n",
    "remote_bad_type.local_bus_type=np.where(remote_bad_type.local_bus_type.str.contains('\\['),'real',remote_bad_type.local_bus_type)\n",
    "remote_bad_type['remote_bus_type']=remote_bad_type.remote_bus_expression.str.split(' ').str[0]\n",
    "remote_bad_type['local_net_name']=remote_bad_type.local_bus_expression.str.replace('\\[\\d+:\\d+\\]','').str.split(' ').str[-1]\n",
    "remote_bad_type['remote_net_name']=remote_bad_type.remote_bus_expression.str.replace('\\[\\d+:\\d+\\]','').str.split(' ').str[-1]\n",
    "\n",
    "remote_bad_type['local_bus_shape']=remote_bad_type.local_bus_expression.str.extract('(?P<bus_shape>\\[[\\d:]+\\])').bus_shape.fillna(\"\")\n",
    "remote_bad_type.local_bus_shape=np.where(remote_bad_type.local_bus_shape.str.contains(':'),remote_bad_type.local_bus_shape,\"\")\n",
    "\n",
    "remote_bad_type['remote_bus_shape']=remote_bad_type.remote_bus_expression.str.extract('(?P<bus_shape>\\[[\\d:]+\\])').bus_shape.fillna(\"\")\n",
    "remote_bad_type['change_remote_or_local']='remote'\n",
    "remote_bad_type['line_to_update']=remote_bad_type.remote_file_declared_line\n",
    "\n",
    "# remote_bad_type.loc[remote_bad_type.local_bus_type=='wire','command']=remote_bad_type.apply(lambda r:r'''sed -ri 's@(wire)?\\s*{local_bus_shape}\\s*{local_net_name}@{remote_bus_type} {local_net_name}{local_bus_shape}@' '{local_file_path}' '''.format(**r), axis=1)\n",
    "# remote_bad_type.iloc[[1,-1]].drop(['local_file_path','remote_file_path'], axis=1).T"
   ]
  },
  {
   "cell_type": "code",
   "execution_count": 17,
   "metadata": {},
   "outputs": [
    {
     "name": "stdout",
     "output_type": "stream",
     "text": [
      "found total of 24 PCTM errors\n",
      "you have 2 errors that dosnt have wire to update (like wrealsum connected to wrealavg)\n",
      "removing from update command, you can see them at:\n",
      "\t /nfs/iil/disks/ams_regruns/dkl/users/lisrael1/msv/temp_del/verilog_tmp/non_wires_updates.csv\n",
      "\t \\\\isamba.iil.intel.com\\nfs\\iil\\disks\\ams_regruns\\dkl\\users\\lisrael1\\msv\\temp_del\\verilog_tmp\\non_wires_updates.csv\n",
      "you have 3 multi updates on the same nets. taking only 20 that are the first unique ones\n",
      "\t /nfs/iil/disks/ams_regruns/dkl/users/lisrael1/msv/temp_del/verilog_tmp/duplicated_updates_on_the_same_net.csv\n",
      "\t \\\\isamba.iil.intel.com\\nfs\\iil\\disks\\ams_regruns\\dkl\\users\\lisrael1\\msv\\temp_del\\verilog_tmp\\duplicated_updates_on_the_same_net.csv\n",
      "we left with 20 PCTM errors\n"
     ]
    }
   ],
   "source": [
    "wreal=pd.concat([remote_bad_type, remote1_bad_type, local_bad_type], axis=0, sort=False)\n",
    "\n",
    "' removing 2 updates at the same net and file (probably you have fater and son that driving 2 values)'\n",
    "# wreal['change_remote_or_local']=np.where(wreal.local_bus_type=='wire','local',np.where(wreal.remote_bus_type=='wire','remote','none'))\n",
    "wreal['file_to_update']=np.where(wreal.local_bus_type=='wire',wreal.local_file_path,np.where(wreal.remote_bus_type=='wire',wreal.remote_file_path,'none'))\n",
    "wreal['net_to_update']=np.where(wreal.local_bus_type=='wire',wreal.local_net_name,np.where(wreal.remote_bus_type=='wire',wreal.remote_net_name,'none'))\n",
    "\n",
    "print('found total of %d PCTM errors'%wreal.shape[0])\n",
    "\n",
    "if wreal.shape[0]:\n",
    "    concatenated_bus_to_replace=wreal.query('local_bus_type.str.contains(\"{\")', engine='python')\n",
    "    if concatenated_bus_to_replace.shape[0]:\n",
    "        print('removing 1 line that has concatenation as input')\n",
    "        wreal=wreal.drop(concatenated_bus_to_replace.index, axis=0)\n",
    "    non_wires_net_to_update = wreal.query('net_to_update==\"none\"')\n",
    "    if non_wires_net_to_update.shape[0]:\n",
    "        print('you have {number} errors that dosnt have wire to update (like wrealsum connected to wrealavg)'.format(number=non_wires_net_to_update.shape[0]))\n",
    "        non_wires_net_to_update.to_csv(output_directory+'non_wires_updates.csv')\n",
    "        print('removing from update command, you can see them at:')\n",
    "        print_linux_windows_path(output_directory+'non_wires_updates.csv')\n",
    "        wreal=wreal.drop(non_wires_net_to_update.index, axis=0)\n",
    "    duplicated_update_on_same_net = wreal.loc[wreal.duplicated(['file_to_update','net_to_update'], keep=False)]\n",
    "    if duplicated_update_on_same_net.shape[0]:\n",
    "        print('you have %d multi updates on the same nets. taking only %d that are the first unique ones'%(duplicated_update_on_same_net.shape[0], (~wreal.duplicated(['file_to_update','net_to_update'], keep='first')).sum()))\n",
    "        duplicated_update_on_same_net.to_csv(output_directory+'duplicated_updates_on_the_same_net.csv')\n",
    "        print_linux_windows_path(output_directory+'duplicated_updates_on_the_same_net.csv')\n",
    "        wreal=wreal.drop_duplicates(['file_to_update','net_to_update'], keep='first')\n",
    "    print('we left with %d PCTM errors'%wreal.shape[0])\n",
    "        # this one has problem if the real side is vin[8]\n",
    "    # wreal['command']=wreal.apply(lambda x:r'''sed -ri '{<local>_file_declared_line}s@((input|output|inout)\\s+)?(wire\\s+)?(logic\\s+)?{<local>_bus_shape}\\s*{<local>_net_name}@\\1{<remote>_bus_type} {<local>_net_name}{<local>_bus_shape}@' '{<local>_file_path}' '''.replace('<local>',['remote','local'][x.local_bus_type=='wire']).replace('<remote>',['local','remote'][x.local_bus_type=='wire']).format(**x), axis=1)\n",
    "#     wreal.command.replace(['wrealsum','wreal1driver','wrealavg','wreal','wrealmin','wrealmax'],'real')  # we dont want to propagate the wreal. we want to cast it to real\n",
    "#     wreal.command=wreal.command.str.replace(r'\\s*\\s*',r'\\s*', regex=False).str.replace(r'[',r'\\[',1).str.replace(r']',r'\\]',1)\n",
    "#     wreal['command']=wreal.apply(lambda x:r'''sed -ri '{line_to_update}s@((input|output|inout)\\s+)?((wire|logic|wreal|wrealsum|wreal1driver|wrealavg|var|real)\\s+)*?(\\[[\\d+:]+\\]\\s+)?{net_to_update}@\\1 real {net_to_update} \\3@' '{file_to_update}' '''.format(**x), axis=1)\n",
    "#     wreal['command']=wreal.apply(lambda x:r'''sed -ri '{line_to_update}s@(input\\b|output\\b|inout\\b)?.*(\\[[\\d+:]+\\]\\s+)?{net_to_update}@\\1 real {net_to_update} \\2@' '{file_to_update}' '''.format(**x), axis=1)\n",
    "#     wreal['command']=wreal.apply(lambda x:r'''perl '{line_to_update}s@((input|output|inout)\\s+)?.*(\\[[\\d+:]+\\]\\s+)?{net_to_update}@\\1 real {net_to_update} \\2@' '{file_to_update}' '''.format(**x), axis=1)\n",
    "#     wreal['command']=wreal.apply(lambda x:r'''sed -ri '{line_to_update}s@((input|output|inout)\\s+)?.*?(\\[[0-9:]+\\]\\s+)?{net_to_update}@\\1 real {net_to_update} \\2@' '{file_to_update}' '''.format(**x), axis=1)\n",
    "if wreal.shape[0]:\n",
    "#   wreal['command']=wreal.apply(lambda x:r'''sed -ri '{line_to_update}s@(input\\s+|output\\s+|inout\\s+|)[^[]*(\\[[0-9:]+\\]\\s+|\\s+){net_to_update}@\\1 real {net_to_update} \\2@' '{file_to_update}' '''.format(**x), axis=1)\n",
    "    # we take the specific row, so we dont can too much on the content\n",
    "    # TODO - i just changed it from (\\[[0-9:]+\\]\\s+|\\s+|) to (\\[[0-9:]+\\]\\s+|) - need to see if it works!!!!!!!!!!!!!!!\n",
    "    # wreal['command']=wreal.apply(lambda x:r'''sed -ri '{line_to_update}s@(input\\s+|output\\s+|inout\\s+|)[^[]*(\\[[0-9:]+\\]\\s+|\\s+|)\\b{net_to_update}@\\1 real {net_to_update} \\2@' '{file_to_update}' '''.format(**x), axis=1)\n",
    "    wreal['command']=wreal.apply(lambda x:r'''sed -ri '{line_to_update}s@(input\\s+|output\\s+|inout\\s+|)[^[]*(\\[[0-9:]+\\]\\s+|)\\b{net_to_update}@\\1 real {net_to_update} \\2@' '{file_to_update}' '''.format(**x), axis=1)\n",
    "    wreal=wreal.reset_index(drop=True)\n",
    "    try:\n",
    "        wreal.loc[(wreal.local_bus_type!='wire')&(wreal.remote_bus_type!='wire'),'command']='# no wire type ' +wreal.command\n",
    "        wreal.loc[wreal.file_to_update.str.endswith(\".sv\"),'command']='# sv file ' +wreal.command\n",
    "    except: pass\n"
   ]
  },
  {
   "cell_type": "code",
   "execution_count": 18,
   "metadata": {
    "scrolled": false
   },
   "outputs": [
    {
     "ename": "ValueError",
     "evalue": "style is not supported for non-unique indices.",
     "output_type": "error",
     "traceback": [
      "\u001b[0;31m---------------------------------------------------------------------------\u001b[0m",
      "\u001b[0;31mValueError\u001b[0m                                Traceback (most recent call last)",
      "\u001b[0;32m<ipython-input-18-25d7e0197158>\u001b[0m in \u001b[0;36m<module>\u001b[0;34m\u001b[0m\n\u001b[1;32m      1\u001b[0m \u001b[0;32mif\u001b[0m \u001b[0mwreal\u001b[0m\u001b[0;34m.\u001b[0m\u001b[0mshape\u001b[0m\u001b[0;34m[\u001b[0m\u001b[0;36m0\u001b[0m\u001b[0;34m]\u001b[0m\u001b[0;34m:\u001b[0m\u001b[0;34m\u001b[0m\u001b[0m\n\u001b[0;32m----> 2\u001b[0;31m     \u001b[0mdisplay\u001b[0m\u001b[0;34m(\u001b[0m\u001b[0mwreal\u001b[0m\u001b[0;34m.\u001b[0m\u001b[0mhead\u001b[0m\u001b[0;34m(\u001b[0m\u001b[0;36m2\u001b[0m\u001b[0;34m)\u001b[0m\u001b[0;34m.\u001b[0m\u001b[0mT\u001b[0m\u001b[0;34m.\u001b[0m\u001b[0mstyle\u001b[0m\u001b[0;34m.\u001b[0m\u001b[0mset_properties\u001b[0m\u001b[0;34m(\u001b[0m\u001b[0;34m**\u001b[0m\u001b[0;34m{\u001b[0m\u001b[0;34m'text-align'\u001b[0m\u001b[0;34m:\u001b[0m \u001b[0;34m'left'\u001b[0m\u001b[0;34m}\u001b[0m\u001b[0;34m)\u001b[0m\u001b[0;34m)\u001b[0m\u001b[0;34m\u001b[0m\u001b[0m\n\u001b[0m\u001b[1;32m      3\u001b[0m     \u001b[0mwreal\u001b[0m\u001b[0;34m.\u001b[0m\u001b[0mto_csv\u001b[0m\u001b[0;34m(\u001b[0m\u001b[0moutput_directory\u001b[0m\u001b[0;34m+\u001b[0m\u001b[0;34m'type_error.csv'\u001b[0m\u001b[0;34m)\u001b[0m\u001b[0;34m\u001b[0m\u001b[0m\n\u001b[1;32m      4\u001b[0m     \u001b[0mprint_linux_windows_path\u001b[0m\u001b[0;34m(\u001b[0m\u001b[0moutput_directory\u001b[0m\u001b[0;34m+\u001b[0m\u001b[0;34m\"type_error.csv\"\u001b[0m\u001b[0;34m)\u001b[0m\u001b[0;34m\u001b[0m\u001b[0m\n\u001b[1;32m      5\u001b[0m \u001b[0;32melse\u001b[0m\u001b[0;34m:\u001b[0m\u001b[0;34m\u001b[0m\u001b[0m\n",
      "\u001b[0;32m/nfs/iil/disks/hdk_ws/ckt/lisrael1/lior_dir/virtual_env/env/lib/python3.6/site-packages/pandas/core/frame.py\u001b[0m in \u001b[0;36mstyle\u001b[0;34m(self)\u001b[0m\n\u001b[1;32m    836\u001b[0m         \u001b[0;32mfrom\u001b[0m \u001b[0mpandas\u001b[0m\u001b[0;34m.\u001b[0m\u001b[0mio\u001b[0m\u001b[0;34m.\u001b[0m\u001b[0mformats\u001b[0m\u001b[0;34m.\u001b[0m\u001b[0mstyle\u001b[0m \u001b[0;32mimport\u001b[0m \u001b[0mStyler\u001b[0m\u001b[0;34m\u001b[0m\u001b[0m\n\u001b[1;32m    837\u001b[0m \u001b[0;34m\u001b[0m\u001b[0m\n\u001b[0;32m--> 838\u001b[0;31m         \u001b[0;32mreturn\u001b[0m \u001b[0mStyler\u001b[0m\u001b[0;34m(\u001b[0m\u001b[0mself\u001b[0m\u001b[0;34m)\u001b[0m\u001b[0;34m\u001b[0m\u001b[0m\n\u001b[0m\u001b[1;32m    839\u001b[0m \u001b[0;34m\u001b[0m\u001b[0m\n\u001b[1;32m    840\u001b[0m     _shared_docs[\n",
      "\u001b[0;32m/nfs/iil/disks/hdk_ws/ckt/lisrael1/lior_dir/virtual_env/env/lib/python3.6/site-packages/pandas/io/formats/style.py\u001b[0m in \u001b[0;36m__init__\u001b[0;34m(self, data, precision, table_styles, uuid, caption, table_attributes, cell_ids, na_rep)\u001b[0m\n\u001b[1;32m    143\u001b[0m             \u001b[0mdata\u001b[0m \u001b[0;34m=\u001b[0m \u001b[0mdata\u001b[0m\u001b[0;34m.\u001b[0m\u001b[0mto_frame\u001b[0m\u001b[0;34m(\u001b[0m\u001b[0;34m)\u001b[0m\u001b[0;34m\u001b[0m\u001b[0m\n\u001b[1;32m    144\u001b[0m         \u001b[0;32mif\u001b[0m \u001b[0;32mnot\u001b[0m \u001b[0mdata\u001b[0m\u001b[0;34m.\u001b[0m\u001b[0mindex\u001b[0m\u001b[0;34m.\u001b[0m\u001b[0mis_unique\u001b[0m \u001b[0;32mor\u001b[0m \u001b[0;32mnot\u001b[0m \u001b[0mdata\u001b[0m\u001b[0;34m.\u001b[0m\u001b[0mcolumns\u001b[0m\u001b[0;34m.\u001b[0m\u001b[0mis_unique\u001b[0m\u001b[0;34m:\u001b[0m\u001b[0;34m\u001b[0m\u001b[0m\n\u001b[0;32m--> 145\u001b[0;31m             \u001b[0;32mraise\u001b[0m \u001b[0mValueError\u001b[0m\u001b[0;34m(\u001b[0m\u001b[0;34m\"style is not supported for non-unique indices.\"\u001b[0m\u001b[0;34m)\u001b[0m\u001b[0;34m\u001b[0m\u001b[0m\n\u001b[0m\u001b[1;32m    146\u001b[0m \u001b[0;34m\u001b[0m\u001b[0m\n\u001b[1;32m    147\u001b[0m         \u001b[0mself\u001b[0m\u001b[0;34m.\u001b[0m\u001b[0mdata\u001b[0m \u001b[0;34m=\u001b[0m \u001b[0mdata\u001b[0m\u001b[0;34m\u001b[0m\u001b[0m\n",
      "\u001b[0;31mValueError\u001b[0m: style is not supported for non-unique indices."
     ]
    }
   ],
   "source": [
    "if wreal.shape[0]:\n",
    "    display(wreal.head(2).T.style.set_properties(**{'text-align': 'left'}))\n",
    "    wreal.to_csv(output_directory+'type_error.csv')\n",
    "    print_linux_windows_path(output_directory+\"type_error.csv\")\n",
    "else:\n",
    "    print(\"didn't find PCTM errors\")"
   ]
  },
  {
   "cell_type": "code",
   "execution_count": null,
   "metadata": {},
   "outputs": [],
   "source": [
    "if wreal.shape[0]:\n",
    "    command=wreal.command.unique()\n",
    "    print('%d replacments'%command.shape)\n",
    "    command=\"\\n\".join(command.tolist())\n",
    "    command_output=output_directory+'type_error.sh'\n",
    "    f=open(command_output, 'w')\n",
    "    f.write(command)\n",
    "    f.close()\n",
    "    !chmod o+r $command_output\n",
    "    print('now run\\n\\tbash '+command_output)"
   ]
  },
  {
   "cell_type": "code",
   "execution_count": null,
   "metadata": {},
   "outputs": [],
   "source": [
    "header('warning on real connected to wire')"
   ]
  },
  {
   "cell_type": "code",
   "execution_count": null,
   "metadata": {},
   "outputs": [],
   "source": [
    "lint_pattern=r'Port connection width mismatch (?P<local_file_path>[^,]+), (?P<file_path_line>\\d+).*The following (?P<local_bit>\\d+)-bit expression is connected to (?P<remote_bit>\\d+)-bit port \"(?P<remote_port>\\w+)\" of module \"(?P<remote_module>\\w+)\", instance \"(?P<remote_instance>\\w+)\". Expression: (?P<local_wire_name>[\\w\\[\\]]+) The expression is from module (?P<local_module_name>\\w+)'.replace(' ','\\s+')\n",
    "lint=df.query('Lint').original.str.replace('\\n', ' ', regex=True).str.extract(lint_pattern).dropna()\n",
    "lint.local_wire_name=lint.local_wire_name.replace('\\[.*]', '', regex=True)\n",
    "# local_lint = lint#.query('local_bit==\"1\"')#.drop_duplicates(subset=['local_wire_name','local_module_name','local_bit'])\n",
    "lint['remote_file_path']=lint.merge(files, left_on='remote_module', right_on='module_name', how='left').file_path.values\n",
    "lint['file_path_that_need_update']=lint.local_file_path.where(lint.local_bit=='1',lint.remote_file_path)\n",
    "lint['net_that_need_update']=lint.local_wire_name.where(lint.local_bit=='1',lint.remote_port)"
   ]
  },
  {
   "cell_type": "code",
   "execution_count": null,
   "metadata": {},
   "outputs": [],
   "source": [
    "display(lint.drop(['local_file_path','remote_file_path'],axis=1).head(1).T.style.set_properties(**{'text-align': 'left'}))\n",
    "real_to_wire_warning_csv=output_directory+'real_to_wire_warning.csv'\n",
    "lint.to_csv(real_to_wire_warning_csv)\n",
    "!chmod 777 $real_to_wire_warning_csv\n",
    "print_linux_windows_path(real_to_wire_warning_csv)"
   ]
  },
  {
   "cell_type": "code",
   "execution_count": null,
   "metadata": {
    "scrolled": false
   },
   "outputs": [],
   "source": [
    "' ** the command maker at bus real is bettern that here ** '\n",
    "if not lint.empty:\n",
    "    command = lint.file_path_that_need_update.str.endswith(\".sv\").apply(lambda r: '# sv file ' if r else '')+\"perl -pi.bak -e 's=wire\\s+(logic\\s+)?\"+lint.net_that_need_update+\"=real \"+lint.net_that_need_update+\"=;s=(input|output)\\s+(wire\\s+)?(logic\\s+)?\"+lint.net_that_need_update+\"=\\\\1 real \"+lint.net_that_need_update+\"=' \"+lint.file_path_that_need_update\n",
    "    command=command.dropna().unique()\n",
    "    print('%d replacments'%command.shape)\n",
    "    command=\"# sed '/vcc\\|vss/d' \\n\"+\"\\n\".join(command.tolist())\n",
    "    command_output=output_directory+'type_warning.sh'\n",
    "    f=open(command_output, 'w')\n",
    "    f.write(command)\n",
    "    f.close()\n",
    "    !chmod o+r $command_output\n",
    "    print('now run\\n\\tbash '+command_output)\n",
    "    print_linux_windows_path(output_directory+\"type_warning.csv\")\n",
    "    lint.to_csv(output_directory+'type_warning.csv')\n",
    "else:\n",
    "    print(\"didn't find lint issues at the log\")"
   ]
  },
  {
   "cell_type": "code",
   "execution_count": null,
   "metadata": {},
   "outputs": [],
   "source": [
    "# for i,c in enumerate(command.tolist()):\n",
    "#     if type(c) is float:\n",
    "#         print(i)\n",
    "# # lint.iloc[49].to_frame()\n",
    "# l=lint.iloc[[49]]\n",
    "# l.file_path_that_need_update.str.endswith(\".sv\").apply(lambda r: '# ' if r else '')+\"perl -pi.bak -e 's=wire\\s+(logic\\s+)?\"+l.net_that_need_update+\"=real \"+l.net_that_need_update+\"=;s=(input|output)\\s+(wire\\s+)?(logic\\s+)?\"+l.net_that_need_update+\"=\\\\1 real \"+l.net_that_need_update+\"=' \"+l.file_path_that_need_update"
   ]
  }
 ],
 "metadata": {
  "kernelspec": {
   "display_name": "Python 3",
   "language": "python",
   "name": "python3"
  },
  "language_info": {
   "codemirror_mode": {
    "name": "ipython",
    "version": 3
   },
   "file_extension": ".py",
   "mimetype": "text/x-python",
   "name": "python",
   "nbconvert_exporter": "python",
   "pygments_lexer": "ipython3",
   "version": "3.6.3"
  }
 },
 "nbformat": 4,
 "nbformat_minor": 2
}
