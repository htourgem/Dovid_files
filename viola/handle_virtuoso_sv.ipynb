{
 "cells": [
  {
   "cell_type": "code",
   "execution_count": null,
   "metadata": {},
   "outputs": [],
   "source": [
    "print('this script is deprecated and moved to streamlit, probably at http://iapp258.iil.intel.com:8512/')"
   ]
  },
  {
   "cell_type": "code",
   "execution_count": 3,
   "metadata": {
    "scrolled": false
   },
   "outputs": [
    {
     "data": {
      "application/vnd.jupyter.widget-view+json": {
       "model_id": "a80aad5dccdd4367bcd6cc0896f8fe83",
       "version_major": 2,
       "version_minor": 0
      },
      "text/plain": [
       "interactive(children=(Text(value='ipn5adcsarshr_dacsw_1f,ipn5adcsarshr_dacsw_hf,ipn5adcsarshr_dfx_n_mos1_switc…"
      ]
     },
     "metadata": {},
     "output_type": "display_data"
    }
   ],
   "source": [
    "import ipywidgets as widgets\n",
    "from IPython.display import HTML\n",
    "from IPython.display import display, clear_output\n",
    "\n",
    "blocks='ipn5adcsarshr_dacsw_1f,ipn5adcsarshr_dacsw_hf,ipn5adcsarshr_dfx_n_mos1_switch,ipn5adcsarshr_dfx_p_mos1_switch'\n",
    "local_folder=''\n",
    "\n",
    "@widgets.interact(list_of_blocks=widgets.Text(value=blocks,placeholder='Type something',description='blocks name', \n",
    "                     layout=widgets.Layout(width='95%'),\n",
    "                     style=dict(description_width='initial')),\n",
    "                  local_folder_path=widgets.Text(value=local_folder,placeholder='optional - enter your sv leafs local folder',description='sv leafs local folder', \n",
    "                     layout=widgets.Layout(width='95%'),\n",
    "                     style=dict(description_width='initial'))\n",
    "                 )\n",
    "def a(list_of_blocks, local_folder_path):\n",
    "    global blocks, local_folder\n",
    "    clear_output(wait=True)\n",
    "    print('\\n\\n**** working on it... ****', flush=True) # this line is for voila. when you run '%run nb.ipynb' it will not clear this run output unless you add this print\n",
    "    clear_output(wait=True)\n",
    "    blocks=list_of_blocks\n",
    "    local_folder=local_folder_path\n",
    "    %run handle_virtuoso_sv/handle_virtuoso_sv.ipynb"
   ]
  },
  {
   "cell_type": "code",
   "execution_count": null,
   "metadata": {},
   "outputs": [],
   "source": []
  }
 ],
 "metadata": {
  "kernelspec": {
   "display_name": "Python 3",
   "language": "python",
   "name": "python3"
  },
  "language_info": {
   "codemirror_mode": {
    "name": "ipython",
    "version": 3
   },
   "file_extension": ".py",
   "mimetype": "text/x-python",
   "name": "python",
   "nbconvert_exporter": "python",
   "pygments_lexer": "ipython3",
   "version": "3.6.3"
  }
 },
 "nbformat": 4,
 "nbformat_minor": 2
}
