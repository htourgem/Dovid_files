{
 "cells": [
  {
   "cell_type": "code",
   "execution_count": 1,
   "metadata": {},
   "outputs": [],
   "source": [
    "import pandas as pd\n",
    "import numpy as np\n",
    "from tqdm import tqdm_notebook as tqdm\n",
    "import cufflinks\n",
    "import plotly as py\n",
    "import pylab as plt\n",
    "import sys\n",
    "sys.path.append(r'/nfs/iil/disks/hip_ana_sim_01/dgottesm/analysis_and_tools/analysisPP/brk_gen1/Automation/')\n",
    "\n",
    "from PostProcess.sine_analysis.inl_dnl import extract_inl_dnl\n",
    "from PostProcess.global_functions.generate_data import *\n",
    "from PostProcess.sine_analysis.other_statistical_analysis import zero_one_dist_at_hist\n",
    "\n",
    "from ipywidgets import interact\n",
    "import ipywidgets as widgets"
   ]
  },
  {
   "cell_type": "code",
   "execution_count": 10,
   "metadata": {
    "scrolled": false
   },
   "outputs": [
    {
     "data": {
      "application/vnd.jupyter.widget-view+json": {
       "model_id": "5a6ab34970d74a5899c6a60e3a568941",
       "version_major": 2,
       "version_minor": 0
      },
      "text/plain": [
       "interactive(children=(FloatSlider(value=0.0, continuous_update=False, description='noise_std_mv:', layout=Layo…"
      ]
     },
     "metadata": {},
     "output_type": "display_data"
    }
   ],
   "source": [
    "slicer_max_offset_mv=10\n",
    "\n",
    "noise_std_mv=widgets.FloatSlider(value=0, min=0, max=10, step=0.1, description='noise_std_mv:', continuous_update=False, orientation='horizontal', readout=True, readout_format='.1f', layout=widgets.Layout(width='95%'), style=dict(description_width='initial'))\n",
    "offset_volt_mv=widgets.FloatSlider(value=0, min=-slicer_max_offset_mv, max=slicer_max_offset_mv, step=0.1, description='offset_mv:', continuous_update=False, orientation='horizontal', readout=True, readout_format='.1f', layout=widgets.Layout(width='95%'), style=dict(description_width='initial'))\n",
    "slicer1_offset_mv=widgets.FloatSlider(value=0, min=-slicer_max_offset_mv, max=slicer_max_offset_mv, step=0.1, description='slicer1_offset_mv:', continuous_update=False, orientation='horizontal', readout=True, readout_format='.1f', layout=widgets.Layout(width='95%'), style=dict(description_width='initial'))\n",
    "slicer2_offset_mv=widgets.FloatSlider(value=0, min=-slicer_max_offset_mv, max=slicer_max_offset_mv, step=0.1, description='slicer2_offset_mv:', continuous_update=False, orientation='horizontal', readout=True, readout_format='.1f', layout=widgets.Layout(width='95%'), style=dict(description_width='initial'))\n",
    "\n",
    "dac0_offset_mv=widgets.FloatSlider(value=0, min=-slicer_max_offset_mv, max=slicer_max_offset_mv, step=0.1, description='dac0_offset_mv:', continuous_update=False, orientation='horizontal', readout=True, readout_format='.1f', layout=widgets.Layout(width='95%'), style=dict(description_width='initial'))\n",
    "dac1_offset_mv=widgets.FloatSlider(value=0, min=-slicer_max_offset_mv, max=slicer_max_offset_mv, step=0.1, description='dac1_offset_mv:', continuous_update=False, orientation='horizontal', readout=True, readout_format='.1f', layout=widgets.Layout(width='95%'), style=dict(description_width='initial'))\n",
    "dac2_offset_mv=widgets.FloatSlider(value=0, min=-slicer_max_offset_mv, max=slicer_max_offset_mv, step=0.1, description='dac2_offset_mv:', continuous_update=False, orientation='horizontal', readout=True, readout_format='.1f', layout=widgets.Layout(width='95%'), style=dict(description_width='initial'))\n",
    "dac3_offset_mv=widgets.FloatSlider(value=0, min=-slicer_max_offset_mv, max=slicer_max_offset_mv, step=0.1, description='dac3_offset_mv:', continuous_update=False, orientation='horizontal', readout=True, readout_format='.1f', layout=widgets.Layout(width='95%'), style=dict(description_width='initial'))\n",
    "dac4_offset_mv=widgets.FloatSlider(value=0, min=-slicer_max_offset_mv, max=slicer_max_offset_mv, step=0.1, description='dac4_offset_mv:', continuous_update=False, orientation='horizontal', readout=True, readout_format='.1f', layout=widgets.Layout(width='95%'), style=dict(description_width='initial'))\n",
    "\n",
    "dac_col=[f'reads_read_{i}_' for i in range(1,6)]\n",
    "\n",
    "@interact(noise_std_mv=noise_std_mv, slicer1_offset=slicer1_offset_mv,slicer2_offset=slicer2_offset_mv,\n",
    "           dac0_offset_mv=dac0_offset_mv,dac1_offset_mv=dac1_offset_mv,dac2_offset_mv=dac2_offset_mv,dac3_offset_mv=dac3_offset_mv,dac4_offset_mv=dac4_offset_mv, \n",
    "           plot_hist_after_each_dac=False, \n",
    "           input_type=dict(sine=DataPattern.sine, pam2=DataPattern.PRBS_pam2, pam4=DataPattern.PRBS_pam4, DC=DataPattern.DC),\n",
    "           offset_volt_mv=offset_volt_mv,\n",
    "         )\n",
    "def plotme(noise_std_mv, slicer1_offset,slicer2_offset,\n",
    "           dac0_offset_mv,dac1_offset_mv,dac2_offset_mv,dac3_offset_mv,dac4_offset_mv, \n",
    "           plot_hist_after_each_dac, \n",
    "           input_type,offset_volt_mv):\n",
    "    tau_ns=0\n",
    "    noise_std=noise_std_mv*1e-3\n",
    "    offset_ns=0\n",
    "    offset_volt=offset_volt_mv*1e-3\n",
    "    slicers_offset=np.array([slicer1_offset,slicer2_offset]*3)*1e-3\n",
    "    dac_offset=np.array([dac0_offset_mv,dac1_offset_mv,dac2_offset_mv,dac3_offset_mv,dac4_offset_mv,0])*1e-3\n",
    "    slicers_offset+=dac_offset\n",
    "    df = SimulateSingleSar(noise_std_volt=noise_std, \n",
    "                           tau_ns=tau_ns, \n",
    "                           pattern_type=input_type,\n",
    "                           offset_ns=offset_ns,\n",
    "                           offset_volt=offset_volt,\n",
    "                           slicers_offset=slicers_offset\n",
    "                          ).simulate_raw_data()\n",
    "    hist=(df.clipped.value_counts().sort_index()+pd.Series(0,index=range(64))).fillna(0)\n",
    "    hist.rename_axis(index='code').\\\n",
    "            plot(kind='bar', title='hist of raw data', figsize=[20,5], grid=True)\n",
    "    plt.figure()\n",
    "    zero_one_dist_at_hist(hist).rename_axis(index='bit').plot(grid=True, figsize=(20, 5), title='1/0 ratio per bit')\n",
    "    plt.figure()\n",
    "    inl_dnl=extract_inl_dnl(lst=hist, number_of_bits=6, plot=False, truncate_tails=10, sine=True, histogram_input=True)\n",
    "    \n",
    "    fig, ax_dnl = plt.subplots(1, 2, figsize=(20, 5)) \n",
    "    inl_dnl.dnl.sort_index().plot(title='dnl', ax=ax_dnl[0])\n",
    "    inl_dnl.inl.sort_index().plot(title='inl', ax=ax_dnl[1])\n",
    "\n",
    "    if plot_hist_after_each_dac:\n",
    "        fig, ax = plt.subplots(3, 2, figsize=(20, 10)) \n",
    "        ax=ax.flatten().tolist()[::-1]\n",
    "        for col in dac_col:\n",
    "            df[col].to_frame(col.replace('reads_read','input of dac ')).plot.hist(bins=50, ax=ax.pop(), grid=True)\n",
    "    return None"
   ]
  },
  {
   "cell_type": "code",
   "execution_count": 3,
   "metadata": {},
   "outputs": [
    {
     "data": {
      "text/plain": [
       "0"
      ]
     },
     "execution_count": 3,
     "metadata": {},
     "output_type": "execute_result"
    }
   ],
   "source": [
    "DataPattern.PRBS_pam2"
   ]
  }
 ],
 "metadata": {
  "kernelspec": {
   "display_name": "Python 3",
   "language": "python",
   "name": "python3"
  },
  "language_info": {
   "codemirror_mode": {
    "name": "ipython",
    "version": 3
   },
   "file_extension": ".py",
   "mimetype": "text/x-python",
   "name": "python",
   "nbconvert_exporter": "python",
   "pygments_lexer": "ipython3",
   "version": "3.7.4"
  }
 },
 "nbformat": 4,
 "nbformat_minor": 2
}
