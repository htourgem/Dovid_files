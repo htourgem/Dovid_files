{
 "cells": [
  {
   "cell_type": "code",
   "execution_count": 13,
   "metadata": {},
   "outputs": [
    {
     "data": {
      "application/vnd.jupyter.widget-view+json": {
       "model_id": "e6d95e1888c143c5a4a8066d182f376a",
       "version_major": 2,
       "version_minor": 0
      },
      "text/plain": [
       "interactive(children=(Text(value='f', description='reg_val'), Text(value='1', description='field_in_hex'), Int…"
      ]
     },
     "metadata": {},
     "output_type": "display_data"
    }
   ],
   "source": [
    "import ipywidgets as widgets\n",
    "from ipywidgets import interact\n",
    "from IPython.display import HTML\n",
    "\n",
    "\n",
    "@interact(field_start=(0,32,1), bits_in_field=(1,32,1))\n",
    "def update(reg_val='fffff', field_in_hex='0a', field_start=4, bits_in_field=6):\n",
    "    reg_bits=len(reg_val)*4\n",
    "    if field_start>=reg_bits:\n",
    "        print('field start greater than reg size. exit')\n",
    "        return \n",
    "    if reg_bits<bits_in_field+field_start:\n",
    "        print('too much bits in field. exit')\n",
    "        return \n",
    "        bits_in_field=reg_bits-field_start\n",
    "        print('too much bits in field. reducint to %d bits in field'%bits_in_field)\n",
    "\n",
    "    reg_val='{:0{places}b}'.format(int(reg_val,16),places=reg_bits)\n",
    "    field_val='{:0{places}b}'.format(int(field_in_hex,16),places=bits_in_field)[:bits_in_field]\n",
    "    \n",
    "    first=reg_val[:reg_bits-bits_in_field-field_start]\n",
    "    second=field_val\n",
    "    third=reg_val[reg_bits-field_start:]\n",
    "    \n",
    "    reg_hex='{bits}h {:0{places}x}'.format(int(first+second+third,2),places=reg_bits//4, bits=reg_bits)\n",
    "    field_val='<t style=\"color:#cc5c00\">'+field_val+'</t>'\n",
    "    html_reg_val='{places}b '.format(places=reg_bits)+first+field_val+third\n",
    "    \n",
    "    display(HTML('before:<br>{bits}b {val}'.format(bits=reg_bits, val=reg_val)))\n",
    "    print('\\nafter:')\n",
    "    display(HTML(html_reg_val))    \n",
    "    print(reg_hex)\n",
    "    print(reg_hex.upper())\n"
   ]
  }
 ],
 "metadata": {
  "kernelspec": {
   "display_name": "Python 3",
   "language": "python",
   "name": "python3"
  },
  "language_info": {
   "codemirror_mode": {
    "name": "ipython",
    "version": 3
   },
   "file_extension": ".py",
   "mimetype": "text/x-python",
   "name": "python",
   "nbconvert_exporter": "python",
   "pygments_lexer": "ipython3",
   "version": "3.6.3"
  }
 },
 "nbformat": 4,
 "nbformat_minor": 2
}
