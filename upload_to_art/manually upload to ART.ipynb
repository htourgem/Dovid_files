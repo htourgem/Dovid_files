{
 "cells": [
  {
   "cell_type": "code",
   "execution_count": 1,
   "metadata": {},
   "outputs": [
    {
     "name": "stderr",
     "output_type": "stream",
     "text": [
      "/nfs/iil/disks/hdk_ws/ckt/lisrael1/lior_dir/virtual_env/env/lib/python3.6/site-packages/pandas/compat/__init__.py:117: UserWarning: Could not import the lzma module. Your installed Python is incomplete. Attempting to use lzma compression will result in a RuntimeError.\n",
      "  warnings.warn(msg)\n"
     ]
    }
   ],
   "source": [
    "import sys\n",
    "sys.path.append('/nfs/iil/disks/hip_ana_sim_01/dgottesm/analysis_and_tools/analysisPP/brk_gen1/Automation/PostProcess/upload_to_art')\n",
    "from simple_art_uploader import simple_art_dict, upload_to_ogre\n",
    "import pandas as pd"
   ]
  },
  {
   "cell_type": "code",
   "execution_count": 3,
   "metadata": {},
   "outputs": [
    {
     "name": "stderr",
     "output_type": "stream",
     "text": [
      "\r",
      "  0%|          | 0/1 [00:00<?, ?it/s]"
     ]
    },
    {
     "name": "stdout",
     "output_type": "stream",
     "text": [
      "Saving to Ogre database...\n",
      "dict_keys([]) dict_keys([]) {'ProductName': 'Falcon', 'SessionDescription': 'my_session', 'ProductPhase': 'TC3', 'User': 'lisrael1'}\n"
     ]
    },
    {
     "name": "stderr",
     "output_type": "stream",
     "text": [
      "100%|██████████| 1/1 [00:00<00:00,  4.00it/s]"
     ]
    },
    {
     "name": "stdout",
     "output_type": "stream",
     "text": [
      "Data saved to Ogre database! finish time : 14:07:49\n",
      "\u001b[94m\u001b[1m\u001b[4mdone uploading to ART!!\u001b[0m\n",
      "http://iapp257.iil.intel.com:4887/art\n",
      "closing art session\n"
     ]
    },
    {
     "name": "stderr",
     "output_type": "stream",
     "text": [
      "\n"
     ]
    }
   ],
   "source": [
    "rawdata=[1,2,3,1]\n",
    "\n",
    "tmp_dct=simple_art_dict(user='lisrael1', \n",
    "                        dct=dict(rawdata=rawdata, number_of_sars=1, number_of_octs=8, TestName='sine'), \n",
    "                        session_name='my_session', \n",
    "                        hidden_dict={}, \n",
    "                        CornerData=dict(stam='stam'),\n",
    "                        project_name='Falcon')\n",
    "upload_to_ogre([tmp_dct])"
   ]
  },
  {
   "cell_type": "code",
   "execution_count": 4,
   "metadata": {},
   "outputs": [
    {
     "name": "stderr",
     "output_type": "stream",
     "text": [
      "\r",
      "  0%|          | 0/1 [00:00<?, ?it/s]"
     ]
    },
    {
     "name": "stdout",
     "output_type": "stream",
     "text": [
      "Saving to Ogre database...\n",
      "dict_keys([]) dict_keys([]) {'ProductName': 'Falcon', 'SessionDescription': 'my_session', 'ProductPhase': 'TC3', 'User': 'lisrael1'}\n"
     ]
    },
    {
     "name": "stderr",
     "output_type": "stream",
     "text": [
      "100%|██████████| 1/1 [00:00<00:00,  4.33it/s]"
     ]
    },
    {
     "name": "stdout",
     "output_type": "stream",
     "text": [
      "Data saved to Ogre database! finish time : 14:25:43\n",
      "\u001b[94m\u001b[1m\u001b[4mdone uploading to ART!!\u001b[0m\n",
      "http://iapp257.iil.intel.com:4887/art\n",
      "closing art session\n"
     ]
    },
    {
     "name": "stderr",
     "output_type": "stream",
     "text": [
      "\n"
     ]
    }
   ],
   "source": [
    "rawdata=[1,2,3,1]\n",
    "\n",
    "tmp_dct=simple_art_dict(user='lisrael1', \n",
    "                        dct=dict(rawdata=rawdata, number_of_tx_phases=8, single_record_length=2048, number_of_uis_for_data=48*2,number_of_uis_for_anchor=8*2, TestName='tx_dc_pattern'), \n",
    "                        session_name='my_session', \n",
    "                        hidden_dict={}, \n",
    "                        CornerData=dict(stam='stam'),\n",
    "                        project_name='Falcon')\n",
    "upload_to_ogre([tmp_dct])"
   ]
  },
  {
   "cell_type": "code",
   "execution_count": 3,
   "metadata": {},
   "outputs": [
    {
     "name": "stderr",
     "output_type": "stream",
     "text": [
      "/nfs/iil/disks/hdk_ws/ckt/lisrael1/lior_dir/virtual_env/env/lib/python3.6/site-packages/psycopg2/__init__.py:144: UserWarning: The psycopg2 wheel package will be renamed from release 2.8; in order to keep installing from binary please use \"pip install psycopg2-binary\" instead. For details see: <http://initd.org/psycopg/docs/install.html#binary-install-from-pypi>.\n",
      "  \"\"\")\n",
      "100%|██████████| 1/1 [00:00<00:00,  9.05it/s]"
     ]
    },
    {
     "name": "stdout",
     "output_type": "stream",
     "text": [
      "Saving to Ogre database...\n",
      "1\n",
      "Data saved to Ogre database! finish time : 21:47:44\n",
      "\u001b[94m\u001b[1m\u001b[4mdone uploading to ART!!\u001b[0m\n",
      "http://iapp257.iil.intel.com:4887/art\n",
      "closing art session\n"
     ]
    },
    {
     "name": "stderr",
     "output_type": "stream",
     "text": [
      "\n"
     ]
    }
   ],
   "source": [
    "df=pd.DataFrame([1,2,3,4])\n",
    "\n",
    "tmp_dct=simple_art_dict(user='lisrael1', \n",
    "                        dct=dict(rawdata=df.to_csv(header=None, index=None, line_terminator=',')[:-1], uis_up=3, uis_dn=4, transition_time_ps=500, sampling_rate_ghz=160), \n",
    "                        session_name='my_session', \n",
    "                        hidden_dict={}, \n",
    "                        CornerData=dict(stam='stam'),\n",
    "                        project_name='BRK_GEN2')\n",
    "upload_to_ogre([tmp_dct])"
   ]
  },
  {
   "cell_type": "code",
   "execution_count": 5,
   "metadata": {},
   "outputs": [
    {
     "name": "stderr",
     "output_type": "stream",
     "text": [
      " 25%|██▌       | 1/4 [00:00<00:00,  8.08it/s]"
     ]
    },
    {
     "name": "stdout",
     "output_type": "stream",
     "text": [
      "Saving to Ogre database...\n",
      "1\n",
      "Data saved to Ogre database! finish time : 18:53:23\n",
      "Saving to Ogre database...\n",
      "1\n",
      "Data saved to Ogre database! finish time : 18:53:23\n",
      "Saving to Ogre database...\n",
      "1\n"
     ]
    },
    {
     "name": "stderr",
     "output_type": "stream",
     "text": [
      "100%|██████████| 4/4 [00:00<00:00,  8.05it/s]"
     ]
    },
    {
     "name": "stdout",
     "output_type": "stream",
     "text": [
      "Data saved to Ogre database! finish time : 18:53:23\n",
      "Saving to Ogre database...\n",
      "1\n",
      "Data saved to Ogre database! finish time : 18:53:24\n",
      "\u001b[94m\u001b[1m\u001b[4mdone uploading to ART!!\u001b[0m\n",
      "http://iapp257.iil.intel.com:4887/art\n",
      "closing art session\n"
     ]
    },
    {
     "name": "stderr",
     "output_type": "stream",
     "text": [
      "\n"
     ]
    }
   ],
   "source": [
    "# df=pd.read_csv('data_path.csv').query('time_ns>1620')\n",
    "df=pd.DataFrame([1,2,3,4])\n",
    "\n",
    "to_upload=[]\n",
    "tmp_dct=simple_art_dict(user='lisrael1', \n",
    "                        dct=dict(rawdata=df.to_csv(header=None, index=None, line_terminator=',')[:-1]), \n",
    "                        session_name='my_session', \n",
    "                        hidden_dict={}, \n",
    "                        CornerData=dict(corner='tttt',temp=27),\n",
    "                        project_name='Falcon')\n",
    "to_upload+=[tmp_dct]*2\n",
    "tmp_dct=simple_art_dict(user='lisrael1', \n",
    "                        dct=dict(rawdata=df.to_csv(header=None, index=None, line_terminator=',')[:-1]), \n",
    "                        session_name='my_session', \n",
    "                        hidden_dict={}, \n",
    "                        CornerData=dict(corner='tttt',temp=28),\n",
    "                        project_name='Falcon')\n",
    "to_upload+=[tmp_dct]*2\n",
    "upload_to_ogre(to_upload)"
   ]
  },
  {
   "cell_type": "code",
   "execution_count": null,
   "metadata": {},
   "outputs": [],
   "source": []
  }
 ],
 "metadata": {
  "kernelspec": {
   "display_name": "Python 3",
   "language": "python",
   "name": "python3"
  },
  "language_info": {
   "codemirror_mode": {
    "name": "ipython",
    "version": 3
   },
   "file_extension": ".py",
   "mimetype": "text/x-python",
   "name": "python",
   "nbconvert_exporter": "python",
   "pygments_lexer": "ipython3",
   "version": "3.6.3"
  }
 },
 "nbformat": 4,
 "nbformat_minor": 2
}
