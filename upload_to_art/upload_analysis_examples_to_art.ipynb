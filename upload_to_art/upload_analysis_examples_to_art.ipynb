{
 "cells": [
  {
   "cell_type": "code",
   "execution_count": 3,
   "metadata": {},
   "outputs": [
    {
     "name": "stderr",
     "output_type": "stream",
     "text": [
      "/nfs/iil/disks/hdk_ws/ckt/lisrael1/lior_dir/virtual_env/env/lib/python3.6/site-packages/pandas/compat/__init__.py:117: UserWarning: Could not import the lzma module. Your installed Python is incomplete. Attempting to use lzma compression will result in a RuntimeError.\n",
      "  warnings.warn(msg)\n"
     ]
    }
   ],
   "source": [
    "from simple_art_uploader import simple_art_dict, upload_to_ogre\n",
    "import pandas as pd"
   ]
  },
  {
   "cell_type": "code",
   "execution_count": 1,
   "metadata": {},
   "outputs": [],
   "source": [
    "examples='/nfs/iil/disks/hip_ana_sim_01/dgottesm/analysis_and_tools/analysisPP/brk_gen1/Automation/PostProcess/usage_examples/'"
   ]
  },
  {
   "cell_type": "markdown",
   "metadata": {},
   "source": [
    "you have few samples at /nfs/iil/disks/hdk_ws/ckt/lisrael1/lior_dir/jupyter/brk_scope/PostProcess/usage_examples/"
   ]
  },
  {
   "cell_type": "markdown",
   "metadata": {},
   "source": [
    "## uploading examples to ART"
   ]
  },
  {
   "cell_type": "code",
   "execution_count": 2,
   "metadata": {},
   "outputs": [
    {
     "name": "stderr",
     "output_type": "stream",
     "text": [
      "/nfs/iil/disks/hdk_ws/ckt/lisrael1/lior_dir/virtual_env/env/lib/python3.6/site-packages/psycopg2/__init__.py:144: UserWarning: The psycopg2 wheel package will be renamed from release 2.8; in order to keep installing from binary please use \"pip install psycopg2-binary\" instead. For details see: <http://initd.org/psycopg/docs/install.html#binary-install-from-pypi>.\n",
      "  \"\"\")\n",
      "100%|██████████| 1/1 [00:00<00:00,  6.86it/s]"
     ]
    },
    {
     "name": "stdout",
     "output_type": "stream",
     "text": [
      "Saving to Ogre database...\n",
      "Data saved to Ogre database! finish time : 14:47:22\n",
      "\u001b[94m\u001b[1m\u001b[4mdone uploading to ART!!\u001b[0m\n",
      "http://iapp257.iil.intel.com:4887/art\n"
     ]
    },
    {
     "name": "stderr",
     "output_type": "stream",
     "text": [
      "\n"
     ]
    }
   ],
   "source": [
    "# raw data prbs\n",
    "rawdata=pd.read_excel(f\"{examples}/regression/prbs regression3.xlsx\", header=[1]).rawdata[0]\n",
    "tmp_dct=simple_art_dict(user='lisrael1', \n",
    "                        dct=dict(rawdata=rawdata, ui_time_ns='0.0178',positive_taps='80'), \n",
    "                        session_name='ana samples - prbs raw data', \n",
    "                        hidden_dict={}, \n",
    "                        project_name='Falcon')\n",
    "upload_to_ogre([tmp_dct])"
   ]
  },
  {
   "cell_type": "code",
   "execution_count": 6,
   "metadata": {},
   "outputs": [
    {
     "name": "stderr",
     "output_type": "stream",
     "text": [
      "/nfs/iil/disks/hdk_ws/ckt/lisrael1/lior_dir/virtual_env/env/lib/python3.6/site-packages/psycopg2/__init__.py:144: UserWarning: The psycopg2 wheel package will be renamed from release 2.8; in order to keep installing from binary please use \"pip install psycopg2-binary\" instead. For details see: <http://initd.org/psycopg/docs/install.html#binary-install-from-pypi>.\n",
      "  \"\"\")\n",
      "\r",
      "  0%|          | 0/1 [00:00<?, ?it/s]"
     ]
    },
    {
     "name": "stdout",
     "output_type": "stream",
     "text": [
      "Saving to Ogre database...\n"
     ]
    },
    {
     "name": "stderr",
     "output_type": "stream",
     "text": [
      "100%|██████████| 1/1 [00:00<00:00,  2.70it/s]"
     ]
    },
    {
     "name": "stdout",
     "output_type": "stream",
     "text": [
      "Data saved to Ogre database! finish time : 15:17:47\n",
      "\u001b[94m\u001b[1m\u001b[4mdone uploading to ART!!\u001b[0m\n",
      "http://iapp257.iil.intel.com:4887/art\n"
     ]
    },
    {
     "name": "stderr",
     "output_type": "stream",
     "text": [
      "\n"
     ]
    }
   ],
   "source": [
    "# msv sniffers\n",
    "rawdata=pd.read_csv(f\"{examples}/msv_multi_sniffers/data_path.csv\", header=[0], low_memory=False).query('time_ns>1560').to_csv()\n",
    "tmp_dct=simple_art_dict(user='lisrael1', \n",
    "                        dct=dict(rawdata=rawdata, number_of_octs=16), \n",
    "                        session_name='ana samples - msv multi sniffers', \n",
    "                        hidden_dict={}, \n",
    "                        project_name='Falcon')\n",
    "upload_to_ogre([tmp_dct])"
   ]
  },
  {
   "cell_type": "code",
   "execution_count": 7,
   "metadata": {},
   "outputs": [
    {
     "name": "stderr",
     "output_type": "stream",
     "text": [
      "100%|██████████| 1/1 [00:00<00:00,  8.12it/s]"
     ]
    },
    {
     "name": "stdout",
     "output_type": "stream",
     "text": [
      "Saving to Ogre database...\n",
      "Data saved to Ogre database! finish time : 15:19:47\n",
      "\u001b[94m\u001b[1m\u001b[4mdone uploading to ART!!\u001b[0m\n",
      "http://iapp257.iil.intel.com:4887/art\n"
     ]
    },
    {
     "name": "stderr",
     "output_type": "stream",
     "text": [
      "\n"
     ]
    }
   ],
   "source": [
    "# dc ramp\n",
    "f=f\"{examples}/regression/dc ramp with dnl noise.xlsx\"\n",
    "data = dict(rawdata=pd.read_excel(f, header=1).rawdata.values[0])\n",
    "tmp_dct=simple_art_dict(user='lisrael1', \n",
    "                        dct=data, \n",
    "                        session_name='ana samples - dc ramp', \n",
    "                        hidden_dict={}, \n",
    "                        project_name='Falcon')\n",
    "upload_to_ogre([tmp_dct])"
   ]
  },
  {
   "cell_type": "code",
   "execution_count": 8,
   "metadata": {},
   "outputs": [
    {
     "name": "stderr",
     "output_type": "stream",
     "text": [
      "100%|██████████| 1/1 [00:00<00:00,  7.34it/s]"
     ]
    },
    {
     "name": "stdout",
     "output_type": "stream",
     "text": [
      "Saving to Ogre database...\n",
      "Data saved to Ogre database! finish time : 15:23:23\n",
      "\u001b[94m\u001b[1m\u001b[4mdone uploading to ART!!\u001b[0m\n",
      "http://iapp257.iil.intel.com:4887/art\n"
     ]
    },
    {
     "name": "stderr",
     "output_type": "stream",
     "text": [
      "\n"
     ]
    }
   ],
   "source": [
    "# clock interleave\n",
    "rawdata = pd.read_excel(f\"{examples}/interleave_clocks/lisrael1_2020-05-04_16-18-24.xlsx\", header=[1]).rawdata.iloc[0]\n",
    "data = dict(rawdata=rawdata, number_of_octs=16)\n",
    "tmp_dct=simple_art_dict(user='lisrael1', \n",
    "                        dct=data, \n",
    "                        session_name='ana samples - clock interleave', \n",
    "                        hidden_dict={}, \n",
    "                        project_name='Falcon')\n",
    "upload_to_ogre([tmp_dct])"
   ]
  },
  {
   "cell_type": "code",
   "execution_count": 12,
   "metadata": {},
   "outputs": [
    {
     "name": "stderr",
     "output_type": "stream",
     "text": [
      "100%|██████████| 1/1 [00:00<00:00, 13.21it/s]"
     ]
    },
    {
     "name": "stdout",
     "output_type": "stream",
     "text": [
      "Saving to Ogre database...\n",
      "Data saved to Ogre database! finish time : 15:30:46\n",
      "\u001b[94m\u001b[1m\u001b[4mdone uploading to ART!!\u001b[0m\n",
      "http://iapp257.iil.intel.com:4887/art\n"
     ]
    },
    {
     "name": "stderr",
     "output_type": "stream",
     "text": [
      "\n"
     ]
    }
   ],
   "source": [
    "# prbs hist\n",
    "import sys\n",
    "sys.path.append('/nfs/iil/disks/hip_ana_sim_01/dgottesm/analysis_and_tools/analysisPP/brk_gen1/Automation/PostProcess/prbs_histogram_analysis/')\n",
    "import prbs_histogram_analysis_functions\n",
    "df, hists, hist_like_art = prbs_histogram_analysis_functions.generate_demo_hist_multi_sars()\n",
    "# print(generate_demo_hist_multi_sars)  # if you want raw data to upload to ART\n",
    "data=dict(rawdata=hist_like_art, number_of_octs=8)\n",
    "tmp_dct=simple_art_dict(user='lisrael1', \n",
    "                        dct=data, \n",
    "                        session_name='ana samples - prbs hist', \n",
    "                        hidden_dict={}, \n",
    "                        project_name='Falcon')\n",
    "upload_to_ogre([tmp_dct])"
   ]
  },
  {
   "cell_type": "code",
   "execution_count": 13,
   "metadata": {},
   "outputs": [
    {
     "name": "stderr",
     "output_type": "stream",
     "text": [
      "100%|██████████| 1/1 [00:00<00:00,  6.48it/s]"
     ]
    },
    {
     "name": "stdout",
     "output_type": "stream",
     "text": [
      "Saving to Ogre database...\n",
      "Data saved to Ogre database! finish time : 15:34:17\n",
      "\u001b[94m\u001b[1m\u001b[4mdone uploading to ART!!\u001b[0m\n",
      "http://iapp257.iil.intel.com:4887/art\n"
     ]
    },
    {
     "name": "stderr",
     "output_type": "stream",
     "text": [
      "\n"
     ]
    }
   ],
   "source": [
    "# sine\n",
    "f=f\"{examples}/sine analysis/a_lot_of_spurs.csv\"\n",
    "try:  # if csv is the downloaded csv of raw data from art\n",
    "    raw_data = pd.read_csv(f, header=[0]).code.values\n",
    "except:  # if we just have single column with raw codes\n",
    "    raw_data = pd.read_csv(f, header=None).iloc[:, 0].values\n",
    "data = dict(rawdata=str(raw_data.tolist()), sampling_rate_GHz=56, number_of_octs=16, number_of_sars=4)\n",
    "tmp_dct=simple_art_dict(user='lisrael1', \n",
    "                        dct=data, \n",
    "                        session_name='ana samples - sine', \n",
    "                        hidden_dict={}, \n",
    "                        project_name='Falcon')\n",
    "upload_to_ogre([tmp_dct])"
   ]
  },
  {
   "cell_type": "code",
   "execution_count": 14,
   "metadata": {},
   "outputs": [
    {
     "name": "stderr",
     "output_type": "stream",
     "text": [
      "100%|██████████| 1/1 [00:00<00:00, 10.27it/s]"
     ]
    },
    {
     "name": "stdout",
     "output_type": "stream",
     "text": [
      "Saving to Ogre database...\n",
      "Data saved to Ogre database! finish time : 15:38:34\n",
      "\u001b[94m\u001b[1m\u001b[4mdone uploading to ART!!\u001b[0m\n",
      "http://iapp257.iil.intel.com:4887/art\n"
     ]
    },
    {
     "name": "stderr",
     "output_type": "stream",
     "text": [
      "\n"
     ]
    }
   ],
   "source": [
    "#sine hist\n",
    "df = pd.read_excel(f\"{examples}/regression/sin hist.xlsx\", header=[1])\n",
    "# pd.read_csv(io.StringIO(df.rawdata.iloc[0]), index_col=[0])\n",
    "rawdata = df.rawdata.iloc[0]\n",
    "data = dict(rawdata=rawdata, number_of_octs=16)\n",
    "tmp_dct=simple_art_dict(user='lisrael1', \n",
    "                        dct=data, \n",
    "                        session_name='ana samples - sine', \n",
    "                        hidden_dict={}, \n",
    "                        project_name='Falcon')\n",
    "upload_to_ogre([tmp_dct])"
   ]
  },
  {
   "cell_type": "code",
   "execution_count": 15,
   "metadata": {},
   "outputs": [
    {
     "name": "stderr",
     "output_type": "stream",
     "text": [
      "100%|██████████| 1/1 [00:00<00:00,  8.16it/s]"
     ]
    },
    {
     "name": "stdout",
     "output_type": "stream",
     "text": [
      "Saving to Ogre database...\n",
      "Data saved to Ogre database! finish time : 17:36:25\n",
      "\u001b[94m\u001b[1m\u001b[4mdone uploading to ART!!\u001b[0m\n",
      "http://iapp257.iil.intel.com:4887/art\n"
     ]
    },
    {
     "name": "stderr",
     "output_type": "stream",
     "text": [
      "\n"
     ]
    }
   ],
   "source": [
    "# square wave\n",
    "rawdata = pd.read_excel(f\"{examples}/regression/square_wave.xlsx\", header=[1]).rawdata.iloc[0]\n",
    "data = dict(rawdata=rawdata)\n",
    "tmp_dct=simple_art_dict(user='lisrael1', \n",
    "                        dct=data, \n",
    "                        session_name='ana samples - square wave', \n",
    "                        hidden_dict={}, \n",
    "                        project_name='Falcon')\n",
    "upload_to_ogre([tmp_dct])"
   ]
  }
 ],
 "metadata": {
  "kernelspec": {
   "display_name": "Python 3",
   "language": "python",
   "name": "python3"
  },
  "language_info": {
   "codemirror_mode": {
    "name": "ipython",
    "version": 3
   },
   "file_extension": ".py",
   "mimetype": "text/x-python",
   "name": "python",
   "nbconvert_exporter": "python",
   "pygments_lexer": "ipython3",
   "version": "3.6.3"
  }
 },
 "nbformat": 4,
 "nbformat_minor": 2
}
