{
 "cells": [
  {
   "cell_type": "code",
   "execution_count": null,
   "metadata": {},
   "outputs": [],
   "source": [
    "# BTW, you have streamlit for downloading the log as csv"
   ]
  },
  {
   "cell_type": "code",
   "execution_count": 48,
   "metadata": {},
   "outputs": [],
   "source": [
    "sim_log='/nfs/iil/disks/barak_tc3_rtl/users/lisrael1/first/verif/msv_bmods/versions/1.TC3_1p0/sim/log'\n",
    "sim_log='/nfs/iil/disks/falcon_tc2-rtl/users/lisrael1/first/analog_sa/src/bmod/brk_adc_top/sim_sine/log'\n",
    "sim_log='/nfs/iil/disks/barak_gen2_rtl/users/lisrael1/first/run_sim/log'\n",
    "sim_log='/nfs/iil/disks/barak_gen2_rtl/users/lisrael1/first/run_sim_1p0/log'\n",
    "sim_log='/nfs/iil/disks/ams_regruns/dkl/users/lisrael1/msv/temp_del/slow_sim_brk2_cfir/skip_and_simplipy_games/sniffers/adding_global_align_sniffer/easygui_output.log' "
   ]
  },
  {
   "cell_type": "code",
   "execution_count": 49,
   "metadata": {},
   "outputs": [
    {
     "name": "stdout",
     "output_type": "stream",
     "text": [
      "CPU times: user 0 ns, sys: 0 ns, total: 0 ns\n",
      "Wall time: 47.4 µs\n"
     ]
    }
   ],
   "source": [
    "%%time\n",
    "import pandas as pd\n",
    "import numpy as np\n",
    "import io\n",
    "import cufflinks as cf\n",
    "import plotly as py\n",
    "\n",
    "import sys\n",
    "sys.path.append('/nfs/iil/disks/hdk_ws/ckt/lisrael1/lior_dir/jupyter/brk_gen1/Automation/')\n",
    "from  PostProcess.sine_analysis import run_all_sine_analysis\n",
    "\n",
    "import sys\n",
    "# from imp import reload\n",
    "sys.path.append(r'/nfs/iil/disks/hip_ana_sim_01/dgottesm/analysis_and_tools/analysisPP/brk_gen1/Automation/PostProcess/upload_to_art/')\n",
    "import parse_msv_report"
   ]
  },
  {
   "cell_type": "code",
   "execution_count": 50,
   "metadata": {},
   "outputs": [
    {
     "name": "stdout",
     "output_type": "stream",
     "text": [
      "reading file, grepping MSV_REPORT\n"
     ]
    },
    {
     "name": "stderr",
     "output_type": "stream",
     "text": [
      "100%|██████████| 18350/18350 [00:00<00:00, 133718.82it/s]"
     ]
    },
    {
     "name": "stdout",
     "output_type": "stream",
     "text": [
      "parsing relevant lines into python dictionary\n"
     ]
    },
    {
     "name": "stderr",
     "output_type": "stream",
     "text": [
      "\n"
     ]
    }
   ],
   "source": [
    "original_df=parse_msv_report.msv_report_lines_to_df(sim_log).query('time_ns>40')\n",
    "df=original_df.copy()"
   ]
  },
  {
   "cell_type": "code",
   "execution_count": 51,
   "metadata": {},
   "outputs": [
    {
     "data": {
      "text/html": [
       "<div>\n",
       "<style scoped>\n",
       "    .dataframe tbody tr th:only-of-type {\n",
       "        vertical-align: middle;\n",
       "    }\n",
       "\n",
       "    .dataframe tbody tr th {\n",
       "        vertical-align: top;\n",
       "    }\n",
       "\n",
       "    .dataframe thead th {\n",
       "        text-align: right;\n",
       "    }\n",
       "</style>\n",
       "<table border=\"1\" class=\"dataframe\">\n",
       "  <thead>\n",
       "    <tr style=\"text-align: right;\">\n",
       "      <th></th>\n",
       "      <th>data_type</th>\n",
       "      <th>place</th>\n",
       "      <th>pos_neg_dif</th>\n",
       "      <th>printer</th>\n",
       "      <th>read_number</th>\n",
       "      <th>time_ns</th>\n",
       "      <th>value</th>\n",
       "    </tr>\n",
       "  </thead>\n",
       "  <tbody>\n",
       "    <tr>\n",
       "      <th>18345</th>\n",
       "      <td>th1_input</td>\n",
       "      <td>tb.top.adc_fe.qrt3.bmod_sniffer.th1_sniffer_0</td>\n",
       "      <td>p</td>\n",
       "      <td>MSV_REPORT_DATA_PATH_MONITOR</td>\n",
       "      <td>159.0</td>\n",
       "      <td>1643.5054</td>\n",
       "      <td>0</td>\n",
       "    </tr>\n",
       "    <tr>\n",
       "      <th>18346</th>\n",
       "      <td>th1_input</td>\n",
       "      <td>tb.top.adc_fe.qrt3.bmod_sniffer.th1_sniffer_0</td>\n",
       "      <td>n</td>\n",
       "      <td>MSV_REPORT_DATA_PATH_MONITOR</td>\n",
       "      <td>159.0</td>\n",
       "      <td>1643.5054</td>\n",
       "      <td>0</td>\n",
       "    </tr>\n",
       "    <tr>\n",
       "      <th>18347</th>\n",
       "      <td>th1_output</td>\n",
       "      <td>tb.top.adc_fe.qrt3.bmod_sniffer.th1_sniffer_0</td>\n",
       "      <td>d</td>\n",
       "      <td>MSV_REPORT_DATA_PATH_MONITOR</td>\n",
       "      <td>159.0</td>\n",
       "      <td>1643.5054</td>\n",
       "      <td>0</td>\n",
       "    </tr>\n",
       "    <tr>\n",
       "      <th>18348</th>\n",
       "      <td>th1_output</td>\n",
       "      <td>tb.top.adc_fe.qrt3.bmod_sniffer.th1_sniffer_0</td>\n",
       "      <td>p</td>\n",
       "      <td>MSV_REPORT_DATA_PATH_MONITOR</td>\n",
       "      <td>159.0</td>\n",
       "      <td>1643.5054</td>\n",
       "      <td>0</td>\n",
       "    </tr>\n",
       "    <tr>\n",
       "      <th>18349</th>\n",
       "      <td>th1_output</td>\n",
       "      <td>tb.top.adc_fe.qrt3.bmod_sniffer.th1_sniffer_0</td>\n",
       "      <td>n</td>\n",
       "      <td>MSV_REPORT_DATA_PATH_MONITOR</td>\n",
       "      <td>159.0</td>\n",
       "      <td>1643.5054</td>\n",
       "      <td>0</td>\n",
       "    </tr>\n",
       "  </tbody>\n",
       "</table>\n",
       "</div>"
      ],
      "text/plain": [
       "        data_type                                          place pos_neg_dif                       printer  read_number    time_ns value\n",
       "18345   th1_input  tb.top.adc_fe.qrt3.bmod_sniffer.th1_sniffer_0           p  MSV_REPORT_DATA_PATH_MONITOR        159.0  1643.5054     0\n",
       "18346   th1_input  tb.top.adc_fe.qrt3.bmod_sniffer.th1_sniffer_0           n  MSV_REPORT_DATA_PATH_MONITOR        159.0  1643.5054     0\n",
       "18347  th1_output  tb.top.adc_fe.qrt3.bmod_sniffer.th1_sniffer_0           d  MSV_REPORT_DATA_PATH_MONITOR        159.0  1643.5054     0\n",
       "18348  th1_output  tb.top.adc_fe.qrt3.bmod_sniffer.th1_sniffer_0           p  MSV_REPORT_DATA_PATH_MONITOR        159.0  1643.5054     0\n",
       "18349  th1_output  tb.top.adc_fe.qrt3.bmod_sniffer.th1_sniffer_0           n  MSV_REPORT_DATA_PATH_MONITOR        159.0  1643.5054     0"
      ]
     },
     "execution_count": 51,
     "metadata": {},
     "output_type": "execute_result"
    }
   ],
   "source": [
    "# display(df.sample(10))\n",
    "df.describe(include=np.object)\n",
    "df.tail()"
   ]
  }
 ],
 "metadata": {
  "kernelspec": {
   "display_name": "Python 3",
   "language": "python",
   "name": "python3"
  },
  "language_info": {
   "codemirror_mode": {
    "name": "ipython",
    "version": 3
   },
   "file_extension": ".py",
   "mimetype": "text/x-python",
   "name": "python",
   "nbconvert_exporter": "python",
   "pygments_lexer": "ipython3",
   "version": "3.6.3"
  }
 },
 "nbformat": 4,
 "nbformat_minor": 2
}
