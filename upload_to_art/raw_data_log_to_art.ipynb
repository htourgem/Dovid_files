{
 "cells": [
  {
   "cell_type": "code",
   "execution_count": 4,
   "metadata": {},
   "outputs": [],
   "source": [
    "import sys, os\n",
    "import logs_to_art\n",
    "import ipywidgets as widgets"
   ]
  },
  {
   "cell_type": "code",
   "execution_count": 6,
   "metadata": {
    "scrolled": false
   },
   "outputs": [
    {
     "data": {
      "application/vnd.jupyter.widget-view+json": {
       "model_id": "233c523986d64d3fbbb4abbab752d7af",
       "version_major": 2,
       "version_minor": 0
      },
      "text/plain": [
       "GridspecLayout(children=(Text(value='/nfs/iil/disks/hip_ckt/users/dgottesm/analysis_and_tools/voila_streamlit/…"
      ]
     },
     "metadata": {},
     "output_type": "display_data"
    }
   ],
   "source": [
    "first_widgets_col_px='90%'\n",
    "wd = %pwd\n",
    "repo_path = os.path.dirname(wd)\n",
    "log_path=widgets.Text(value=repo_path+'/upload_to_art/a_lot_of_spurs.csv', description='log path', layout=dict(width='90%'))\n",
    "user=widgets.Text(placeholder='my_username', value='', description='user name:', layout=dict(width=first_widgets_col_px))\n",
    "first_dict=widgets.Text(value='', placeholder='''{\"number_of_octs\":16,\"number_of_sars\":4,\"sampling_rate_ghz\":56}''', description='first dict', layout=dict(width=first_widgets_col_px))\n",
    "hidden_dict=widgets.Text(value='', placeholder='''{\"stam\":\"non valid data\"}''', description='hidden dict', layout=dict(width=first_widgets_col_px))\n",
    "session_name=widgets.Text(value='session_name', description='session name', layout=dict(width=first_widgets_col_px), style=dict(description_width='initial'))\n",
    "log_type=widgets.ToggleButtons(options=['msv log', 'raw data', 'virtuoso csv'],description='log type',button_style='',value='raw data')\n",
    "take_from_begining_of_log=widgets.Checkbox(value=False, description='take from begining of log',disabled=False)\n",
    "how_many_samples_to_drop=widgets.IntText(value=0, description='number of samples to drop:', layout=dict(width='60'), style=dict(description_width='initial'), disabled=False)\n",
    "how_many_samples_to_upload=widgets.IntText(value=32768, description='number of samples to take:', layout=dict(width='60'), style=dict(description_width='initial'), disabled=False)\n",
    "which_place_at_msv_report=widgets.ToggleButtons(options=['csv', 'sar_output', 'align_output', 'th1_input','th1_output','th2_input','th2_output','digtop_input','digtop_output','tx_pad_output','tx_slc_out','tx_pg_setup_time','tx_pg_hold_time'],description='place at msv report:',button_style='', style=dict(description_width='initial'))\n",
    "project_name=widgets.ToggleButtons(options=['Falcon', 'BRK_GEN1', 'BRK_GEN2'],description='project name',button_style='',value='Falcon')\n",
    "project_step=widgets.ToggleButtons(options=['TC1', 'TC2', 'TC3','A0','B0'],description='project step',button_style='',value='TC2')\n",
    "run=widgets.Button(description='run', disabled=False, button_style='success')\n",
    "output=widgets.Output(layout=widgets.Layout(overflow_y='scroll', height='1500px'))\n",
    "\n",
    "# def run_func(dummy=None, log_path=log_path,user=user, first_dict=first_dict,session_name=session_name,project_name=project_name,hidden_dict=hidden_dict,log_type=log_type,take_from_begining_of_log=take_from_begining_of_log,how_many_samples_to_drop=how_many_samples_to_drop,how_many_samples_to_upload=how_many_samples_to_upload,which_place_at_msv_report=which_place_at_msv_report):\n",
    "def run_func(dummy=None):\n",
    "    global log_path, user, first_dict, session_name, project_name, project_step, hidden_dict, log_type, take_from_begining_of_log, how_many_samples_to_drop, how_many_samples_to_upload, which_place_at_msv_report, first_dict, hidden_dict, first_dict, hidden_dict, output\n",
    "    \n",
    "    first_dict_content=dict()\n",
    "    hidden_dict_content=dict()\n",
    "    output.clear_output()\n",
    "    \n",
    "\n",
    "    with output:\n",
    "        if not len(first_dict.value):\n",
    "                first_dict_content=dict()\n",
    "        else:\n",
    "            try:\n",
    "                first_dict_content.update(eval(first_dict.value))\n",
    "            except: \n",
    "                print('first_dict doest contains dict, so replacing it with empty dict')\n",
    "        if not len(hidden_dict.value):\n",
    "                hidden_dict_content=dict()\n",
    "        else:\n",
    "            try:\n",
    "                hidden_dict_content.update(eval(hidden_dict.value))\n",
    "            except: \n",
    "                print('hidden_dict doest contains dict, so replacing it with empty dict')\n",
    "        if 'number_of_octs' not in first_dict_content.keys():\n",
    "            if project_name.value=='BRK_GEN1':\n",
    "                first_dict_content.update(dict(number_of_octs=8, number_of_sars=8))\n",
    "            else:\n",
    "                first_dict_content.update(dict(number_of_octs=16, number_of_sars=4))\n",
    "        if 'sampling_rate_ghz' not in first_dict_content.keys():\n",
    "            if project_name.value=='Falcon':\n",
    "                first_dict_content.update(dict(sampling_rate_ghz=112))\n",
    "            else:\n",
    "                first_dict_content.update(dict(sampling_rate_ghz=56))\n",
    "        if not len(user.value):\n",
    "            print('you must enter user name')\n",
    "            return\n",
    "        if how_many_samples_to_upload.value<1:\n",
    "            print('how_many_samples_to_upload has non positive value')\n",
    "            return\n",
    "        if how_many_samples_to_drop.value<0 or how_many_samples_to_drop.value>how_many_samples_to_upload.value:\n",
    "            print('how_many_samples_to_drop has non positive value or more than how_many_samples_to_upload')\n",
    "            return \n",
    "        first_dict_content.setdefault('TestName','misc')\n",
    "        logs_to_art.raw_data_from_logs_to_art(logs_path_with_asterisk=log_path.value, \n",
    "                                   user=user.value,\n",
    "                                   dct=first_dict_content, \n",
    "                                   session_name=session_name.value, \n",
    "                                   project_name=project_name.value,\n",
    "                                   project_step=project_step.value,\n",
    "                                   hidden_dict = hidden_dict_content,\n",
    "                                   log_type = log_type.value,\n",
    "                                   how_many_samples_to_upload = how_many_samples_to_upload.value,\n",
    "                                   how_many_samples_to_drop = how_many_samples_to_drop.value,\n",
    "                                   take_from_begining_of_log = take_from_begining_of_log.value,\n",
    "                                   which_place_at_msv_report = which_place_at_msv_report.value)\n",
    "\n",
    "        \n",
    "run.on_click(run_func)\n",
    "\n",
    "# def msv_or_raw(msv_log):\n",
    "#     if msv_log:\n",
    "#         which_place_at_msv_report.traits\n",
    "# log_type.observe(msv_or_raw, names='value')\n",
    "\n",
    "grid = widgets.GridspecLayout(50, 2, height='2000px', width='950px') # note that grid \n",
    "grid[0, 0:2] = log_path\n",
    "grid[1, 0:2] = first_dict\n",
    "grid[2, 0] = user\n",
    "grid[3, 0] = hidden_dict\n",
    "grid[4, 0] = session_name\n",
    "grid[2, 1] = take_from_begining_of_log\n",
    "grid[3, 1] = how_many_samples_to_drop\n",
    "grid[4, 1] = how_many_samples_to_upload\n",
    "grid[5, 0:2] = project_name\n",
    "grid[6, 0:2] = project_step\n",
    "grid[7, 0:2] = log_type\n",
    "grid[8, 0:2] = which_place_at_msv_report\n",
    "grid[9, 0] = run\n",
    "grid[10:50, 0:2] = output\n",
    "\n",
    "display(grid)"
   ]
  },
  {
   "cell_type": "code",
   "execution_count": null,
   "metadata": {},
   "outputs": [],
   "source": []
  }
 ],
 "metadata": {
  "kernelspec": {
   "display_name": "Python 3",
   "language": "python",
   "name": "python3"
  },
  "language_info": {
   "codemirror_mode": {
    "name": "ipython",
    "version": 3
   },
   "file_extension": ".py",
   "mimetype": "text/x-python",
   "name": "python",
   "nbconvert_exporter": "python",
   "pygments_lexer": "ipython3",
   "version": "3.6.3"
  },
  "widgets": {
   "application/vnd.jupyter.widget-state+json": {
    "state": {
     "079852c0da3748a5aa94972d99fec747": {
      "model_module": "@jupyter-widgets/controls",
      "model_module_version": "1.4.0",
      "model_name": "TextModel",
      "state": {
       "description": "session_name",
       "layout": "IPY_MODEL_5719ec83355a4d64860beea99a0a831a",
       "style": "IPY_MODEL_22546bbeecaf479aaa4e8ec79745f030",
       "value": "session_name"
      }
     },
     "13ee61472b694af691536df5a7e28b44": {
      "model_module": "@jupyter-widgets/controls",
      "model_module_version": "1.4.0",
      "model_name": "CheckboxModel",
      "state": {
       "description": "msv_log_type",
       "disabled": false,
       "layout": "IPY_MODEL_83a1a0422eab434ca21ed1654d372d71",
       "style": "IPY_MODEL_aa7a9aea1ca64d22b32faf76717e692d",
       "value": true
      }
     },
     "1c22f6ecf6ec422e93e6554358171b67": {
      "model_module": "@jupyter-widgets/controls",
      "model_module_version": "1.4.0",
      "model_name": "DescriptionStyleModel",
      "state": {
       "description_width": "initial"
      }
     },
     "22546bbeecaf479aaa4e8ec79745f030": {
      "model_module": "@jupyter-widgets/controls",
      "model_module_version": "1.4.0",
      "model_name": "DescriptionStyleModel",
      "state": {
       "description_width": ""
      }
     },
     "33e1d50705cf40e28d87e9eaab8c003e": {
      "model_module": "@jupyter-widgets/controls",
      "model_module_version": "1.4.0",
      "model_name": "CheckboxModel",
      "state": {
       "description": "take_from_begining_of_log",
       "disabled": false,
       "layout": "IPY_MODEL_b531ffdf213a4a1a94864458704f0f04",
       "style": "IPY_MODEL_3fff3dd1c64a413096384708066625b3",
       "value": false
      }
     },
     "3b7274225c17450b908cbdfb39c0d9fc": {
      "model_module": "@jupyter-widgets/controls",
      "model_module_version": "1.4.0",
      "model_name": "ToggleButtonModel",
      "state": {
       "button_style": "success",
       "description": "run",
       "layout": "IPY_MODEL_6d89163fba744afcafc73852815d0c9d",
       "style": "IPY_MODEL_64b8a018efd942b1970dd48cd385ffeb"
      }
     },
     "3fff3dd1c64a413096384708066625b3": {
      "model_module": "@jupyter-widgets/controls",
      "model_module_version": "1.4.0",
      "model_name": "DescriptionStyleModel",
      "state": {
       "description_width": ""
      }
     },
     "429929da9c3741c1bbf37255c308c485": {
      "model_module": "@jupyter-widgets/base",
      "model_module_version": "1.1.0",
      "model_name": "LayoutModel",
      "state": {}
     },
     "44fbd9d8561e455bb6c0e3314c5e4bdc": {
      "model_module": "@jupyter-widgets/controls",
      "model_module_version": "1.4.0",
      "model_name": "TextModel",
      "state": {
       "description": "user",
       "layout": "IPY_MODEL_6614d3c346524e50bde1c9655fa0df86",
       "style": "IPY_MODEL_7b89484f8df84b6d8cee4b5a27534db1",
       "value": "my_username"
      }
     },
     "4f1a15f9b8d04c2080edeed20f30d1a3": {
      "model_module": "@jupyter-widgets/controls",
      "model_module_version": "1.4.0",
      "model_name": "DescriptionStyleModel",
      "state": {
       "description_width": ""
      }
     },
     "5719ec83355a4d64860beea99a0a831a": {
      "model_module": "@jupyter-widgets/base",
      "model_module_version": "1.1.0",
      "model_name": "LayoutModel",
      "state": {}
     },
     "5acc5ac09a3d47d29804e0c2b78d7f64": {
      "model_module": "@jupyter-widgets/controls",
      "model_module_version": "1.4.0",
      "model_name": "DescriptionStyleModel",
      "state": {
       "description_width": ""
      }
     },
     "5cc79159f6e8480ea40532160f6bdf8b": {
      "model_module": "@jupyter-widgets/controls",
      "model_module_version": "1.4.0",
      "model_name": "IntTextModel",
      "state": {
       "description": "number of samples to drop:",
       "layout": "IPY_MODEL_8232d0eabd5847db856159010b18bfda",
       "step": 1,
       "style": "IPY_MODEL_d536a1123b204072ae5e879d9693dcb8"
      }
     },
     "609ca0155a8a418c8fe39c6e35ad6984": {
      "model_module": "@jupyter-widgets/output",
      "model_module_version": "1.0.0",
      "model_name": "OutputModel",
      "state": {
       "layout": "IPY_MODEL_429929da9c3741c1bbf37255c308c485"
      }
     },
     "60b82d5781554bf9b481bc7414490455": {
      "model_module": "@jupyter-widgets/base",
      "model_module_version": "1.1.0",
      "model_name": "LayoutModel",
      "state": {}
     },
     "60d14d32999a4915960a57343128a0fe": {
      "model_module": "@jupyter-widgets/controls",
      "model_module_version": "1.4.0",
      "model_name": "IntTextModel",
      "state": {
       "description": "number of samples to take:",
       "layout": "IPY_MODEL_d4e99ffa11cc49f0864cc2034b1a9206",
       "step": 1,
       "style": "IPY_MODEL_1c22f6ecf6ec422e93e6554358171b67",
       "value": 32768
      }
     },
     "63b236b4b45e42a29be4c10a7cc0a4e0": {
      "model_module": "@jupyter-widgets/base",
      "model_module_version": "1.1.0",
      "model_name": "LayoutModel",
      "state": {}
     },
     "64b8a018efd942b1970dd48cd385ffeb": {
      "model_module": "@jupyter-widgets/controls",
      "model_module_version": "1.4.0",
      "model_name": "DescriptionStyleModel",
      "state": {
       "description_width": ""
      }
     },
     "6614d3c346524e50bde1c9655fa0df86": {
      "model_module": "@jupyter-widgets/base",
      "model_module_version": "1.1.0",
      "model_name": "LayoutModel",
      "state": {}
     },
     "6d89163fba744afcafc73852815d0c9d": {
      "model_module": "@jupyter-widgets/base",
      "model_module_version": "1.1.0",
      "model_name": "LayoutModel",
      "state": {}
     },
     "7b89484f8df84b6d8cee4b5a27534db1": {
      "model_module": "@jupyter-widgets/controls",
      "model_module_version": "1.4.0",
      "model_name": "DescriptionStyleModel",
      "state": {
       "description_width": ""
      }
     },
     "7e5de124d5e840e79e091448c33a9dcf": {
      "model_module": "@jupyter-widgets/base",
      "model_module_version": "1.1.0",
      "model_name": "LayoutModel",
      "state": {}
     },
     "8232d0eabd5847db856159010b18bfda": {
      "model_module": "@jupyter-widgets/base",
      "model_module_version": "1.1.0",
      "model_name": "LayoutModel",
      "state": {
       "width": "60"
      }
     },
     "83a1a0422eab434ca21ed1654d372d71": {
      "model_module": "@jupyter-widgets/base",
      "model_module_version": "1.1.0",
      "model_name": "LayoutModel",
      "state": {}
     },
     "8dcf457172b4495cab0563e3ce63c962": {
      "model_module": "@jupyter-widgets/base",
      "model_module_version": "1.1.0",
      "model_name": "LayoutModel",
      "state": {}
     },
     "9b7223691e13488fb824c74deaba8506": {
      "model_module": "@jupyter-widgets/controls",
      "model_module_version": "1.4.0",
      "model_name": "ToggleButtonsStyleModel",
      "state": {
       "button_width": "",
       "description_width": ""
      }
     },
     "9fd27586960247f4aff331c57e1905e8": {
      "model_module": "@jupyter-widgets/controls",
      "model_module_version": "1.4.0",
      "model_name": "TextModel",
      "state": {
       "description": "first_dict",
       "layout": "IPY_MODEL_60b82d5781554bf9b481bc7414490455",
       "style": "IPY_MODEL_5acc5ac09a3d47d29804e0c2b78d7f64",
       "value": "{\"hi\":4}"
      }
     },
     "aa7a9aea1ca64d22b32faf76717e692d": {
      "model_module": "@jupyter-widgets/controls",
      "model_module_version": "1.4.0",
      "model_name": "DescriptionStyleModel",
      "state": {
       "description_width": ""
      }
     },
     "b531ffdf213a4a1a94864458704f0f04": {
      "model_module": "@jupyter-widgets/base",
      "model_module_version": "1.1.0",
      "model_name": "LayoutModel",
      "state": {}
     },
     "c0b6d3a138254e18add85baf4e6ed352": {
      "model_module": "@jupyter-widgets/controls",
      "model_module_version": "1.4.0",
      "model_name": "DescriptionStyleModel",
      "state": {
       "description_width": ""
      }
     },
     "d113051ba2854d1bb6b69ceb291d22f4": {
      "model_module": "@jupyter-widgets/controls",
      "model_module_version": "1.4.0",
      "model_name": "VBoxModel",
      "state": {
       "_dom_classes": [
        "widget-interact"
       ],
       "children": [
        "IPY_MODEL_edb2c042a42744da848283bd3e4e4139",
        "IPY_MODEL_44fbd9d8561e455bb6c0e3314c5e4bdc",
        "IPY_MODEL_9fd27586960247f4aff331c57e1905e8",
        "IPY_MODEL_079852c0da3748a5aa94972d99fec747",
        "IPY_MODEL_d2c9ea2f81594e7cb80a037eb0f3f386",
        "IPY_MODEL_e36270a9ee824d2bb15d6aefe84847c4",
        "IPY_MODEL_13ee61472b694af691536df5a7e28b44",
        "IPY_MODEL_33e1d50705cf40e28d87e9eaab8c003e",
        "IPY_MODEL_5cc79159f6e8480ea40532160f6bdf8b",
        "IPY_MODEL_60d14d32999a4915960a57343128a0fe",
        "IPY_MODEL_f8df8c9c335049f79089bb5c42109340",
        "IPY_MODEL_3b7274225c17450b908cbdfb39c0d9fc",
        "IPY_MODEL_609ca0155a8a418c8fe39c6e35ad6984"
       ],
       "layout": "IPY_MODEL_f1095e3bae1446a893d8246830c60f6d"
      }
     },
     "d2c9ea2f81594e7cb80a037eb0f3f386": {
      "model_module": "@jupyter-widgets/controls",
      "model_module_version": "1.4.0",
      "model_name": "ToggleButtonsModel",
      "state": {
       "_options_labels": [
        "BRK_GEN1",
        "BRK_GEN2"
       ],
       "button_style": "",
       "description": "project_name",
       "icons": [],
       "index": 0,
       "layout": "IPY_MODEL_7e5de124d5e840e79e091448c33a9dcf",
       "style": "IPY_MODEL_9b7223691e13488fb824c74deaba8506",
       "tooltips": []
      }
     },
     "d4e99ffa11cc49f0864cc2034b1a9206": {
      "model_module": "@jupyter-widgets/base",
      "model_module_version": "1.1.0",
      "model_name": "LayoutModel",
      "state": {
       "width": "60"
      }
     },
     "d536a1123b204072ae5e879d9693dcb8": {
      "model_module": "@jupyter-widgets/controls",
      "model_module_version": "1.4.0",
      "model_name": "DescriptionStyleModel",
      "state": {
       "description_width": "initial"
      }
     },
     "d9241624cd29470787d4ab940136d444": {
      "model_module": "@jupyter-widgets/controls",
      "model_module_version": "1.4.0",
      "model_name": "DescriptionStyleModel",
      "state": {
       "description_width": ""
      }
     },
     "e36270a9ee824d2bb15d6aefe84847c4": {
      "model_module": "@jupyter-widgets/controls",
      "model_module_version": "1.4.0",
      "model_name": "TextModel",
      "state": {
       "description": "hidden_dict",
       "layout": "IPY_MODEL_63b236b4b45e42a29be4c10a7cc0a4e0",
       "style": "IPY_MODEL_d9241624cd29470787d4ab940136d444",
       "value": "{\"hi\":4}"
      }
     },
     "edb2c042a42744da848283bd3e4e4139": {
      "model_module": "@jupyter-widgets/controls",
      "model_module_version": "1.4.0",
      "model_name": "TextModel",
      "state": {
       "description": "log_path",
       "layout": "IPY_MODEL_f1ab3b5513c34cab831822a2f249757b",
       "style": "IPY_MODEL_4f1a15f9b8d04c2080edeed20f30d1a3",
       "value": "./log"
      }
     },
     "f1095e3bae1446a893d8246830c60f6d": {
      "model_module": "@jupyter-widgets/base",
      "model_module_version": "1.1.0",
      "model_name": "LayoutModel",
      "state": {}
     },
     "f1ab3b5513c34cab831822a2f249757b": {
      "model_module": "@jupyter-widgets/base",
      "model_module_version": "1.1.0",
      "model_name": "LayoutModel",
      "state": {
       "width": "80%"
      }
     },
     "f8df8c9c335049f79089bb5c42109340": {
      "model_module": "@jupyter-widgets/controls",
      "model_module_version": "1.4.0",
      "model_name": "TextModel",
      "state": {
       "description": "which_place_at_msv_report",
       "layout": "IPY_MODEL_8dcf457172b4495cab0563e3ce63c962",
       "style": "IPY_MODEL_c0b6d3a138254e18add85baf4e6ed352",
       "value": "align_output"
      }
     }
    },
    "version_major": 2,
    "version_minor": 0
   }
  }
 },
 "nbformat": 4,
 "nbformat_minor": 2
}
